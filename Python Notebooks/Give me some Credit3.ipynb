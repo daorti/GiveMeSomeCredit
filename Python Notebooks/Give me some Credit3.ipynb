{
 "cells": [
  {
   "cell_type": "markdown",
   "metadata": {},
   "source": [
    "# Give me some Credit\n",
    "\n",
    "**Data**\n",
    "\n",
    "**SeriousDlqin2yrs:** Person experienced 90 days past due delinquency or worse\n",
    "\n",
    "**RevolvingUtilizationOfUnsecuredLines:** Total balance on credit cards and personal lines of credit except real estate and no installment debt like car loans divided by the sum of credit limits\n",
    "\n",
    "**age:** Age of borrower in years\n",
    "\n",
    "**NumberOfTime30-59DaysPastDueNotWorse:** Number of times borrower has been 30-59 days past due but no worse in the last 2 years.\n",
    "\n",
    "**DebtRatio:** Monthly debt payments, alimony,living costs divided by monthy gross income\n",
    "\n",
    "**MonthlyIncome:** Monthly income\n",
    "\n",
    "**NumberOfOpenCreditLinesAndLoans:** Number of Open loans (installment like car loan or mortgage) and Lines of credit (e.g. credit cards)\n",
    "\n",
    "**NumberOfTimes90DaysLate:** Number of times borrower has been 90 days or more past due.\n",
    "\n",
    "**NumberRealEstateLoansOrLines:** Number of mortgage and real estate loans including home equity lines of credit\n",
    "\n",
    "**NumberOfTime60-89DaysPastDueNotWorse:** Number of times borrower has been 60-89 days past due but no worse in the last 2 years.\n",
    "\n",
    "**NumberOfDependents:** Number of dependents in family excluding themselves (spouse, children etc.)"
   ]
  },
  {
   "cell_type": "code",
   "execution_count": 1,
   "metadata": {
    "collapsed": true
   },
   "outputs": [],
   "source": [
    "import pandas as pd\n",
    "import numpy as np\n",
    "import seaborn as sns\n",
    "import matplotlib.pyplot as plt"
   ]
  },
  {
   "cell_type": "code",
   "execution_count": 5,
   "metadata": {},
   "outputs": [],
   "source": [
    "credit_df = pd.read_csv(\"data/cs-training.csv\")\n",
    "credit_test_df = pd.read_csv(\"data/cs-test.csv\")"
   ]
  },
  {
   "cell_type": "code",
   "execution_count": 6,
   "metadata": {},
   "outputs": [
    {
     "data": {
      "text/html": [
       "<div>\n",
       "<style>\n",
       "    .dataframe thead tr:only-child th {\n",
       "        text-align: right;\n",
       "    }\n",
       "\n",
       "    .dataframe thead th {\n",
       "        text-align: left;\n",
       "    }\n",
       "\n",
       "    .dataframe tbody tr th {\n",
       "        vertical-align: top;\n",
       "    }\n",
       "</style>\n",
       "<table border=\"1\" class=\"dataframe\">\n",
       "  <thead>\n",
       "    <tr style=\"text-align: right;\">\n",
       "      <th></th>\n",
       "      <th>Unnamed: 0</th>\n",
       "      <th>SeriousDlqin2yrs</th>\n",
       "      <th>RevolvingUtilizationOfUnsecuredLines</th>\n",
       "      <th>age</th>\n",
       "      <th>NumberOfTime30-59DaysPastDueNotWorse</th>\n",
       "      <th>DebtRatio</th>\n",
       "      <th>MonthlyIncome</th>\n",
       "      <th>NumberOfOpenCreditLinesAndLoans</th>\n",
       "      <th>NumberOfTimes90DaysLate</th>\n",
       "      <th>NumberRealEstateLoansOrLines</th>\n",
       "      <th>NumberOfTime60-89DaysPastDueNotWorse</th>\n",
       "      <th>NumberOfDependents</th>\n",
       "    </tr>\n",
       "  </thead>\n",
       "  <tbody>\n",
       "    <tr>\n",
       "      <th>0</th>\n",
       "      <td>1</td>\n",
       "      <td>NaN</td>\n",
       "      <td>0.885519</td>\n",
       "      <td>43</td>\n",
       "      <td>0</td>\n",
       "      <td>0.177513</td>\n",
       "      <td>5700.0</td>\n",
       "      <td>4</td>\n",
       "      <td>0</td>\n",
       "      <td>0</td>\n",
       "      <td>0</td>\n",
       "      <td>0.0</td>\n",
       "    </tr>\n",
       "    <tr>\n",
       "      <th>1</th>\n",
       "      <td>2</td>\n",
       "      <td>NaN</td>\n",
       "      <td>0.463295</td>\n",
       "      <td>57</td>\n",
       "      <td>0</td>\n",
       "      <td>0.527237</td>\n",
       "      <td>9141.0</td>\n",
       "      <td>15</td>\n",
       "      <td>0</td>\n",
       "      <td>4</td>\n",
       "      <td>0</td>\n",
       "      <td>2.0</td>\n",
       "    </tr>\n",
       "    <tr>\n",
       "      <th>2</th>\n",
       "      <td>3</td>\n",
       "      <td>NaN</td>\n",
       "      <td>0.043275</td>\n",
       "      <td>59</td>\n",
       "      <td>0</td>\n",
       "      <td>0.687648</td>\n",
       "      <td>5083.0</td>\n",
       "      <td>12</td>\n",
       "      <td>0</td>\n",
       "      <td>1</td>\n",
       "      <td>0</td>\n",
       "      <td>2.0</td>\n",
       "    </tr>\n",
       "    <tr>\n",
       "      <th>3</th>\n",
       "      <td>4</td>\n",
       "      <td>NaN</td>\n",
       "      <td>0.280308</td>\n",
       "      <td>38</td>\n",
       "      <td>1</td>\n",
       "      <td>0.925961</td>\n",
       "      <td>3200.0</td>\n",
       "      <td>7</td>\n",
       "      <td>0</td>\n",
       "      <td>2</td>\n",
       "      <td>0</td>\n",
       "      <td>0.0</td>\n",
       "    </tr>\n",
       "    <tr>\n",
       "      <th>4</th>\n",
       "      <td>5</td>\n",
       "      <td>NaN</td>\n",
       "      <td>1.000000</td>\n",
       "      <td>27</td>\n",
       "      <td>0</td>\n",
       "      <td>0.019917</td>\n",
       "      <td>3865.0</td>\n",
       "      <td>4</td>\n",
       "      <td>0</td>\n",
       "      <td>0</td>\n",
       "      <td>0</td>\n",
       "      <td>1.0</td>\n",
       "    </tr>\n",
       "  </tbody>\n",
       "</table>\n",
       "</div>"
      ],
      "text/plain": [
       "   Unnamed: 0  SeriousDlqin2yrs  RevolvingUtilizationOfUnsecuredLines  age  \\\n",
       "0           1               NaN                              0.885519   43   \n",
       "1           2               NaN                              0.463295   57   \n",
       "2           3               NaN                              0.043275   59   \n",
       "3           4               NaN                              0.280308   38   \n",
       "4           5               NaN                              1.000000   27   \n",
       "\n",
       "   NumberOfTime30-59DaysPastDueNotWorse  DebtRatio  MonthlyIncome  \\\n",
       "0                                     0   0.177513         5700.0   \n",
       "1                                     0   0.527237         9141.0   \n",
       "2                                     0   0.687648         5083.0   \n",
       "3                                     1   0.925961         3200.0   \n",
       "4                                     0   0.019917         3865.0   \n",
       "\n",
       "   NumberOfOpenCreditLinesAndLoans  NumberOfTimes90DaysLate  \\\n",
       "0                                4                        0   \n",
       "1                               15                        0   \n",
       "2                               12                        0   \n",
       "3                                7                        0   \n",
       "4                                4                        0   \n",
       "\n",
       "   NumberRealEstateLoansOrLines  NumberOfTime60-89DaysPastDueNotWorse  \\\n",
       "0                             0                                     0   \n",
       "1                             4                                     0   \n",
       "2                             1                                     0   \n",
       "3                             2                                     0   \n",
       "4                             0                                     0   \n",
       "\n",
       "   NumberOfDependents  \n",
       "0                 0.0  \n",
       "1                 2.0  \n",
       "2                 2.0  \n",
       "3                 0.0  \n",
       "4                 1.0  "
      ]
     },
     "execution_count": 6,
     "metadata": {},
     "output_type": "execute_result"
    }
   ],
   "source": [
    "credit_test_df.head()"
   ]
  },
  {
   "cell_type": "markdown",
   "metadata": {},
   "source": [
    "## Data Exploration"
   ]
  },
  {
   "cell_type": "code",
   "execution_count": 7,
   "metadata": {},
   "outputs": [],
   "source": [
    "# drop the row id column \n",
    "credit_df =credit_df.drop(credit_df.columns[0],axis=1)\n",
    "credit_test_df =credit_test_df.drop(credit_test_df.columns[0],axis=1)"
   ]
  },
  {
   "cell_type": "code",
   "execution_count": 8,
   "metadata": {},
   "outputs": [
    {
     "data": {
      "text/plain": [
       "Index(['SeriousDlqin2yrs', 'RevolvingUtilizationOfUnsecuredLines', 'age',\n",
       "       'NumberOfTime30-59DaysPastDueNotWorse', 'DebtRatio', 'MonthlyIncome',\n",
       "       'NumberOfOpenCreditLinesAndLoans', 'NumberOfTimes90DaysLate',\n",
       "       'NumberRealEstateLoansOrLines', 'NumberOfTime60-89DaysPastDueNotWorse',\n",
       "       'NumberOfDependents'],\n",
       "      dtype='object')"
      ]
     },
     "execution_count": 8,
     "metadata": {},
     "output_type": "execute_result"
    }
   ],
   "source": [
    "credit_df.columns"
   ]
  },
  {
   "cell_type": "code",
   "execution_count": 9,
   "metadata": {},
   "outputs": [
    {
     "data": {
      "text/html": [
       "<div>\n",
       "<style>\n",
       "    .dataframe thead tr:only-child th {\n",
       "        text-align: right;\n",
       "    }\n",
       "\n",
       "    .dataframe thead th {\n",
       "        text-align: left;\n",
       "    }\n",
       "\n",
       "    .dataframe tbody tr th {\n",
       "        vertical-align: top;\n",
       "    }\n",
       "</style>\n",
       "<table border=\"1\" class=\"dataframe\">\n",
       "  <thead>\n",
       "    <tr style=\"text-align: right;\">\n",
       "      <th></th>\n",
       "      <th>SeriousDlqin2yrs</th>\n",
       "      <th>RevolvingUtilizationOfUnsecuredLines</th>\n",
       "      <th>age</th>\n",
       "      <th>NumberOfTime30-59DaysPastDueNotWorse</th>\n",
       "      <th>DebtRatio</th>\n",
       "      <th>MonthlyIncome</th>\n",
       "      <th>NumberOfOpenCreditLinesAndLoans</th>\n",
       "      <th>NumberOfTimes90DaysLate</th>\n",
       "      <th>NumberRealEstateLoansOrLines</th>\n",
       "      <th>NumberOfTime60-89DaysPastDueNotWorse</th>\n",
       "      <th>NumberOfDependents</th>\n",
       "    </tr>\n",
       "  </thead>\n",
       "  <tbody>\n",
       "    <tr>\n",
       "      <th>count</th>\n",
       "      <td>150000.000000</td>\n",
       "      <td>150000.000000</td>\n",
       "      <td>150000.000000</td>\n",
       "      <td>150000.000000</td>\n",
       "      <td>150000.000000</td>\n",
       "      <td>1.202690e+05</td>\n",
       "      <td>150000.000000</td>\n",
       "      <td>150000.000000</td>\n",
       "      <td>150000.000000</td>\n",
       "      <td>150000.000000</td>\n",
       "      <td>146076.000000</td>\n",
       "    </tr>\n",
       "    <tr>\n",
       "      <th>mean</th>\n",
       "      <td>0.066840</td>\n",
       "      <td>6.048438</td>\n",
       "      <td>52.295207</td>\n",
       "      <td>0.421033</td>\n",
       "      <td>353.005076</td>\n",
       "      <td>6.670221e+03</td>\n",
       "      <td>8.452760</td>\n",
       "      <td>0.265973</td>\n",
       "      <td>1.018240</td>\n",
       "      <td>0.240387</td>\n",
       "      <td>0.757222</td>\n",
       "    </tr>\n",
       "    <tr>\n",
       "      <th>std</th>\n",
       "      <td>0.249746</td>\n",
       "      <td>249.755371</td>\n",
       "      <td>14.771866</td>\n",
       "      <td>4.192781</td>\n",
       "      <td>2037.818523</td>\n",
       "      <td>1.438467e+04</td>\n",
       "      <td>5.145951</td>\n",
       "      <td>4.169304</td>\n",
       "      <td>1.129771</td>\n",
       "      <td>4.155179</td>\n",
       "      <td>1.115086</td>\n",
       "    </tr>\n",
       "    <tr>\n",
       "      <th>min</th>\n",
       "      <td>0.000000</td>\n",
       "      <td>0.000000</td>\n",
       "      <td>0.000000</td>\n",
       "      <td>0.000000</td>\n",
       "      <td>0.000000</td>\n",
       "      <td>0.000000e+00</td>\n",
       "      <td>0.000000</td>\n",
       "      <td>0.000000</td>\n",
       "      <td>0.000000</td>\n",
       "      <td>0.000000</td>\n",
       "      <td>0.000000</td>\n",
       "    </tr>\n",
       "    <tr>\n",
       "      <th>25%</th>\n",
       "      <td>0.000000</td>\n",
       "      <td>0.029867</td>\n",
       "      <td>41.000000</td>\n",
       "      <td>0.000000</td>\n",
       "      <td>0.175074</td>\n",
       "      <td>3.400000e+03</td>\n",
       "      <td>5.000000</td>\n",
       "      <td>0.000000</td>\n",
       "      <td>0.000000</td>\n",
       "      <td>0.000000</td>\n",
       "      <td>0.000000</td>\n",
       "    </tr>\n",
       "    <tr>\n",
       "      <th>50%</th>\n",
       "      <td>0.000000</td>\n",
       "      <td>0.154181</td>\n",
       "      <td>52.000000</td>\n",
       "      <td>0.000000</td>\n",
       "      <td>0.366508</td>\n",
       "      <td>5.400000e+03</td>\n",
       "      <td>8.000000</td>\n",
       "      <td>0.000000</td>\n",
       "      <td>1.000000</td>\n",
       "      <td>0.000000</td>\n",
       "      <td>0.000000</td>\n",
       "    </tr>\n",
       "    <tr>\n",
       "      <th>75%</th>\n",
       "      <td>0.000000</td>\n",
       "      <td>0.559046</td>\n",
       "      <td>63.000000</td>\n",
       "      <td>0.000000</td>\n",
       "      <td>0.868254</td>\n",
       "      <td>8.249000e+03</td>\n",
       "      <td>11.000000</td>\n",
       "      <td>0.000000</td>\n",
       "      <td>2.000000</td>\n",
       "      <td>0.000000</td>\n",
       "      <td>1.000000</td>\n",
       "    </tr>\n",
       "    <tr>\n",
       "      <th>max</th>\n",
       "      <td>1.000000</td>\n",
       "      <td>50708.000000</td>\n",
       "      <td>109.000000</td>\n",
       "      <td>98.000000</td>\n",
       "      <td>329664.000000</td>\n",
       "      <td>3.008750e+06</td>\n",
       "      <td>58.000000</td>\n",
       "      <td>98.000000</td>\n",
       "      <td>54.000000</td>\n",
       "      <td>98.000000</td>\n",
       "      <td>20.000000</td>\n",
       "    </tr>\n",
       "  </tbody>\n",
       "</table>\n",
       "</div>"
      ],
      "text/plain": [
       "       SeriousDlqin2yrs  RevolvingUtilizationOfUnsecuredLines            age  \\\n",
       "count     150000.000000                         150000.000000  150000.000000   \n",
       "mean           0.066840                              6.048438      52.295207   \n",
       "std            0.249746                            249.755371      14.771866   \n",
       "min            0.000000                              0.000000       0.000000   \n",
       "25%            0.000000                              0.029867      41.000000   \n",
       "50%            0.000000                              0.154181      52.000000   \n",
       "75%            0.000000                              0.559046      63.000000   \n",
       "max            1.000000                          50708.000000     109.000000   \n",
       "\n",
       "       NumberOfTime30-59DaysPastDueNotWorse      DebtRatio  MonthlyIncome  \\\n",
       "count                         150000.000000  150000.000000   1.202690e+05   \n",
       "mean                               0.421033     353.005076   6.670221e+03   \n",
       "std                                4.192781    2037.818523   1.438467e+04   \n",
       "min                                0.000000       0.000000   0.000000e+00   \n",
       "25%                                0.000000       0.175074   3.400000e+03   \n",
       "50%                                0.000000       0.366508   5.400000e+03   \n",
       "75%                                0.000000       0.868254   8.249000e+03   \n",
       "max                               98.000000  329664.000000   3.008750e+06   \n",
       "\n",
       "       NumberOfOpenCreditLinesAndLoans  NumberOfTimes90DaysLate  \\\n",
       "count                    150000.000000            150000.000000   \n",
       "mean                          8.452760                 0.265973   \n",
       "std                           5.145951                 4.169304   \n",
       "min                           0.000000                 0.000000   \n",
       "25%                           5.000000                 0.000000   \n",
       "50%                           8.000000                 0.000000   \n",
       "75%                          11.000000                 0.000000   \n",
       "max                          58.000000                98.000000   \n",
       "\n",
       "       NumberRealEstateLoansOrLines  NumberOfTime60-89DaysPastDueNotWorse  \\\n",
       "count                 150000.000000                         150000.000000   \n",
       "mean                       1.018240                              0.240387   \n",
       "std                        1.129771                              4.155179   \n",
       "min                        0.000000                              0.000000   \n",
       "25%                        0.000000                              0.000000   \n",
       "50%                        1.000000                              0.000000   \n",
       "75%                        2.000000                              0.000000   \n",
       "max                       54.000000                             98.000000   \n",
       "\n",
       "       NumberOfDependents  \n",
       "count       146076.000000  \n",
       "mean             0.757222  \n",
       "std              1.115086  \n",
       "min              0.000000  \n",
       "25%              0.000000  \n",
       "50%              0.000000  \n",
       "75%              1.000000  \n",
       "max             20.000000  "
      ]
     },
     "execution_count": 9,
     "metadata": {},
     "output_type": "execute_result"
    }
   ],
   "source": [
    "credit_df.describe()"
   ]
  },
  {
   "cell_type": "code",
   "execution_count": 10,
   "metadata": {},
   "outputs": [
    {
     "data": {
      "text/html": [
       "<div>\n",
       "<style>\n",
       "    .dataframe thead tr:only-child th {\n",
       "        text-align: right;\n",
       "    }\n",
       "\n",
       "    .dataframe thead th {\n",
       "        text-align: left;\n",
       "    }\n",
       "\n",
       "    .dataframe tbody tr th {\n",
       "        vertical-align: top;\n",
       "    }\n",
       "</style>\n",
       "<table border=\"1\" class=\"dataframe\">\n",
       "  <thead>\n",
       "    <tr style=\"text-align: right;\">\n",
       "      <th></th>\n",
       "      <th>SeriousDlqin2yrs</th>\n",
       "      <th>RevolvingUtilizationOfUnsecuredLines</th>\n",
       "      <th>age</th>\n",
       "      <th>NumberOfTime30-59DaysPastDueNotWorse</th>\n",
       "      <th>DebtRatio</th>\n",
       "      <th>MonthlyIncome</th>\n",
       "      <th>NumberOfOpenCreditLinesAndLoans</th>\n",
       "      <th>NumberOfTimes90DaysLate</th>\n",
       "      <th>NumberRealEstateLoansOrLines</th>\n",
       "      <th>NumberOfTime60-89DaysPastDueNotWorse</th>\n",
       "      <th>NumberOfDependents</th>\n",
       "    </tr>\n",
       "  </thead>\n",
       "  <tbody>\n",
       "    <tr>\n",
       "      <th>count</th>\n",
       "      <td>0.0</td>\n",
       "      <td>101503.000000</td>\n",
       "      <td>101503.000000</td>\n",
       "      <td>101503.000000</td>\n",
       "      <td>101503.000000</td>\n",
       "      <td>8.140000e+04</td>\n",
       "      <td>101503.000000</td>\n",
       "      <td>101503.000000</td>\n",
       "      <td>101503.000000</td>\n",
       "      <td>101503.000000</td>\n",
       "      <td>98877.000000</td>\n",
       "    </tr>\n",
       "    <tr>\n",
       "      <th>mean</th>\n",
       "      <td>NaN</td>\n",
       "      <td>5.310000</td>\n",
       "      <td>52.405436</td>\n",
       "      <td>0.453770</td>\n",
       "      <td>344.475020</td>\n",
       "      <td>6.855036e+03</td>\n",
       "      <td>8.453514</td>\n",
       "      <td>0.296691</td>\n",
       "      <td>1.013074</td>\n",
       "      <td>0.270317</td>\n",
       "      <td>0.769046</td>\n",
       "    </tr>\n",
       "    <tr>\n",
       "      <th>std</th>\n",
       "      <td>NaN</td>\n",
       "      <td>196.156039</td>\n",
       "      <td>14.779756</td>\n",
       "      <td>4.538487</td>\n",
       "      <td>1632.595231</td>\n",
       "      <td>3.650860e+04</td>\n",
       "      <td>5.144100</td>\n",
       "      <td>4.515859</td>\n",
       "      <td>1.110253</td>\n",
       "      <td>4.503578</td>\n",
       "      <td>1.136778</td>\n",
       "    </tr>\n",
       "    <tr>\n",
       "      <th>min</th>\n",
       "      <td>NaN</td>\n",
       "      <td>0.000000</td>\n",
       "      <td>21.000000</td>\n",
       "      <td>0.000000</td>\n",
       "      <td>0.000000</td>\n",
       "      <td>0.000000e+00</td>\n",
       "      <td>0.000000</td>\n",
       "      <td>0.000000</td>\n",
       "      <td>0.000000</td>\n",
       "      <td>0.000000</td>\n",
       "      <td>0.000000</td>\n",
       "    </tr>\n",
       "    <tr>\n",
       "      <th>25%</th>\n",
       "      <td>NaN</td>\n",
       "      <td>0.030131</td>\n",
       "      <td>41.000000</td>\n",
       "      <td>0.000000</td>\n",
       "      <td>0.173423</td>\n",
       "      <td>3.408000e+03</td>\n",
       "      <td>5.000000</td>\n",
       "      <td>0.000000</td>\n",
       "      <td>0.000000</td>\n",
       "      <td>0.000000</td>\n",
       "      <td>0.000000</td>\n",
       "    </tr>\n",
       "    <tr>\n",
       "      <th>50%</th>\n",
       "      <td>NaN</td>\n",
       "      <td>0.152586</td>\n",
       "      <td>52.000000</td>\n",
       "      <td>0.000000</td>\n",
       "      <td>0.364260</td>\n",
       "      <td>5.400000e+03</td>\n",
       "      <td>8.000000</td>\n",
       "      <td>0.000000</td>\n",
       "      <td>1.000000</td>\n",
       "      <td>0.000000</td>\n",
       "      <td>0.000000</td>\n",
       "    </tr>\n",
       "    <tr>\n",
       "      <th>75%</th>\n",
       "      <td>NaN</td>\n",
       "      <td>0.564225</td>\n",
       "      <td>63.000000</td>\n",
       "      <td>0.000000</td>\n",
       "      <td>0.851619</td>\n",
       "      <td>8.200000e+03</td>\n",
       "      <td>11.000000</td>\n",
       "      <td>0.000000</td>\n",
       "      <td>2.000000</td>\n",
       "      <td>0.000000</td>\n",
       "      <td>1.000000</td>\n",
       "    </tr>\n",
       "    <tr>\n",
       "      <th>max</th>\n",
       "      <td>NaN</td>\n",
       "      <td>21821.000000</td>\n",
       "      <td>104.000000</td>\n",
       "      <td>98.000000</td>\n",
       "      <td>268326.000000</td>\n",
       "      <td>7.727000e+06</td>\n",
       "      <td>85.000000</td>\n",
       "      <td>98.000000</td>\n",
       "      <td>37.000000</td>\n",
       "      <td>98.000000</td>\n",
       "      <td>43.000000</td>\n",
       "    </tr>\n",
       "  </tbody>\n",
       "</table>\n",
       "</div>"
      ],
      "text/plain": [
       "       SeriousDlqin2yrs  RevolvingUtilizationOfUnsecuredLines            age  \\\n",
       "count               0.0                         101503.000000  101503.000000   \n",
       "mean                NaN                              5.310000      52.405436   \n",
       "std                 NaN                            196.156039      14.779756   \n",
       "min                 NaN                              0.000000      21.000000   \n",
       "25%                 NaN                              0.030131      41.000000   \n",
       "50%                 NaN                              0.152586      52.000000   \n",
       "75%                 NaN                              0.564225      63.000000   \n",
       "max                 NaN                          21821.000000     104.000000   \n",
       "\n",
       "       NumberOfTime30-59DaysPastDueNotWorse      DebtRatio  MonthlyIncome  \\\n",
       "count                         101503.000000  101503.000000   8.140000e+04   \n",
       "mean                               0.453770     344.475020   6.855036e+03   \n",
       "std                                4.538487    1632.595231   3.650860e+04   \n",
       "min                                0.000000       0.000000   0.000000e+00   \n",
       "25%                                0.000000       0.173423   3.408000e+03   \n",
       "50%                                0.000000       0.364260   5.400000e+03   \n",
       "75%                                0.000000       0.851619   8.200000e+03   \n",
       "max                               98.000000  268326.000000   7.727000e+06   \n",
       "\n",
       "       NumberOfOpenCreditLinesAndLoans  NumberOfTimes90DaysLate  \\\n",
       "count                    101503.000000            101503.000000   \n",
       "mean                          8.453514                 0.296691   \n",
       "std                           5.144100                 4.515859   \n",
       "min                           0.000000                 0.000000   \n",
       "25%                           5.000000                 0.000000   \n",
       "50%                           8.000000                 0.000000   \n",
       "75%                          11.000000                 0.000000   \n",
       "max                          85.000000                98.000000   \n",
       "\n",
       "       NumberRealEstateLoansOrLines  NumberOfTime60-89DaysPastDueNotWorse  \\\n",
       "count                 101503.000000                         101503.000000   \n",
       "mean                       1.013074                              0.270317   \n",
       "std                        1.110253                              4.503578   \n",
       "min                        0.000000                              0.000000   \n",
       "25%                        0.000000                              0.000000   \n",
       "50%                        1.000000                              0.000000   \n",
       "75%                        2.000000                              0.000000   \n",
       "max                       37.000000                             98.000000   \n",
       "\n",
       "       NumberOfDependents  \n",
       "count        98877.000000  \n",
       "mean             0.769046  \n",
       "std              1.136778  \n",
       "min              0.000000  \n",
       "25%              0.000000  \n",
       "50%              0.000000  \n",
       "75%              1.000000  \n",
       "max             43.000000  "
      ]
     },
     "execution_count": 10,
     "metadata": {},
     "output_type": "execute_result"
    }
   ],
   "source": [
    "credit_test_df.describe()"
   ]
  },
  {
   "cell_type": "markdown",
   "metadata": {},
   "source": [
    "### Cómo de desbalanceada está la variable de salida: SeriousDlqin2yrs"
   ]
  },
  {
   "cell_type": "code",
   "execution_count": 11,
   "metadata": {},
   "outputs": [
    {
     "data": {
      "image/png": "[encoded data removed]",
      "text/plain": [
       "<matplotlib.figure.Figure at 0x18666c8be10>"
      ]
     },
     "metadata": {},
     "output_type": "display_data"
    }
   ],
   "source": [
    "ax = sns.countplot(x = credit_df.SeriousDlqin2yrs ,palette=\"Set1\")\n",
    "sns.set(font_scale=1.5)\n",
    "ax.set_ylim(top = 150000)\n",
    "ax.set_xlabel(' ')\n",
    "ax.set_ylabel(' ')\n",
    "fig = plt.gcf()\n",
    "fig.set_size_inches(10,5)\n",
    "ax.set_ylim(top=160000)\n",
    "plt.show()"
   ]
  },
  {
   "cell_type": "markdown",
   "metadata": {},
   "source": [
    "### NumberOfTime60-89DaysPastDueNotWorse, NumberOfTime30-59DaysPastDueNotWorse, NumberOfTimes90DaysLate : sustituir Outliers por la media"
   ]
  },
  {
   "cell_type": "code",
   "execution_count": 12,
   "metadata": {},
   "outputs": [
    {
     "data": {
      "text/plain": [
       "Counter({0: 142396,\n",
       "         1: 5731,\n",
       "         2: 1118,\n",
       "         3: 318,\n",
       "         4: 105,\n",
       "         5: 34,\n",
       "         6: 16,\n",
       "         7: 9,\n",
       "         8: 2,\n",
       "         9: 1,\n",
       "         11: 1,\n",
       "         96: 5,\n",
       "         98: 264})"
      ]
     },
     "execution_count": 12,
     "metadata": {},
     "output_type": "execute_result"
    }
   ],
   "source": [
    "from collections import Counter\n",
    "Counter(credit_df['NumberOfTime60-89DaysPastDueNotWorse'])"
   ]
  },
  {
   "cell_type": "code",
   "execution_count": 13,
   "metadata": {},
   "outputs": [
    {
     "data": {
      "text/plain": [
       "Counter({0: 126018,\n",
       "         1: 16033,\n",
       "         2: 4598,\n",
       "         3: 1754,\n",
       "         4: 747,\n",
       "         5: 342,\n",
       "         6: 140,\n",
       "         7: 54,\n",
       "         8: 25,\n",
       "         9: 12,\n",
       "         10: 4,\n",
       "         11: 1,\n",
       "         12: 2,\n",
       "         13: 1,\n",
       "         96: 5,\n",
       "         98: 264})"
      ]
     },
     "execution_count": 13,
     "metadata": {},
     "output_type": "execute_result"
    }
   ],
   "source": [
    "Counter(credit_df['NumberOfTime30-59DaysPastDueNotWorse'])"
   ]
  },
  {
   "cell_type": "code",
   "execution_count": 14,
   "metadata": {},
   "outputs": [
    {
     "data": {
      "text/plain": [
       "Counter({0: 141662,\n",
       "         1: 5243,\n",
       "         2: 1555,\n",
       "         3: 667,\n",
       "         4: 291,\n",
       "         5: 131,\n",
       "         6: 80,\n",
       "         7: 38,\n",
       "         8: 21,\n",
       "         9: 19,\n",
       "         10: 8,\n",
       "         11: 5,\n",
       "         12: 2,\n",
       "         13: 4,\n",
       "         14: 2,\n",
       "         15: 2,\n",
       "         17: 1,\n",
       "         96: 5,\n",
       "         98: 264})"
      ]
     },
     "execution_count": 14,
     "metadata": {},
     "output_type": "execute_result"
    }
   ],
   "source": [
    "Counter(credit_df['NumberOfTimes90DaysLate'])"
   ]
  },
  {
   "cell_type": "code",
   "execution_count": 15,
   "metadata": {
    "collapsed": true
   },
   "outputs": [],
   "source": [
    "def removeAndPutMedian(data):\n",
    "    Media = []\n",
    "    med = data.median()\n",
    "    for val in data:\n",
    "        if ((val == 98) | (val == 96)):\n",
    "            Media.append(med)\n",
    "        else:\n",
    "            Media.append(val)\n",
    "            \n",
    "    return Media"
   ]
  },
  {
   "cell_type": "code",
   "execution_count": 16,
   "metadata": {
    "collapsed": true
   },
   "outputs": [],
   "source": [
    "credit_df['NumberOfTime60-89DaysPastDueNotWorse'] = removeAndPutMedian(credit_df['NumberOfTime60-89DaysPastDueNotWorse'])\n",
    "credit_df['NumberOfTime30-59DaysPastDueNotWorse']=removeAndPutMedian(credit_df['NumberOfTime30-59DaysPastDueNotWorse'])\n",
    "credit_df['NumberOfTimes90DaysLate']=removeAndPutMedian(credit_df['NumberOfTimes90DaysLate'])"
   ]
  },
  {
   "cell_type": "code",
   "execution_count": 17,
   "metadata": {
    "collapsed": true
   },
   "outputs": [],
   "source": [
    "credit_test_df['NumberOfTime60-89DaysPastDueNotWorse'] = removeAndPutMedian(credit_test_df['NumberOfTime60-89DaysPastDueNotWorse'])\n",
    "credit_test_df['NumberOfTime30-59DaysPastDueNotWorse']=removeAndPutMedian(credit_test_df['NumberOfTime30-59DaysPastDueNotWorse'])\n",
    "credit_test_df['NumberOfTimes90DaysLate']=removeAndPutMedian(credit_test_df['NumberOfTimes90DaysLate'])"
   ]
  },
  {
   "cell_type": "markdown",
   "metadata": {},
   "source": [
    "### RevolvingUtilizationOfUnsecuredLines: eliminar Outliers"
   ]
  },
  {
   "cell_type": "code",
   "execution_count": 18,
   "metadata": {},
   "outputs": [
    {
     "data": {
      "text/plain": [
       "50708.0"
      ]
     },
     "execution_count": 18,
     "metadata": {},
     "output_type": "execute_result"
    }
   ],
   "source": [
    "#desviación tipica muy alta\n",
    "credit_df['RevolvingUtilizationOfUnsecuredLines'].max()"
   ]
  },
  {
   "cell_type": "code",
   "execution_count": 19,
   "metadata": {},
   "outputs": [
    {
     "data": {
      "image/png": "[encoded data removed]",
      "text/plain": [
       "<matplotlib.figure.Figure at 0x18666c76710>"
      ]
     },
     "metadata": {},
     "output_type": "display_data"
    }
   ],
   "source": [
    "sns.set(style=\"darkgrid\")\n",
    "g = sns.FacetGrid(credit_df[credit_df['RevolvingUtilizationOfUnsecuredLines']<2], margin_titles=True,aspect=5)\n",
    "g.map(plt.hist, \"RevolvingUtilizationOfUnsecuredLines\", color=\"steelblue\", bins=50, lw=0)\n",
    "plt.show()"
   ]
  },
  {
   "cell_type": "code",
   "execution_count": 20,
   "metadata": {},
   "outputs": [
    {
     "data": {
      "text/plain": [
       "371"
      ]
     },
     "execution_count": 20,
     "metadata": {},
     "output_type": "execute_result"
    }
   ],
   "source": [
    "credit_df['RevolvingUtilizationOfUnsecuredLines'][credit_df['RevolvingUtilizationOfUnsecuredLines']>2].count()"
   ]
  },
  {
   "cell_type": "code",
   "execution_count": 21,
   "metadata": {
    "collapsed": true
   },
   "outputs": [],
   "source": [
    "Revol= []\n",
    "for val in credit_df['RevolvingUtilizationOfUnsecuredLines']:\n",
    "    if val <= 2:\n",
    "        Revol.append(val)\n",
    "    else:\n",
    "        Revol.append(2)\n",
    "credit_df['RevolvingUtilizationOfUnsecuredLines']=Revol"
   ]
  },
  {
   "cell_type": "code",
   "execution_count": 22,
   "metadata": {
    "collapsed": true
   },
   "outputs": [],
   "source": [
    "Revol= []\n",
    "for val in credit_test_df['RevolvingUtilizationOfUnsecuredLines']:\n",
    "    if val <= 2:\n",
    "        Revol.append(val)\n",
    "    else:\n",
    "        Revol.append(2)\n",
    "credit_test_df['RevolvingUtilizationOfUnsecuredLines']=Revol"
   ]
  },
  {
   "cell_type": "markdown",
   "metadata": {},
   "source": [
    "### age: eliminamos un outlier en 0"
   ]
  },
  {
   "cell_type": "code",
   "execution_count": 23,
   "metadata": {},
   "outputs": [
    {
     "data": {
      "image/png": "[encoded data removed]",
      "text/plain": [
       "<matplotlib.figure.Figure at 0x18667ab1d30>"
      ]
     },
     "metadata": {},
     "output_type": "display_data"
    }
   ],
   "source": [
    "sns.set(style=\"darkgrid\")\n",
    "g = sns.FacetGrid(credit_df, margin_titles=True,aspect=5)\n",
    "g.map(plt.hist, \"age\", color=\"steelblue\", bins=50, lw=0)\n",
    "plt.show()"
   ]
  },
  {
   "cell_type": "code",
   "execution_count": 24,
   "metadata": {},
   "outputs": [
    {
     "data": {
      "text/plain": [
       "65695    0\n",
       "Name: age, dtype: int64"
      ]
     },
     "execution_count": 24,
     "metadata": {},
     "output_type": "execute_result"
    }
   ],
   "source": [
    "credit_df['age'][credit_df['age']<20]"
   ]
  },
  {
   "cell_type": "code",
   "execution_count": 25,
   "metadata": {},
   "outputs": [
    {
     "data": {
      "text/plain": [
       "109"
      ]
     },
     "execution_count": 25,
     "metadata": {},
     "output_type": "execute_result"
    }
   ],
   "source": [
    "credit_df['age'].max()"
   ]
  },
  {
   "cell_type": "code",
   "execution_count": 26,
   "metadata": {
    "collapsed": true
   },
   "outputs": [],
   "source": [
    "age= []\n",
    "for val in credit_df['age']:\n",
    "    if val <20:\n",
    "        age.append(20)\n",
    "    else:\n",
    "        age.append(val)\n",
    "credit_df['age']=age"
   ]
  },
  {
   "cell_type": "code",
   "execution_count": 27,
   "metadata": {
    "collapsed": true
   },
   "outputs": [],
   "source": [
    "age= []\n",
    "for val in credit_test_df['age']:\n",
    "    if val <20:\n",
    "        age.append(20)\n",
    "    else:\n",
    "        age.append(val)\n",
    "credit_test_df['age']=age"
   ]
  },
  {
   "cell_type": "markdown",
   "metadata": {},
   "source": [
    "### DebtRatio"
   ]
  },
  {
   "cell_type": "code",
   "execution_count": 28,
   "metadata": {},
   "outputs": [
    {
     "data": {
      "image/png": "[encoded data removed]",
      "text/plain": [
       "<matplotlib.figure.Figure at 0x18666b3a1d0>"
      ]
     },
     "metadata": {},
     "output_type": "display_data"
    }
   ],
   "source": [
    "sns.set(style=\"darkgrid\")\n",
    "g = sns.FacetGrid(credit_df[credit_df[\"DebtRatio\"]<150000], margin_titles=True,aspect=5)\n",
    "g.map(plt.hist, \"DebtRatio\", color=\"steelblue\", bins=50, lw=0)\n",
    "plt.show()"
   ]
  },
  {
   "cell_type": "code",
   "execution_count": 29,
   "metadata": {
    "collapsed": true
   },
   "outputs": [],
   "source": [
    "num= []\n",
    "for val in credit_df[\"DebtRatio\"]:\n",
    "    if val <150000:\n",
    "        num.append(val)\n",
    "    else:\n",
    "        num.append(150000)\n",
    "credit_df[\"DebtRatio\"]=num"
   ]
  },
  {
   "cell_type": "code",
   "execution_count": 30,
   "metadata": {
    "collapsed": true
   },
   "outputs": [],
   "source": [
    "num= []\n",
    "for val in credit_test_df[\"DebtRatio\"]:\n",
    "    if val <150000:\n",
    "        num.append(val)\n",
    "    else:\n",
    "        num.append(150000)\n",
    "credit_test_df[\"DebtRatio\"]=num"
   ]
  },
  {
   "cell_type": "markdown",
   "metadata": {},
   "source": [
    "### NumberOfOpenCreditLinesAndLoans"
   ]
  },
  {
   "cell_type": "code",
   "execution_count": 31,
   "metadata": {},
   "outputs": [
    {
     "data": {
      "image/png": "[encoded data removed]",
      "text/plain": [
       "<matplotlib.figure.Figure at 0x186667d1860>"
      ]
     },
     "metadata": {},
     "output_type": "display_data"
    }
   ],
   "source": [
    "sns.set(style=\"darkgrid\")\n",
    "g = sns.FacetGrid(credit_df, margin_titles=True,aspect=5)\n",
    "g.map(plt.hist, \"NumberOfOpenCreditLinesAndLoans\", color=\"steelblue\", bins=50, lw=0)\n",
    "plt.show()"
   ]
  },
  {
   "cell_type": "code",
   "execution_count": 32,
   "metadata": {
    "collapsed": true
   },
   "outputs": [],
   "source": [
    "num= []\n",
    "for val in credit_df[\"NumberOfOpenCreditLinesAndLoans\"]:\n",
    "    if val <45:\n",
    "        num.append(val)\n",
    "    else:\n",
    "        num.append(45)\n",
    "credit_df[\"NumberOfOpenCreditLinesAndLoans\"]=num"
   ]
  },
  {
   "cell_type": "code",
   "execution_count": 33,
   "metadata": {
    "collapsed": true
   },
   "outputs": [],
   "source": [
    "num= []\n",
    "for val in credit_test_df[\"NumberOfOpenCreditLinesAndLoans\"]:\n",
    "    if val <45:\n",
    "        num.append(val)\n",
    "    else:\n",
    "        num.append(45)\n",
    "credit_test_df[\"NumberOfOpenCreditLinesAndLoans\"]=num"
   ]
  },
  {
   "cell_type": "markdown",
   "metadata": {},
   "source": [
    "### NumberRealEstateLoansOrLines"
   ]
  },
  {
   "cell_type": "code",
   "execution_count": 34,
   "metadata": {},
   "outputs": [
    {
     "data": {
      "image/png": "[encoded data removed]",
      "text/plain": [
       "<matplotlib.figure.Figure at 0x18667d39400>"
      ]
     },
     "metadata": {},
     "output_type": "display_data"
    }
   ],
   "source": [
    "sns.set(style=\"darkgrid\")\n",
    "g = sns.FacetGrid(credit_df, margin_titles=True,aspect=5)\n",
    "g.map(plt.hist, \"NumberRealEstateLoansOrLines\", color=\"steelblue\", bins=50, lw=0)\n",
    "plt.show()"
   ]
  },
  {
   "cell_type": "markdown",
   "metadata": {},
   "source": [
    "### NumberOfDependents"
   ]
  },
  {
   "cell_type": "code",
   "execution_count": 35,
   "metadata": {},
   "outputs": [
    {
     "data": {
      "image/png": "[encoded data removed]",
      "text/plain": [
       "<matplotlib.figure.Figure at 0x186679e2668>"
      ]
     },
     "metadata": {},
     "output_type": "display_data"
    }
   ],
   "source": [
    "sns.set(style=\"darkgrid\")\n",
    "g = sns.FacetGrid(credit_df, margin_titles=True,aspect=5)\n",
    "g.map(plt.hist, \"NumberOfDependents\", color=\"steelblue\", bins=50, lw=0)\n",
    "plt.show()"
   ]
  },
  {
   "cell_type": "code",
   "execution_count": 36,
   "metadata": {
    "collapsed": true
   },
   "outputs": [],
   "source": [
    "num= []\n",
    "for val in credit_df[\"NumberOfDependents\"]:\n",
    "    if val <10:\n",
    "        num.append(val)\n",
    "    else:\n",
    "        num.append(10)\n",
    "credit_df[\"NumberOfDependents\"]=num"
   ]
  },
  {
   "cell_type": "code",
   "execution_count": 37,
   "metadata": {
    "collapsed": true
   },
   "outputs": [],
   "source": [
    "num= []\n",
    "for val in credit_test_df[\"NumberOfDependents\"]:\n",
    "    if val <10:\n",
    "        num.append(val)\n",
    "    else:\n",
    "        num.append(10)\n",
    "credit_test_df[\"NumberOfDependents\"]=num"
   ]
  },
  {
   "cell_type": "code",
   "execution_count": 38,
   "metadata": {
    "collapsed": true
   },
   "outputs": [],
   "source": [
    "#Sustituimos los NAs por la media\n",
    "credit_df[\"NumberOfDependents\"].fillna(credit_df[\"NumberOfDependents\"].median(), inplace=True)\n",
    "credit_test_df[\"NumberOfDependents\"].fillna(credit_test_df[\"NumberOfDependents\"].median(), inplace=True)"
   ]
  },
  {
   "cell_type": "markdown",
   "metadata": {},
   "source": [
    "### MonthlyIncome\n",
    "\n",
    "Construimos un modelo KNeighborsRegressor para predecir los valores NAs"
   ]
  },
  {
   "cell_type": "code",
   "execution_count": 19,
   "metadata": {
    "collapsed": true
   },
   "outputs": [],
   "source": [
    "train = credit_df[credit_df.MonthlyIncome.isnull() == False]\n",
    "test = credit_df[credit_df.MonthlyIncome.isnull() == True]"
   ]
  },
  {
   "cell_type": "code",
   "execution_count": 20,
   "metadata": {},
   "outputs": [
    {
     "data": {
      "text/plain": [
       "((120269, 11), (29731, 11))"
      ]
     },
     "execution_count": 20,
     "metadata": {},
     "output_type": "execute_result"
    }
   ],
   "source": [
    "train.shape, test.shape"
   ]
  },
  {
   "cell_type": "code",
   "execution_count": 21,
   "metadata": {
    "collapsed": true
   },
   "outputs": [],
   "source": [
    "X_train = train.drop(['MonthlyIncome', 'SeriousDlqin2yrs'], axis=1)\n",
    "y_train = train.MonthlyIncome\n",
    "X_test = test.drop(['MonthlyIncome', 'SeriousDlqin2yrs'], axis=1)"
   ]
  },
  {
   "cell_type": "code",
   "execution_count": 191,
   "metadata": {
    "collapsed": true
   },
   "outputs": [],
   "source": [
    "#from sklearn.linear_model import LinearRegression\n",
    "#lmMod = LinearRegression(fit_intercept=True, normalize=True).fit(X_train, y_train)\n",
    "#pred = lmMod.predict(X_test)"
   ]
  },
  {
   "cell_type": "code",
   "execution_count": 22,
   "metadata": {
    "collapsed": true
   },
   "outputs": [],
   "source": [
    "from sklearn.neighbors import KNeighborsRegressor\n",
    "knnMod = KNeighborsRegressor(n_neighbors=5, weights='uniform', algorithm='auto', leaf_size=30,\n",
    "                             p=2, metric='minkowski', metric_params=None)"
   ]
  },
  {
   "cell_type": "code",
   "execution_count": 24,
   "metadata": {},
   "outputs": [],
   "source": [
    "knnMod.fit(X_train, y_train)\n",
    "pred = knnMod.predict(X_test)"
   ]
  },
  {
   "cell_type": "code",
   "execution_count": 25,
   "metadata": {},
   "outputs": [
    {
     "name": "stderr",
     "output_type": "stream",
     "text": [
      "C:\\Users\\anaalbcru\\Anaconda3\\lib\\site-packages\\ipykernel\\__main__.py:10: SettingWithCopyWarning: \n",
      "A value is trying to be set on a copy of a slice from a DataFrame.\n",
      "Try using .loc[row_indexer,col_indexer] = value instead\n",
      "\n",
      "See the caveats in the documentation: http://pandas.pydata.org/pandas-docs/stable/indexing.html#indexing-view-versus-copy\n"
     ]
    }
   ],
   "source": [
    "predNoZero = []\n",
    "for val in pred:\n",
    "    if val >= 0:\n",
    "        predNoZero.append(val)\n",
    "    else:\n",
    "        predNoZero.append(0.)\n",
    "        \n",
    "\n",
    "testFull = credit_df[credit_df.MonthlyIncome.isnull() == True]\n",
    "testFull['MonthlyIncome'] = predNoZero"
   ]
  },
  {
   "cell_type": "code",
   "execution_count": 26,
   "metadata": {
    "collapsed": true
   },
   "outputs": [],
   "source": [
    "monNew = []\n",
    "for index in credit_df.index:\n",
    "    if credit_df.MonthlyIncome[index].is_integer() == True:\n",
    "        monNew.append(credit_df.MonthlyIncome[index])\n",
    "    else:\n",
    "        monNew.append(testFull.MonthlyIncome[index])\n",
    "        \n",
    "credit_df.MonthlyIncome = monNew"
   ]
  },
  {
   "cell_type": "code",
   "execution_count": 27,
   "metadata": {},
   "outputs": [
    {
     "data": {
      "text/plain": [
       "count    1.500000e+05\n",
       "mean     5.427492e+03\n",
       "std      1.314716e+04\n",
       "min      0.000000e+00\n",
       "25%      1.874000e+03\n",
       "50%      4.435000e+03\n",
       "75%      7.400000e+03\n",
       "max      3.008750e+06\n",
       "Name: MonthlyIncome, dtype: float64"
      ]
     },
     "execution_count": 27,
     "metadata": {},
     "output_type": "execute_result"
    }
   ],
   "source": [
    "credit_df.MonthlyIncome.describe()"
   ]
  },
  {
   "cell_type": "code",
   "execution_count": 28,
   "metadata": {
    "collapsed": true
   },
   "outputs": [],
   "source": [
    "#Realizamos el mismo proceso para el conjunto de test\n",
    "train = credit_test_df[credit_test_df.MonthlyIncome.isnull() == False]\n",
    "test = credit_test_df[credit_test_df.MonthlyIncome.isnull() == True]"
   ]
  },
  {
   "cell_type": "code",
   "execution_count": 29,
   "metadata": {},
   "outputs": [
    {
     "data": {
      "text/plain": [
       "((81400, 11), (20103, 11))"
      ]
     },
     "execution_count": 29,
     "metadata": {},
     "output_type": "execute_result"
    }
   ],
   "source": [
    "train.shape, test.shape"
   ]
  },
  {
   "cell_type": "code",
   "execution_count": 30,
   "metadata": {
    "collapsed": true
   },
   "outputs": [],
   "source": [
    "X_train = train.drop(['MonthlyIncome', 'SeriousDlqin2yrs'], axis=1)\n",
    "y_train = train.MonthlyIncome\n",
    "X_test = test.drop(['MonthlyIncome', 'SeriousDlqin2yrs'], axis=1)"
   ]
  },
  {
   "cell_type": "code",
   "execution_count": 31,
   "metadata": {
    "collapsed": true
   },
   "outputs": [],
   "source": [
    "#lmMod = LinearRegression(fit_intercept=True, normalize=True).fit(X_train, y_train)\n",
    "#pred = lmMod.predict(X_test)"
   ]
  },
  {
   "cell_type": "code",
   "execution_count": 32,
   "metadata": {
    "collapsed": true
   },
   "outputs": [],
   "source": [
    "from sklearn.neighbors import KNeighborsRegressor\n",
    "knnMod = KNeighborsRegressor(n_neighbors=5, weights='uniform', algorithm='auto', leaf_size=30,\n",
    "                             p=2, metric='minkowski', metric_params=None)\n",
    "\n",
    "knnMod.fit(X_train, y_train)\n",
    "pred = knnMod.predict(X_test)"
   ]
  },
  {
   "cell_type": "code",
   "execution_count": 33,
   "metadata": {},
   "outputs": [
    {
     "name": "stderr",
     "output_type": "stream",
     "text": [
      "C:\\Users\\anaalbcru\\Anaconda3\\lib\\site-packages\\ipykernel\\__main__.py:10: SettingWithCopyWarning: \n",
      "A value is trying to be set on a copy of a slice from a DataFrame.\n",
      "Try using .loc[row_indexer,col_indexer] = value instead\n",
      "\n",
      "See the caveats in the documentation: http://pandas.pydata.org/pandas-docs/stable/indexing.html#indexing-view-versus-copy\n"
     ]
    }
   ],
   "source": [
    "predNoZero = []\n",
    "for val in pred:\n",
    "    if val >= 0:\n",
    "        predNoZero.append(val)\n",
    "    else:\n",
    "        predNoZero.append(0.)\n",
    "        \n",
    "\n",
    "testFull = credit_test_df[credit_test_df.MonthlyIncome.isnull() == True]\n",
    "testFull['MonthlyIncome'] = predNoZero"
   ]
  },
  {
   "cell_type": "code",
   "execution_count": 34,
   "metadata": {
    "collapsed": true
   },
   "outputs": [],
   "source": [
    "monNew = []\n",
    "for index in credit_test_df.index:\n",
    "    if credit_test_df.MonthlyIncome[index].is_integer() == True:\n",
    "        monNew.append(credit_test_df.MonthlyIncome[index])\n",
    "    else:\n",
    "        monNew.append(testFull.MonthlyIncome[index])\n",
    "        \n",
    "credit_test_df.MonthlyIncome = monNew"
   ]
  },
  {
   "cell_type": "code",
   "execution_count": 35,
   "metadata": {},
   "outputs": [
    {
     "data": {
      "text/plain": [
       "count    1.015030e+05\n",
       "mean     5.586453e+03\n",
       "std      3.280783e+04\n",
       "min      0.000000e+00\n",
       "25%      1.917000e+03\n",
       "50%      4.434000e+03\n",
       "75%      7.400000e+03\n",
       "max      7.727000e+06\n",
       "Name: MonthlyIncome, dtype: float64"
      ]
     },
     "execution_count": 35,
     "metadata": {},
     "output_type": "execute_result"
    }
   ],
   "source": [
    "credit_test_df.MonthlyIncome.describe()"
   ]
  },
  {
   "cell_type": "markdown",
   "metadata": {},
   "source": [
    "## Dividimos en conjuntos de Entrenamiento, validación y test"
   ]
  },
  {
   "cell_type": "code",
   "execution_count": 128,
   "metadata": {},
   "outputs": [
    {
     "ename": "ValueError",
     "evalue": "labels ['SeriousDlqin2yrs'] not contained in axis",
     "output_type": "error",
     "traceback": [
      "\u001b[0;31m---------------------------------------------------------------------------\u001b[0m",
      "\u001b[0;31mValueError\u001b[0m                                Traceback (most recent call last)",
      "\u001b[0;32m<ipython-input-128-c5bc6228a335>\u001b[0m in \u001b[0;36m<module>\u001b[0;34m()\u001b[0m\n\u001b[1;32m      2\u001b[0m \u001b[0mX_train\u001b[0m \u001b[1;33m=\u001b[0m \u001b[0mcredit_df\u001b[0m\u001b[1;33m.\u001b[0m\u001b[0mdrop\u001b[0m\u001b[1;33m(\u001b[0m\u001b[1;34m\"SeriousDlqin2yrs\"\u001b[0m\u001b[1;33m,\u001b[0m\u001b[0maxis\u001b[0m\u001b[1;33m=\u001b[0m\u001b[1;36m1\u001b[0m\u001b[1;33m)\u001b[0m\u001b[1;33m\u001b[0m\u001b[0m\n\u001b[1;32m      3\u001b[0m \u001b[0mY_train\u001b[0m \u001b[1;33m=\u001b[0m \u001b[0mcredit_df\u001b[0m\u001b[1;33m[\u001b[0m\u001b[1;34m\"SeriousDlqin2yrs\"\u001b[0m\u001b[1;33m]\u001b[0m\u001b[1;33m\u001b[0m\u001b[0m\n\u001b[0;32m----> 4\u001b[0;31m \u001b[0mX_test\u001b[0m  \u001b[1;33m=\u001b[0m \u001b[0mcredit_test_df\u001b[0m\u001b[1;33m.\u001b[0m\u001b[0mdrop\u001b[0m\u001b[1;33m(\u001b[0m\u001b[1;34m'SeriousDlqin2yrs'\u001b[0m\u001b[1;33m,\u001b[0m \u001b[0maxis\u001b[0m \u001b[1;33m=\u001b[0m \u001b[1;36m1\u001b[0m\u001b[1;33m)\u001b[0m\u001b[1;33m\u001b[0m\u001b[0m\n\u001b[0m\u001b[1;32m      5\u001b[0m \u001b[1;31m#el 50% del conjunto de entrenamiento será para validar\u001b[0m\u001b[1;33m\u001b[0m\u001b[1;33m\u001b[0m\u001b[0m\n\u001b[1;32m      6\u001b[0m \u001b[0mX_train\u001b[0m\u001b[1;33m,\u001b[0m\u001b[0mX_dev\u001b[0m\u001b[1;33m,\u001b[0m\u001b[0mY_train\u001b[0m\u001b[1;33m,\u001b[0m\u001b[0mY_dev\u001b[0m \u001b[1;33m=\u001b[0m \u001b[0mtrain_test_split\u001b[0m\u001b[1;33m(\u001b[0m\u001b[0mX_train\u001b[0m\u001b[1;33m,\u001b[0m \u001b[0mY_train\u001b[0m\u001b[1;33m,\u001b[0m \u001b[0mtest_size\u001b[0m\u001b[1;33m=\u001b[0m\u001b[1;36m0.5\u001b[0m\u001b[1;33m)\u001b[0m\u001b[1;33m\u001b[0m\u001b[0m\n",
      "\u001b[0;32mC:\\Users\\anaalbcru\\Anaconda3\\lib\\site-packages\\pandas\\core\\generic.py\u001b[0m in \u001b[0;36mdrop\u001b[0;34m(self, labels, axis, level, inplace, errors)\u001b[0m\n\u001b[1;32m   1905\u001b[0m                 \u001b[0mnew_axis\u001b[0m \u001b[1;33m=\u001b[0m \u001b[0maxis\u001b[0m\u001b[1;33m.\u001b[0m\u001b[0mdrop\u001b[0m\u001b[1;33m(\u001b[0m\u001b[0mlabels\u001b[0m\u001b[1;33m,\u001b[0m \u001b[0mlevel\u001b[0m\u001b[1;33m=\u001b[0m\u001b[0mlevel\u001b[0m\u001b[1;33m,\u001b[0m \u001b[0merrors\u001b[0m\u001b[1;33m=\u001b[0m\u001b[0merrors\u001b[0m\u001b[1;33m)\u001b[0m\u001b[1;33m\u001b[0m\u001b[0m\n\u001b[1;32m   1906\u001b[0m             \u001b[1;32melse\u001b[0m\u001b[1;33m:\u001b[0m\u001b[1;33m\u001b[0m\u001b[0m\n\u001b[0;32m-> 1907\u001b[0;31m                 \u001b[0mnew_axis\u001b[0m \u001b[1;33m=\u001b[0m \u001b[0maxis\u001b[0m\u001b[1;33m.\u001b[0m\u001b[0mdrop\u001b[0m\u001b[1;33m(\u001b[0m\u001b[0mlabels\u001b[0m\u001b[1;33m,\u001b[0m \u001b[0merrors\u001b[0m\u001b[1;33m=\u001b[0m\u001b[0merrors\u001b[0m\u001b[1;33m)\u001b[0m\u001b[1;33m\u001b[0m\u001b[0m\n\u001b[0m\u001b[1;32m   1908\u001b[0m             \u001b[0mdropped\u001b[0m \u001b[1;33m=\u001b[0m \u001b[0mself\u001b[0m\u001b[1;33m.\u001b[0m\u001b[0mreindex\u001b[0m\u001b[1;33m(\u001b[0m\u001b[1;33m**\u001b[0m\u001b[1;33m{\u001b[0m\u001b[0maxis_name\u001b[0m\u001b[1;33m:\u001b[0m \u001b[0mnew_axis\u001b[0m\u001b[1;33m}\u001b[0m\u001b[1;33m)\u001b[0m\u001b[1;33m\u001b[0m\u001b[0m\n\u001b[1;32m   1909\u001b[0m             \u001b[1;32mtry\u001b[0m\u001b[1;33m:\u001b[0m\u001b[1;33m\u001b[0m\u001b[0m\n",
      "\u001b[0;32mC:\\Users\\anaalbcru\\Anaconda3\\lib\\site-packages\\pandas\\indexes\\base.py\u001b[0m in \u001b[0;36mdrop\u001b[0;34m(self, labels, errors)\u001b[0m\n\u001b[1;32m   3260\u001b[0m             \u001b[1;32mif\u001b[0m \u001b[0merrors\u001b[0m \u001b[1;33m!=\u001b[0m \u001b[1;34m'ignore'\u001b[0m\u001b[1;33m:\u001b[0m\u001b[1;33m\u001b[0m\u001b[0m\n\u001b[1;32m   3261\u001b[0m                 raise ValueError('labels %s not contained in axis' %\n\u001b[0;32m-> 3262\u001b[0;31m                                  labels[mask])\n\u001b[0m\u001b[1;32m   3263\u001b[0m             \u001b[0mindexer\u001b[0m \u001b[1;33m=\u001b[0m \u001b[0mindexer\u001b[0m\u001b[1;33m[\u001b[0m\u001b[1;33m~\u001b[0m\u001b[0mmask\u001b[0m\u001b[1;33m]\u001b[0m\u001b[1;33m\u001b[0m\u001b[0m\n\u001b[1;32m   3264\u001b[0m         \u001b[1;32mreturn\u001b[0m \u001b[0mself\u001b[0m\u001b[1;33m.\u001b[0m\u001b[0mdelete\u001b[0m\u001b[1;33m(\u001b[0m\u001b[0mindexer\u001b[0m\u001b[1;33m)\u001b[0m\u001b[1;33m\u001b[0m\u001b[0m\n",
      "\u001b[0;31mValueError\u001b[0m: labels ['SeriousDlqin2yrs'] not contained in axis"
     ]
    }
   ],
   "source": [
    "from sklearn.model_selection import train_test_split\n",
    "X_train = credit_df.drop(\"SeriousDlqin2yrs\",axis=1)\n",
    "Y_train = credit_df[\"SeriousDlqin2yrs\"]\n",
    "X_test  = credit_test_df.drop('SeriousDlqin2yrs', axis = 1)\n",
    "#el 50% del conjunto de entrenamiento será para validar\n",
    "X_train,X_dev,Y_train,Y_dev = train_test_split(X_train, Y_train, test_size=0.5)"
   ]
  },
  {
   "cell_type": "code",
   "execution_count": 38,
   "metadata": {
    "collapsed": true
   },
   "outputs": [],
   "source": [
    "# Eliminamos de test la columna a predecir\n",
    "credit_test_df = credit_test_df.drop('SeriousDlqin2yrs', axis = 1)"
   ]
  },
  {
   "cell_type": "markdown",
   "metadata": {},
   "source": [
    "### Funciones Auxiliares "
   ]
  },
  {
   "cell_type": "code",
   "execution_count": 123,
   "metadata": {
    "collapsed": true
   },
   "outputs": [],
   "source": [
    "from sklearn.metrics import classification_report, roc_auc_score, roc_curve\n",
    "\n",
    "def plot_roc(Y, Y_scores):\n",
    "    fpr, tpr, thresholds = roc_curve(Y, Y_scores, pos_label = 1)\n",
    "    plt.figure(1, figsize=(6,6))\n",
    "    plt.xlabel('Tasa falsos positivos')\n",
    "    plt.ylabel('Tasa verdaderos positivos')\n",
    "    plt.title('Curva ROC')\n",
    "    plt.plot(fpr, tpr)\n",
    "    plt.legend(loc=2, prop={'size':11})\n",
    "    plt.plot([0,1],[0,1], color = 'black')\n",
    "    plt.show()\n",
    "    \n",
    "def eval_model(pipe, X_train, Y_train, X_test, Y_test):\n",
    "    pipe.fit(X_train, Y_train)\n",
    "    predicted_test = pipe.predict(X_test)\n",
    "    scores_test = pipe.predict_proba(X_test)[:,1] #necesitamos la probabilidad para dibujar el area bajo la curva\n",
    "    predicted_train = pipe.predict(X_train)\n",
    "    scores_train = pipe.predict_proba(X_train)[:,1]\n",
    "    print()\n",
    "    print(\"Evaluación en el conjunto de entrenamiento:\")\n",
    "    print(classification_report(Y_train, predicted_train))\n",
    "    print('Roc_auc_score:', roc_auc_score(Y_train, scores_train))\n",
    "    print()\n",
    "    print(\"Evaluación en el conjunto de validación:\")\n",
    "    print(classification_report(Y_test, predicted_test))\n",
    "    print('Roc_auc_score:', roc_auc_score(Y_test, scores_test))\n",
    "    plot_roc(Y_test, scores_test)"
   ]
  },
  {
   "cell_type": "markdown",
   "metadata": {},
   "source": [
    "# Modelos"
   ]
  },
  {
   "cell_type": "markdown",
   "metadata": {},
   "source": [
    "### 1. Random Forest"
   ]
  },
  {
   "cell_type": "code",
   "execution_count": 122,
   "metadata": {},
   "outputs": [
    {
     "name": "stdout",
     "output_type": "stream",
     "text": [
      "\n",
      "Evaluación en el conjunto de entrenamiento:\n",
      "             precision    recall  f1-score   support\n",
      "\n",
      "          0       1.00      1.00      1.00    139974\n",
      "          1       1.00      0.98      0.99     10026\n",
      "\n",
      "avg / total       1.00      1.00      1.00    150000\n",
      "\n",
      "Roc_auc_score: 0.999953235381\n",
      "\n",
      "Evaluación en el conjunto de validación:\n",
      "             precision    recall  f1-score   support\n",
      "\n",
      "          0       1.00      1.00      1.00     70025\n",
      "          1       1.00      0.99      0.99      4975\n",
      "\n",
      "avg / total       1.00      1.00      1.00     75000\n",
      "\n",
      "Roc_auc_score: 0.999956721846\n"
     ]
    },
    {
     "name": "stderr",
     "output_type": "stream",
     "text": [
      "C:\\Users\\anaalbcru\\Anaconda3\\lib\\site-packages\\matplotlib\\axes\\_axes.py:545: UserWarning: No labelled objects found. Use label='...' kwarg on individual plots.\n",
      "  warnings.warn(\"No labelled objects found. \"\n"
     ]
    },
    {
     "data": {
      "image/png": "[encoded data removed]",
      "text/plain": [
       "<matplotlib.figure.Figure at 0x219f974ffd0>"
      ]
     },
     "metadata": {},
     "output_type": "display_data"
    }
   ],
   "source": [
    "from sklearn.ensemble import RandomForestClassifier\n",
    "from sklearn.preprocessing import StandardScaler\n",
    "from sklearn.preprocessing import Imputer\n",
    "from sklearn.preprocessing import OneHotEncoder\n",
    "from sklearn.pipeline import Pipeline\n",
    "\n",
    "rmfc = RandomForestClassifier(n_estimators=50, max_features = 'sqrt')\n",
    "\n",
    "pipe = Pipeline([\n",
    "    ('imp',Imputer()),\n",
    "    ('std',StandardScaler()),\n",
    "    ('for', rmfc)\n",
    "])\n",
    "eval_model(pipe, X_train, Y_train, X_dev, Y_dev)"
   ]
  },
  {
   "cell_type": "markdown",
   "metadata": {},
   "source": [
    "### 1.1 Grid Search para el Random Forest"
   ]
  },
  {
   "cell_type": "code",
   "execution_count": 34,
   "metadata": {},
   "outputs": [
    {
     "name": "stdout",
     "output_type": "stream",
     "text": [
      "0.933490196078\n",
      "{'for__max_features': 'sqrt', 'for__n_estimators': 50}\n"
     ]
    }
   ],
   "source": [
    "from sklearn.model_selection import GridSearchCV\n",
    "\n",
    "pipe = Pipeline([\n",
    "    ('imp',Imputer()),\n",
    "    ('std',StandardScaler()),\n",
    "    ('for',RandomForestClassifier())\n",
    "])\n",
    "\n",
    "param_range = [30, 40, 50, 60]\n",
    "\n",
    "param_grid = {'for__n_estimators': param_range}\n",
    "\n",
    "param_grid = [{'for__n_estimators': param_range,'for__max_features': ['auto']},\n",
    "              {'for__n_estimators': param_range,'for__max_features': ['sqrt']}]\n",
    "\n",
    "gs = GridSearchCV(estimator=pipe,\n",
    "                  param_grid=param_grid,\n",
    "                  scoring='accuracy')\n",
    "\n",
    "gs = gs.fit(X_train, Y_train)\n",
    "print(gs.best_score_)\n",
    "print(gs.best_params_)"
   ]
  },
  {
   "cell_type": "markdown",
   "metadata": {
    "collapsed": true
   },
   "source": [
    "## 2. Naive Bayes"
   ]
  },
  {
   "cell_type": "code",
   "execution_count": 78,
   "metadata": {},
   "outputs": [
    {
     "name": "stdout",
     "output_type": "stream",
     "text": [
      "\n",
      "Evaluación en el conjunto de entrenamiento:\n",
      "             precision    recall  f1-score   support\n",
      "\n",
      "          0       0.96      0.94      0.95    118984\n",
      "          1       0.36      0.49      0.41      8516\n",
      "\n",
      "avg / total       0.92      0.91      0.91    127500\n",
      "\n",
      "Roc_auc_score: 0.841993363602\n",
      "\n",
      "Evaluación en el conjunto de validación:\n",
      "             precision    recall  f1-score   support\n",
      "\n",
      "          0       0.96      0.94      0.95     20990\n",
      "          1       0.36      0.50      0.42      1510\n",
      "\n",
      "avg / total       0.92      0.91      0.91     22500\n",
      "\n",
      "Roc_auc_score: 0.846979719135\n"
     ]
    },
    {
     "name": "stderr",
     "output_type": "stream",
     "text": [
      "C:\\Users\\anaalbcru\\Anaconda3\\lib\\site-packages\\matplotlib\\axes\\_axes.py:545: UserWarning: No labelled objects found. Use label='...' kwarg on individual plots.\n",
      "  warnings.warn(\"No labelled objects found. \"\n"
     ]
    },
    {
     "data": {
      "image/png": "[encoded data removed]",
      "text/plain": [
       "<matplotlib.figure.Figure at 0x1ec8e583ba8>"
      ]
     },
     "metadata": {},
     "output_type": "display_data"
    }
   ],
   "source": [
    "from sklearn.naive_bayes import GaussianNB\n",
    "\n",
    "gnv = GaussianNB()\n",
    "pipe = Pipeline([\n",
    "    ('imp',Imputer()),\n",
    "    ('std',StandardScaler()),\n",
    "    ('nb',gnv)\n",
    "])\n",
    "\n",
    "eval_model(pipe, X_train, Y_train, X_dev, Y_dev)"
   ]
  },
  {
   "cell_type": "markdown",
   "metadata": {},
   "source": [
    "## 3. kNN"
   ]
  },
  {
   "cell_type": "code",
   "execution_count": 79,
   "metadata": {},
   "outputs": [
    {
     "name": "stdout",
     "output_type": "stream",
     "text": [
      "\n",
      "Evaluación en el conjunto de entrenamiento:\n",
      "             precision    recall  f1-score   support\n",
      "\n",
      "          0       0.95      0.99      0.97    118984\n",
      "          1       0.69      0.31      0.43      8516\n",
      "\n",
      "avg / total       0.93      0.94      0.93    127500\n",
      "\n",
      "Roc_auc_score: 0.951378263256\n",
      "\n",
      "Evaluación en el conjunto de validación:\n",
      "             precision    recall  f1-score   support\n",
      "\n",
      "          0       0.94      0.98      0.96     20990\n",
      "          1       0.48      0.20      0.28      1510\n",
      "\n",
      "avg / total       0.91      0.93      0.92     22500\n",
      "\n",
      "Roc_auc_score: 0.733955163134\n"
     ]
    },
    {
     "name": "stderr",
     "output_type": "stream",
     "text": [
      "C:\\Users\\anaalbcru\\Anaconda3\\lib\\site-packages\\matplotlib\\axes\\_axes.py:545: UserWarning: No labelled objects found. Use label='...' kwarg on individual plots.\n",
      "  warnings.warn(\"No labelled objects found. \"\n"
     ]
    },
    {
     "data": {
      "image/png": "[encoded data removed]",
      "text/plain": [
       "<matplotlib.figure.Figure at 0x1ec8940e978>"
      ]
     },
     "metadata": {},
     "output_type": "display_data"
    }
   ],
   "source": [
    "from sklearn.neighbors import KNeighborsClassifier\n",
    "\n",
    "knn = KNeighborsClassifier()\n",
    "\n",
    "pipe = Pipeline([\n",
    "    ('imp',Imputer()),\n",
    "    ('std',StandardScaler()),\n",
    "    ('knn', knn)\n",
    "])\n",
    "eval_model(pipe, X_train, Y_train, X_dev, Y_dev)"
   ]
  },
  {
   "cell_type": "markdown",
   "metadata": {},
   "source": [
    "## 4. SVC"
   ]
  },
  {
   "cell_type": "code",
   "execution_count": null,
   "metadata": {
    "collapsed": true
   },
   "outputs": [],
   "source": [
    "from sklearn.svm import SVC\n",
    "\n",
    "pipe = Pipeline([\n",
    "    ('imp',Imputer()),\n",
    "    ('std',StandardScaler()),\n",
    "    ('svc',SVC(C = 0.5))\n",
    "])\n",
    "eval_model(pipe, X_train, Y_train, X_dev, Y_dev)"
   ]
  },
  {
   "cell_type": "markdown",
   "metadata": {},
   "source": [
    "## 5. Gradient Boosting Regression"
   ]
  },
  {
   "cell_type": "code",
   "execution_count": 54,
   "metadata": {},
   "outputs": [
    {
     "name": "stdout",
     "output_type": "stream",
     "text": [
      "\n",
      "Evaluación en el conjunto de entrenamiento:\n",
      "             precision    recall  f1-score   support\n",
      "\n",
      "          0       0.95      0.99      0.97    139974\n",
      "          1       0.63      0.20      0.30     10026\n",
      "\n",
      "avg / total       0.92      0.94      0.92    150000\n",
      "\n",
      "Roc_auc_score: 0.870054705181\n",
      "\n",
      "Evaluación en el conjunto de validación:\n",
      "             precision    recall  f1-score   support\n",
      "\n",
      "          0       0.95      0.99      0.97     70041\n",
      "          1       0.63      0.20      0.31      4959\n",
      "\n",
      "avg / total       0.93      0.94      0.92     75000\n",
      "\n",
      "Roc_auc_score: 0.869398106895\n"
     ]
    },
    {
     "name": "stderr",
     "output_type": "stream",
     "text": [
      "C:\\Users\\anaalbcru\\Anaconda3\\lib\\site-packages\\matplotlib\\axes\\_axes.py:545: UserWarning: No labelled objects found. Use label='...' kwarg on individual plots.\n",
      "  warnings.warn(\"No labelled objects found. \"\n"
     ]
    },
    {
     "data": {
      "image/png": "[encoded data removed]",
      "text/plain": [
       "<matplotlib.figure.Figure at 0x149c2e37668>"
      ]
     },
     "metadata": {},
     "output_type": "display_data"
    }
   ],
   "source": [
    "from sklearn.ensemble import GradientBoostingClassifier\n",
    "\n",
    "gbMod = GradientBoostingClassifier(loss='deviance', learning_rate=0.1, n_estimators=200, subsample=1.0,\n",
    "                                   min_samples_split=2, min_samples_leaf=1, min_weight_fraction_leaf=0.0, max_depth=3,\n",
    "                                   init=None, random_state=None, max_features=None, verbose=0)\n",
    "\n",
    "pipe = Pipeline([\n",
    "    ('imp',Imputer()),\n",
    "    ('std',StandardScaler()),\n",
    "    ('gbMod', gbMod)\n",
    "])\n",
    "eval_model(pipe, X_train, Y_train, X_dev, Y_dev)"
   ]
  },
  {
   "cell_type": "markdown",
   "metadata": {},
   "source": [
    "## 6. AdaBoostRegressor"
   ]
  },
  {
   "cell_type": "code",
   "execution_count": 44,
   "metadata": {},
   "outputs": [
    {
     "name": "stdout",
     "output_type": "stream",
     "text": [
      "\n",
      "Evaluación en el conjunto de entrenamiento:\n",
      "             precision    recall  f1-score   support\n",
      "\n",
      "          0       0.95      0.99      0.97     70039\n",
      "          1       0.56      0.20      0.29      4961\n",
      "\n",
      "avg / total       0.92      0.94      0.92     75000\n",
      "\n",
      "Roc_auc_score: 0.86323351986\n",
      "\n",
      "Evaluación en el conjunto de validación:\n",
      "             precision    recall  f1-score   support\n",
      "\n",
      "          0       0.94      0.99      0.97     69935\n",
      "          1       0.54      0.20      0.29      5065\n",
      "\n",
      "avg / total       0.92      0.93      0.92     75000\n",
      "\n",
      "Roc_auc_score: 0.859328918525\n"
     ]
    },
    {
     "name": "stderr",
     "output_type": "stream",
     "text": [
      "C:\\Users\\anaalbcru\\Anaconda3\\lib\\site-packages\\matplotlib\\axes\\_axes.py:545: UserWarning: No labelled objects found. Use label='...' kwarg on individual plots.\n",
      "  warnings.warn(\"No labelled objects found. \"\n"
     ]
    },
    {
     "data": {
      "image/png": "[encoded data removed]",
      "text/plain": [
       "<matplotlib.figure.Figure at 0x238a9290b38>"
      ]
     },
     "metadata": {},
     "output_type": "display_data"
    }
   ],
   "source": [
    "from sklearn.ensemble import AdaBoostClassifier\n",
    "\n",
    "adaMod = AdaBoostClassifier(base_estimator=None, n_estimators=100, learning_rate=1.0)\n",
    "\n",
    "pipe = Pipeline([\n",
    "    ('imp',Imputer()),\n",
    "    ('std',StandardScaler()),\n",
    "    ('adaMod', adaMod)\n",
    "])\n",
    "eval_model(pipe, X_train, Y_train, X_dev, Y_dev)"
   ]
  },
  {
   "cell_type": "markdown",
   "metadata": {},
   "source": [
    "# Cross-Validation"
   ]
  },
  {
   "cell_type": "code",
   "execution_count": 45,
   "metadata": {
    "collapsed": true
   },
   "outputs": [],
   "source": [
    "def cvDictGen(functions, scr, X_train=X_train, y_train=Y_train, cv=3, verbose=1):\n",
    "    cvDict = {}\n",
    "    for func in functions:\n",
    "        cvScore = cross_val_score(func, X_train, y_train, cv=cv, verbose=verbose, scoring=scr)\n",
    "        cvDict[str(func).split('(')[0]] = [cvScore.mean(), cvScore.std()]\n",
    "    \n",
    "    return cvDict"
   ]
  },
  {
   "cell_type": "code",
   "execution_count": 47,
   "metadata": {},
   "outputs": [
    {
     "ename": "NameError",
     "evalue": "name 'knn' is not defined",
     "output_type": "error",
     "traceback": [
      "\u001b[0;31m---------------------------------------------------------------------------\u001b[0m",
      "\u001b[0;31mNameError\u001b[0m                                 Traceback (most recent call last)",
      "\u001b[0;32m<ipython-input-47-c3650726f5f7>\u001b[0m in \u001b[0;36m<module>\u001b[0;34m()\u001b[0m\n\u001b[1;32m      1\u001b[0m \u001b[1;32mfrom\u001b[0m \u001b[0msklearn\u001b[0m\u001b[1;33m.\u001b[0m\u001b[0mmodel_selection\u001b[0m \u001b[1;32mimport\u001b[0m \u001b[0mcross_val_score\u001b[0m\u001b[1;33m\u001b[0m\u001b[0m\n\u001b[0;32m----> 2\u001b[0;31m \u001b[0mcvDictGen\u001b[0m\u001b[1;33m(\u001b[0m\u001b[0mfunctions\u001b[0m\u001b[1;33m=\u001b[0m\u001b[1;33m[\u001b[0m\u001b[0mrmfc\u001b[0m\u001b[1;33m,\u001b[0m  \u001b[0mknn\u001b[0m\u001b[1;33m,\u001b[0m \u001b[0mgbMod\u001b[0m\u001b[1;33m,\u001b[0m \u001b[0madaMod\u001b[0m\u001b[1;33m]\u001b[0m\u001b[1;33m,\u001b[0m \u001b[0mscr\u001b[0m\u001b[1;33m=\u001b[0m\u001b[1;34m'roc_auc'\u001b[0m\u001b[1;33m)\u001b[0m\u001b[1;33m\u001b[0m\u001b[0m\n\u001b[0m",
      "\u001b[0;31mNameError\u001b[0m: name 'knn' is not defined"
     ]
    }
   ],
   "source": [
    "from sklearn.model_selection import cross_val_score\n",
    "cvDictGen(functions=[rmfc, gnv, knn, gbMod, adaMod], scr='roc_auc')"
   ]
  },
  {
   "cell_type": "markdown",
   "metadata": {},
   "source": [
    "# Grid Search"
   ]
  },
  {
   "cell_type": "markdown",
   "metadata": {
    "collapsed": true
   },
   "source": [
    "## AdaBoost Grid Search"
   ]
  },
  {
   "cell_type": "code",
   "execution_count": 48,
   "metadata": {},
   "outputs": [
    {
     "name": "stderr",
     "output_type": "stream",
     "text": [
      "C:\\Users\\anaalbcru\\Anaconda3\\lib\\site-packages\\sklearn\\cross_validation.py:41: DeprecationWarning: This module was deprecated in version 0.18 in favor of the model_selection module into which all the refactored classes and functions are moved. Also note that the interface of the new CV iterators are different from that of this module. This module will be removed in 0.20.\n",
      "  \"This module will be removed in 0.20.\", DeprecationWarning)\n",
      "C:\\Users\\anaalbcru\\Anaconda3\\lib\\site-packages\\sklearn\\grid_search.py:42: DeprecationWarning: This module was deprecated in version 0.18 in favor of the model_selection module into which all the refactored classes and functions are moved. This module will be removed in 0.20.\n",
      "  DeprecationWarning)\n"
     ]
    },
    {
     "name": "stdout",
     "output_type": "stream",
     "text": [
      "Fitting 3 folds for each of 10 candidates, totalling 30 fits\n",
      "[CV] algorithm=SAMME.R, n_estimators=164 .............................\n",
      "[CV] .................... algorithm=SAMME.R, n_estimators=164 -   6.7s\n",
      "[CV] algorithm=SAMME.R, n_estimators=164 .............................\n"
     ]
    },
    {
     "name": "stderr",
     "output_type": "stream",
     "text": [
      "[Parallel(n_jobs=1)]: Done   1 out of   1 | elapsed:    6.7s remaining:    0.0s\n"
     ]
    },
    {
     "name": "stdout",
     "output_type": "stream",
     "text": [
      "[CV] .................... algorithm=SAMME.R, n_estimators=164 -   6.6s\n",
      "[CV] algorithm=SAMME.R, n_estimators=164 .............................\n",
      "[CV] .................... algorithm=SAMME.R, n_estimators=164 -   5.9s\n",
      "[CV] algorithm=SAMME.R, n_estimators=68 ..............................\n",
      "[CV] ..................... algorithm=SAMME.R, n_estimators=68 -   2.4s\n",
      "[CV] algorithm=SAMME.R, n_estimators=68 ..............................\n",
      "[CV] ..................... algorithm=SAMME.R, n_estimators=68 -   3.0s\n",
      "[CV] algorithm=SAMME.R, n_estimators=68 ..............................\n",
      "[CV] ..................... algorithm=SAMME.R, n_estimators=68 -   3.8s\n",
      "[CV] algorithm=SAMME.R, n_estimators=300 .............................\n",
      "[CV] .................... algorithm=SAMME.R, n_estimators=300 -  14.1s\n",
      "[CV] algorithm=SAMME.R, n_estimators=300 .............................\n",
      "[CV] .................... algorithm=SAMME.R, n_estimators=300 -  13.6s\n",
      "[CV] algorithm=SAMME.R, n_estimators=300 .............................\n",
      "[CV] .................... algorithm=SAMME.R, n_estimators=300 -  13.8s\n",
      "[CV] algorithm=SAMME, n_estimators=437 ...............................\n",
      "[CV] ...................... algorithm=SAMME, n_estimators=437 -  14.7s\n",
      "[CV] algorithm=SAMME, n_estimators=437 ...............................\n",
      "[CV] ...................... algorithm=SAMME, n_estimators=437 -  15.7s\n",
      "[CV] algorithm=SAMME, n_estimators=437 ...............................\n",
      "[CV] ...................... algorithm=SAMME, n_estimators=437 -  18.2s\n",
      "[CV] algorithm=SAMME.R, n_estimators=230 .............................\n",
      "[CV] .................... algorithm=SAMME.R, n_estimators=230 -   8.8s\n",
      "[CV] algorithm=SAMME.R, n_estimators=230 .............................\n",
      "[CV] .................... algorithm=SAMME.R, n_estimators=230 -  10.4s\n",
      "[CV] algorithm=SAMME.R, n_estimators=230 .............................\n",
      "[CV] .................... algorithm=SAMME.R, n_estimators=230 -   9.1s\n",
      "[CV] algorithm=SAMME.R, n_estimators=359 .............................\n",
      "[CV] .................... algorithm=SAMME.R, n_estimators=359 -  15.1s\n",
      "[CV] algorithm=SAMME.R, n_estimators=359 .............................\n",
      "[CV] .................... algorithm=SAMME.R, n_estimators=359 -  14.5s\n",
      "[CV] algorithm=SAMME.R, n_estimators=359 .............................\n",
      "[CV] .................... algorithm=SAMME.R, n_estimators=359 -  14.3s\n",
      "[CV] algorithm=SAMME.R, n_estimators=460 .............................\n",
      "[CV] .................... algorithm=SAMME.R, n_estimators=460 -  17.9s\n",
      "[CV] algorithm=SAMME.R, n_estimators=460 .............................\n",
      "[CV] .................... algorithm=SAMME.R, n_estimators=460 -  19.2s\n",
      "[CV] algorithm=SAMME.R, n_estimators=460 .............................\n",
      "[CV] .................... algorithm=SAMME.R, n_estimators=460 -  17.3s\n",
      "[CV] algorithm=SAMME.R, n_estimators=201 .............................\n",
      "[CV] .................... algorithm=SAMME.R, n_estimators=201 -   7.2s\n",
      "[CV] algorithm=SAMME.R, n_estimators=201 .............................\n",
      "[CV] .................... algorithm=SAMME.R, n_estimators=201 -   7.2s\n",
      "[CV] algorithm=SAMME.R, n_estimators=201 .............................\n",
      "[CV] .................... algorithm=SAMME.R, n_estimators=201 -   7.1s\n",
      "[CV] algorithm=SAMME.R, n_estimators=334 .............................\n",
      "[CV] .................... algorithm=SAMME.R, n_estimators=334 -  12.3s\n",
      "[CV] algorithm=SAMME.R, n_estimators=334 .............................\n",
      "[CV] .................... algorithm=SAMME.R, n_estimators=334 -  12.8s\n",
      "[CV] algorithm=SAMME.R, n_estimators=334 .............................\n",
      "[CV] .................... algorithm=SAMME.R, n_estimators=334 -  13.5s\n",
      "[CV] algorithm=SAMME.R, n_estimators=195 .............................\n",
      "[CV] .................... algorithm=SAMME.R, n_estimators=195 -   7.6s\n",
      "[CV] algorithm=SAMME.R, n_estimators=195 .............................\n",
      "[CV] .................... algorithm=SAMME.R, n_estimators=195 -   7.9s\n",
      "[CV] algorithm=SAMME.R, n_estimators=195 .............................\n",
      "[CV] .................... algorithm=SAMME.R, n_estimators=195 -   7.9s\n"
     ]
    },
    {
     "name": "stderr",
     "output_type": "stream",
     "text": [
      "[Parallel(n_jobs=1)]: Done  30 out of  30 | elapsed:  5.5min finished\n"
     ]
    },
    {
     "data": {
      "text/plain": [
       "({'algorithm': 'SAMME', 'n_estimators': 437}, 0.8573693462539959)"
      ]
     },
     "execution_count": 48,
     "metadata": {},
     "output_type": "execute_result"
    }
   ],
   "source": [
    "from sklearn.model_selection import GridSearchCV\n",
    "from sklearn.grid_search import RandomizedSearchCV\n",
    "from scipy.stats import randint\n",
    "\n",
    "adaHyperParams = {'algorithm' : ['SAMME', 'SAMME.R'],\n",
    "                 'n_estimators': randint(10, 500)}\n",
    "\n",
    "\n",
    "adaMod = AdaBoostClassifier()\n",
    "\n",
    "gridSearchGB = RandomizedSearchCV(estimator=adaMod, param_distributions=adaHyperParams, n_iter=10,\n",
    "                                   scoring='roc_auc', fit_params=None, cv=None, verbose=2).fit(X_train, Y_train)\n",
    "gridSearchGB.best_params_, gridSearchGB.best_score_\n"
   ]
  },
  {
   "cell_type": "code",
   "execution_count": 209,
   "metadata": {},
   "outputs": [
    {
     "data": {
      "text/plain": [
       "AdaBoostClassifier(algorithm='SAMME', base_estimator=None, learning_rate=1.0,\n",
       "          n_estimators=323, random_state=None)"
      ]
     },
     "execution_count": 209,
     "metadata": {},
     "output_type": "execute_result"
    }
   ],
   "source": [
    "gridSearchGB.best_estimator_.fit(X_train, Y_train)"
   ]
  },
  {
   "cell_type": "code",
   "execution_count": 213,
   "metadata": {
    "collapsed": true
   },
   "outputs": [],
   "source": [
    "ada_mejorado = AdaBoostClassifier(algorithm='SAMME', base_estimator=None, learning_rate=1.0,\n",
    "          n_estimators=323, random_state=None)\n",
    "\n",
    "pipe = Pipeline([\n",
    "    ('imp',Imputer()),\n",
    "    ('std',StandardScaler()),\n",
    "    ('gbMod', ada_mejorado)\n",
    "])\n",
    "\n",
    "pipe.fit(X_train, Y_train)\n",
    "predicted_test = pipe.predict(credit_test_df)\n",
    "scores_test = pipe.predict_proba(credit_test_df)[:,1]\n",
    "\n",
    "submission = pd.DataFrame({'Id': credit_test_df.index.values +1, 'Probability': scores_test})\n",
    "submission.to_csv('file3.csv', index = False)"
   ]
  },
  {
   "cell_type": "markdown",
   "metadata": {},
   "source": [
    "## Gradient Boost Randomized Search"
   ]
  },
  {
   "cell_type": "code",
   "execution_count": 55,
   "metadata": {},
   "outputs": [
    {
     "name": "stderr",
     "output_type": "stream",
     "text": [
      "C:\\Users\\anaalbcru\\Anaconda3\\lib\\site-packages\\sklearn\\cross_validation.py:41: DeprecationWarning: This module was deprecated in version 0.18 in favor of the model_selection module into which all the refactored classes and functions are moved. Also note that the interface of the new CV iterators are different from that of this module. This module will be removed in 0.20.\n",
      "  \"This module will be removed in 0.20.\", DeprecationWarning)\n",
      "C:\\Users\\anaalbcru\\Anaconda3\\lib\\site-packages\\sklearn\\grid_search.py:42: DeprecationWarning: This module was deprecated in version 0.18 in favor of the model_selection module into which all the refactored classes and functions are moved. This module will be removed in 0.20.\n",
      "  DeprecationWarning)\n"
     ]
    },
    {
     "name": "stdout",
     "output_type": "stream",
     "text": [
      "Fitting 3 folds for each of 10 candidates, totalling 30 fits\n",
      "[CV] loss=exponential, max_depth=5, n_estimators=276 .................\n",
      "[CV] ........ loss=exponential, max_depth=5, n_estimators=276 -  43.1s\n",
      "[CV] loss=exponential, max_depth=5, n_estimators=276 .................\n"
     ]
    },
    {
     "name": "stderr",
     "output_type": "stream",
     "text": [
      "[Parallel(n_jobs=1)]: Done   1 out of   1 | elapsed:   43.1s remaining:    0.0s\n"
     ]
    },
    {
     "name": "stdout",
     "output_type": "stream",
     "text": [
      "[CV] ........ loss=exponential, max_depth=5, n_estimators=276 -  42.2s\n",
      "[CV] loss=exponential, max_depth=5, n_estimators=276 .................\n",
      "[CV] ........ loss=exponential, max_depth=5, n_estimators=276 -  40.7s\n",
      "[CV] loss=deviance, max_depth=1, n_estimators=455 ....................\n",
      "[CV] ........... loss=deviance, max_depth=1, n_estimators=455 -  13.3s\n",
      "[CV] loss=deviance, max_depth=1, n_estimators=455 ....................\n",
      "[CV] ........... loss=deviance, max_depth=1, n_estimators=455 -  13.1s\n",
      "[CV] loss=deviance, max_depth=1, n_estimators=455 ....................\n",
      "[CV] ........... loss=deviance, max_depth=1, n_estimators=455 -  13.7s\n",
      "[CV] loss=deviance, max_depth=6, n_estimators=483 ....................\n",
      "[CV] ........... loss=deviance, max_depth=6, n_estimators=483 - 1.8min\n",
      "[CV] loss=deviance, max_depth=6, n_estimators=483 ....................\n",
      "[CV] ........... loss=deviance, max_depth=6, n_estimators=483 - 1.7min\n",
      "[CV] loss=deviance, max_depth=6, n_estimators=483 ....................\n",
      "[CV] ........... loss=deviance, max_depth=6, n_estimators=483 - 1.6min\n",
      "[CV] loss=deviance, max_depth=7, n_estimators=285 ....................\n",
      "[CV] ........... loss=deviance, max_depth=7, n_estimators=285 - 1.3min\n",
      "[CV] loss=deviance, max_depth=7, n_estimators=285 ....................\n",
      "[CV] ........... loss=deviance, max_depth=7, n_estimators=285 - 1.8min\n",
      "[CV] loss=deviance, max_depth=7, n_estimators=285 ....................\n",
      "[CV] ........... loss=deviance, max_depth=7, n_estimators=285 - 1.4min\n",
      "[CV] loss=exponential, max_depth=5, n_estimators=406 .................\n",
      "[CV] ........ loss=exponential, max_depth=5, n_estimators=406 - 1.1min\n",
      "[CV] loss=exponential, max_depth=5, n_estimators=406 .................\n",
      "[CV] ........ loss=exponential, max_depth=5, n_estimators=406 - 1.0min\n",
      "[CV] loss=exponential, max_depth=5, n_estimators=406 .................\n",
      "[CV] ........ loss=exponential, max_depth=5, n_estimators=406 -  58.3s\n",
      "[CV] loss=exponential, max_depth=2, n_estimators=456 .................\n",
      "[CV] ........ loss=exponential, max_depth=2, n_estimators=456 -  23.1s\n",
      "[CV] loss=exponential, max_depth=2, n_estimators=456 .................\n",
      "[CV] ........ loss=exponential, max_depth=2, n_estimators=456 -  25.4s\n",
      "[CV] loss=exponential, max_depth=2, n_estimators=456 .................\n",
      "[CV] ........ loss=exponential, max_depth=2, n_estimators=456 -  23.3s\n",
      "[CV] loss=exponential, max_depth=9, n_estimators=478 .................\n",
      "[CV] ........ loss=exponential, max_depth=9, n_estimators=478 - 5.0min\n",
      "[CV] loss=exponential, max_depth=9, n_estimators=478 .................\n",
      "[CV] ........ loss=exponential, max_depth=9, n_estimators=478 - 4.8min\n",
      "[CV] loss=exponential, max_depth=9, n_estimators=478 .................\n",
      "[CV] ........ loss=exponential, max_depth=9, n_estimators=478 - 4.7min\n",
      "[CV] loss=deviance, max_depth=9, n_estimators=458 ....................\n",
      "[CV] ........... loss=deviance, max_depth=9, n_estimators=458 - 4.4min\n",
      "[CV] loss=deviance, max_depth=9, n_estimators=458 ....................\n",
      "[CV] ........... loss=deviance, max_depth=9, n_estimators=458 - 4.3min\n",
      "[CV] loss=deviance, max_depth=9, n_estimators=458 ....................\n",
      "[CV] ........... loss=deviance, max_depth=9, n_estimators=458 - 4.0min\n",
      "[CV] loss=exponential, max_depth=1, n_estimators=327 .................\n",
      "[CV] ........ loss=exponential, max_depth=1, n_estimators=327 -   8.8s\n",
      "[CV] loss=exponential, max_depth=1, n_estimators=327 .................\n",
      "[CV] ........ loss=exponential, max_depth=1, n_estimators=327 -   8.6s\n",
      "[CV] loss=exponential, max_depth=1, n_estimators=327 .................\n",
      "[CV] ........ loss=exponential, max_depth=1, n_estimators=327 -   8.3s\n",
      "[CV] loss=deviance, max_depth=4, n_estimators=285 ....................\n",
      "[CV] ........... loss=deviance, max_depth=4, n_estimators=285 -  28.9s\n",
      "[CV] loss=deviance, max_depth=4, n_estimators=285 ....................\n",
      "[CV] ........... loss=deviance, max_depth=4, n_estimators=285 -  28.8s\n",
      "[CV] loss=deviance, max_depth=4, n_estimators=285 ....................\n",
      "[CV] ........... loss=deviance, max_depth=4, n_estimators=285 -  28.4s\n"
     ]
    },
    {
     "name": "stderr",
     "output_type": "stream",
     "text": [
      "[Parallel(n_jobs=1)]: Done  30 out of  30 | elapsed: 46.0min finished\n"
     ]
    },
    {
     "data": {
      "text/plain": [
       "({'loss': 'exponential', 'max_depth': 2, 'n_estimators': 456},\n",
       " 0.8632813718153367)"
      ]
     },
     "execution_count": 55,
     "metadata": {},
     "output_type": "execute_result"
    }
   ],
   "source": [
    "from sklearn.grid_search import RandomizedSearchCV\n",
    "from scipy.stats import randint\n",
    "\n",
    "gbHyperParams = {'loss' : ['deviance', 'exponential'],\n",
    "                 'n_estimators': randint(10, 500),\n",
    "                 'max_depth': randint(1,10)}\n",
    "\n",
    "gridSearchGB = RandomizedSearchCV(estimator=gbMod, param_distributions=gbHyperParams, n_iter=10,\n",
    "                                   scoring='roc_auc', fit_params=None, cv=None, verbose=2).fit(X_train, Y_train)\n",
    "gridSearchGB.best_params_, gridSearchGB.best_score_\n",
    "\n",
    "# 'loss': 'deviance', 'max_depth': 4, 'n_estimators': 93"
   ]
  },
  {
   "cell_type": "code",
   "execution_count": 59,
   "metadata": {
    "collapsed": true
   },
   "outputs": [],
   "source": [
    "bestGbModFitted  = gridSearchGB.best_estimator_.fit(X_train, Y_train)"
   ]
  },
  {
   "cell_type": "code",
   "execution_count": 60,
   "metadata": {},
   "outputs": [
    {
     "data": {
      "text/plain": [
       "GradientBoostingClassifier(criterion='friedman_mse', init=None,\n",
       "              learning_rate=0.1, loss='exponential', max_depth=2,\n",
       "              max_features=None, max_leaf_nodes=None,\n",
       "              min_impurity_decrease=0.0, min_impurity_split=None,\n",
       "              min_samples_leaf=1, min_samples_split=2,\n",
       "              min_weight_fraction_leaf=0.0, n_estimators=456,\n",
       "              presort='auto', random_state=None, subsample=1.0, verbose=0,\n",
       "              warm_start=False)"
      ]
     },
     "execution_count": 60,
     "metadata": {},
     "output_type": "execute_result"
    }
   ],
   "source": [
    "bestGbModFitted "
   ]
  },
  {
   "cell_type": "markdown",
   "metadata": {},
   "source": [
    "## Imbalanced classificator - No mejora"
   ]
  },
  {
   "cell_type": "code",
   "execution_count": 119,
   "metadata": {},
   "outputs": [
    {
     "ename": "ModuleNotFoundError",
     "evalue": "No module named 'imblearn'",
     "output_type": "error",
     "traceback": [
      "\u001b[0;31m---------------------------------------------------------------------------\u001b[0m",
      "\u001b[0;31mModuleNotFoundError\u001b[0m                       Traceback (most recent call last)",
      "\u001b[0;32m<ipython-input-119-57c13f2a94f8>\u001b[0m in \u001b[0;36m<module>\u001b[0;34m()\u001b[0m\n\u001b[0;32m----> 1\u001b[0;31m \u001b[1;32mfrom\u001b[0m \u001b[0mimblearn\u001b[0m\u001b[1;33m.\u001b[0m\u001b[0mover_sampling\u001b[0m \u001b[1;32mimport\u001b[0m \u001b[0mSMOTE\u001b[0m\u001b[1;33m\u001b[0m\u001b[0m\n\u001b[0m\u001b[1;32m      2\u001b[0m \u001b[1;33m\u001b[0m\u001b[0m\n\u001b[1;32m      3\u001b[0m \u001b[0monehot_encoder\u001b[0m \u001b[1;33m=\u001b[0m \u001b[0mOneHotEncoder\u001b[0m\u001b[1;33m(\u001b[0m\u001b[0msparse\u001b[0m\u001b[1;33m=\u001b[0m\u001b[1;32mFalse\u001b[0m\u001b[1;33m)\u001b[0m\u001b[1;33m\u001b[0m\u001b[0m\n\u001b[1;32m      4\u001b[0m \u001b[0mimputer\u001b[0m \u001b[1;33m=\u001b[0m \u001b[0mImputer\u001b[0m\u001b[1;33m(\u001b[0m\u001b[1;33m)\u001b[0m\u001b[1;33m\u001b[0m\u001b[0m\n\u001b[1;32m      5\u001b[0m \u001b[0mstd_scaler\u001b[0m \u001b[1;33m=\u001b[0m \u001b[0mStandardScaler\u001b[0m\u001b[1;33m(\u001b[0m\u001b[1;33m)\u001b[0m\u001b[1;33m\u001b[0m\u001b[0m\n",
      "\u001b[0;31mModuleNotFoundError\u001b[0m: No module named 'imblearn'"
     ]
    }
   ],
   "source": [
    "from imblearn.over_sampling import SMOTE\n",
    "\n",
    "onehot_encoder = OneHotEncoder(sparse=False)\n",
    "imputer = Imputer()\n",
    "std_scaler = StandardScaler()\n",
    "\n",
    "gb_mejorado = GradientBoostingClassifier(criterion='friedman_mse', init=None,\n",
    "              learning_rate=0.1, loss='deviance', max_depth=4,\n",
    "              max_features=None, max_leaf_nodes=None,\n",
    "              min_impurity_decrease=0.0, min_impurity_split=None,\n",
    "              min_samples_leaf=1, min_samples_split=2,\n",
    "              min_weight_fraction_leaf=0.0, n_estimators=93,\n",
    "              presort='auto', random_state=None, subsample=1.0, verbose=0,\n",
    "              warm_start=False)\n",
    "\n",
    "X_train2 = imputer.fit_transform(X_train)\n",
    "X_train2 = std_scaler.fit_transform(X_train2)\n",
    "X_train2, Y_train2 = SMOTE().fit_sample(X_train2, Y_train)\n",
    "gb_mejorado.fit(X_train2, Y_train2)\n",
    "\n",
    "Y_train_predicted = gb_mejorado.predict(X_train2)\n",
    "Y_train_scores = gb_mejorado.predict_proba(X_train2)[:,1]\n",
    "print(\"Evaluation on trainig set\")\n",
    "print(classification_report(Y_train2, Y_train_predicted))"
   ]
  },
  {
   "cell_type": "code",
   "execution_count": 135,
   "metadata": {
    "collapsed": true
   },
   "outputs": [],
   "source": [
    "X_test2 = imputer.transform(credit_test_df)\n",
    "X_test2 = std_scaler.transform(X_test2)\n",
    "Y_test_predicted = gb_mejorado.predict(X_test2)\n",
    "Y_test_scores = gb_mejorado.predict_proba(X_test2)[:,1]"
   ]
  },
  {
   "cell_type": "code",
   "execution_count": 136,
   "metadata": {
    "collapsed": true
   },
   "outputs": [],
   "source": [
    "submission = pd.DataFrame({'Id': credit_test_df.index.values +1, 'Probability': Y_test_scores})\n",
    "submission.to_csv('file2.csv', index = False)"
   ]
  },
  {
   "cell_type": "markdown",
   "metadata": {},
   "source": [
    "## Probamos con GB"
   ]
  },
  {
   "cell_type": "code",
   "execution_count": 129,
   "metadata": {},
   "outputs": [],
   "source": [
    "from sklearn.feature_selection import SelectKBest, f_classif\n",
    "from sklearn.ensemble import GradientBoostingClassifier\n",
    "\n",
    "gb_mejorado = GradientBoostingClassifier(criterion='friedman_mse', init=None,\n",
    "              learning_rate=0.1, loss='exponential', max_depth=2,\n",
    "              max_features=None, max_leaf_nodes=None,\n",
    "              min_impurity_decrease=0.0, min_impurity_split=None,\n",
    "              min_samples_leaf=1, min_samples_split=2,\n",
    "              min_weight_fraction_leaf=0.0, n_estimators=456,\n",
    "              presort='auto', random_state=None, subsample=1.0, verbose=0,\n",
    "              warm_start=False)\n",
    "\n",
    "\n",
    "pipe = Pipeline([\n",
    "    ('imp',Imputer()),\n",
    "    ('std',StandardScaler()),\n",
    "    ('select_feat', SelectKBest(f_classif, k=10)),\n",
    "    ('gbMod', gb_mejorado)\n",
    "])\n",
    "\n",
    "pipe.fit(X_train, Y_train)\n",
    "predicted_test = pipe.predict(credit_test_df)\n",
    "scores_test = pipe.predict_proba(credit_test_df)[:,1]\n",
    "\n",
    "submission = pd.DataFrame({'Id': credit_test_df.index.values +1, 'Probability': scores_test})\n",
    "submission.to_csv('file1.csv', index = False)"
   ]
  },
  {
   "cell_type": "markdown",
   "metadata": {},
   "source": [
    "## Deep Learning with h2o (Neural Network)"
   ]
  },
  {
   "cell_type": "code",
   "execution_count": 62,
   "metadata": {},
   "outputs": [],
   "source": [
    "import h2o"
   ]
  },
  {
   "cell_type": "code",
   "execution_count": 63,
   "metadata": {},
   "outputs": [],
   "source": [
    "get_ipython().magic(u'matplotlib inline')\n",
    "#IMPORT ALL THE THINGS\n",
    "\n",
    "import matplotlib.pyplot as plt\n",
    "import numpy as np\n",
    "import pandas as pd\n",
    "\n",
    "from h2o.estimators.deeplearning import H2OAutoEncoderEstimator, H2ODeepLearningEstimator\n",
    "from h2o.estimators.gbm import H2OGradientBoostingEstimator\n",
    "from h2o.estimators.glm import H2OGeneralizedLinearEstimator\n",
    "from h2o.estimators.random_forest import H2ORandomForestEstimator"
   ]
  },
  {
   "cell_type": "code",
   "execution_count": 64,
   "metadata": {},
   "outputs": [
    {
     "name": "stdout",
     "output_type": "stream",
     "text": [
      "Checking whether there is an H2O instance running at http://localhost:54321..... not found.\n",
      "Attempting to start a local H2O server...\n",
      "; OpenJDK 64-Bit Server VM (Zulu 8.20.0.5-win64) (build 25.121-b15, mixed mode)\n",
      "  Starting server from C:\\Users\\anaalbcru\\Anaconda3\\lib\\site-packages\\h2o\\backend\\bin\\h2o.jar\n",
      "  Ice root: C:\\Users\\ANAALB~1\\AppData\\Local\\Temp\\tmp7fteqxr9\n",
      "  JVM stdout: C:\\Users\\ANAALB~1\\AppData\\Local\\Temp\\tmp7fteqxr9\\h2o_anaalbcru_started_from_python.out\n",
      "  JVM stderr: C:\\Users\\ANAALB~1\\AppData\\Local\\Temp\\tmp7fteqxr9\\h2o_anaalbcru_started_from_python.err\n",
      "  Server is running at http://127.0.0.1:54321\n",
      "Connecting to H2O server at http://127.0.0.1:54321... successful.\n"
     ]
    },
    {
     "data": {
      "text/html": [
       "<div style=\"overflow:auto\"><table style=\"width:50%\"><tr><td>H2O cluster uptime:</td>\n",
       "<td>03 secs</td></tr>\n",
       "<tr><td>H2O cluster timezone:</td>\n",
       "<td>Europe/Paris</td></tr>\n",
       "<tr><td>H2O data parsing timezone:</td>\n",
       "<td>UTC</td></tr>\n",
       "<tr><td>H2O cluster version:</td>\n",
       "<td>3.18.0.3</td></tr>\n",
       "<tr><td>H2O cluster version age:</td>\n",
       "<td>5 days </td></tr>\n",
       "<tr><td>H2O cluster name:</td>\n",
       "<td>H2O_from_python_anaalbcru_yq31py</td></tr>\n",
       "<tr><td>H2O cluster total nodes:</td>\n",
       "<td>1</td></tr>\n",
       "<tr><td>H2O cluster free memory:</td>\n",
       "<td>1.778 Gb</td></tr>\n",
       "<tr><td>H2O cluster total cores:</td>\n",
       "<td>4</td></tr>\n",
       "<tr><td>H2O cluster allowed cores:</td>\n",
       "<td>4</td></tr>\n",
       "<tr><td>H2O cluster status:</td>\n",
       "<td>accepting new members, healthy</td></tr>\n",
       "<tr><td>H2O connection url:</td>\n",
       "<td>http://127.0.0.1:54321</td></tr>\n",
       "<tr><td>H2O connection proxy:</td>\n",
       "<td>None</td></tr>\n",
       "<tr><td>H2O internal security:</td>\n",
       "<td>False</td></tr>\n",
       "<tr><td>H2O API Extensions:</td>\n",
       "<td>Algos, AutoML, Core V3, Core V4</td></tr>\n",
       "<tr><td>Python version:</td>\n",
       "<td>3.6.0 final</td></tr></table></div>"
      ],
      "text/plain": [
       "--------------------------  --------------------------------\n",
       "H2O cluster uptime:         03 secs\n",
       "H2O cluster timezone:       Europe/Paris\n",
       "H2O data parsing timezone:  UTC\n",
       "H2O cluster version:        3.18.0.3\n",
       "H2O cluster version age:    5 days\n",
       "H2O cluster name:           H2O_from_python_anaalbcru_yq31py\n",
       "H2O cluster total nodes:    1\n",
       "H2O cluster free memory:    1.778 Gb\n",
       "H2O cluster total cores:    4\n",
       "H2O cluster allowed cores:  4\n",
       "H2O cluster status:         accepting new members, healthy\n",
       "H2O connection url:         http://127.0.0.1:54321\n",
       "H2O connection proxy:\n",
       "H2O internal security:      False\n",
       "H2O API Extensions:         Algos, AutoML, Core V3, Core V4\n",
       "Python version:             3.6.0 final\n",
       "--------------------------  --------------------------------"
      ]
     },
     "metadata": {},
     "output_type": "display_data"
    }
   ],
   "source": [
    "h2o.init(max_mem_size = 2)        \n",
    "h2o.remove_all()    "
   ]
  },
  {
   "cell_type": "code",
   "execution_count": 108,
   "metadata": {},
   "outputs": [
    {
     "name": "stdout",
     "output_type": "stream",
     "text": [
      "Parse progress: |█████████████████████████████████████████████████████████| 100%\n"
     ]
    }
   ],
   "source": [
    "df_H2O = h2o.H2OFrame(credit_df)\n",
    "train,test,valid = df_H2O.split_frame(ratios=[.8, .1])"
   ]
  },
  {
   "cell_type": "code",
   "execution_count": 110,
   "metadata": {},
   "outputs": [
    {
     "name": "stdout",
     "output_type": "stream",
     "text": [
      "deeplearning Model Build progress: |██████████████████████████████████████| 100%\n"
     ]
    }
   ],
   "source": [
    "X = train.col_names[1:]\n",
    "y = train.col_names[0]\n",
    "dl_model = H2ODeepLearningEstimator(hidden=[50,50,50], epochs=1000, standardize = True, activation = \"Tanh\")\n",
    "dl_model.train(X, y, train)"
   ]
  },
  {
   "cell_type": "code",
   "execution_count": 111,
   "metadata": {},
   "outputs": [
    {
     "name": "stdout",
     "output_type": "stream",
     "text": [
      "Model Details\n",
      "=============\n",
      "H2ODeepLearningEstimator :  Deep Learning\n",
      "Model Key:  DeepLearning_model_python_1520498328516_4\n",
      "\n",
      "\n",
      "ModelMetricsRegression: deeplearning\n",
      "** Reported on train data. **\n",
      "\n",
      "MSE: 0.047921196501903164\n",
      "RMSE: 0.21890910557101814\n",
      "MAE: 0.10168540146813934\n",
      "RMSLE: 0.1528842345420952\n",
      "Mean Residual Deviance: 0.047921196501903164\n",
      "Scoring History: \n"
     ]
    },
    {
     "data": {
      "text/html": [
       "<div style=\"overflow:auto\"><table style=\"width:50%\"><tr><td><b></b></td>\n",
       "<td><b>timestamp</b></td>\n",
       "<td><b>duration</b></td>\n",
       "<td><b>training_speed</b></td>\n",
       "<td><b>epochs</b></td>\n",
       "<td><b>iterations</b></td>\n",
       "<td><b>samples</b></td>\n",
       "<td><b>training_rmse</b></td>\n",
       "<td><b>training_deviance</b></td>\n",
       "<td><b>training_mae</b></td></tr>\n",
       "<tr><td></td>\n",
       "<td>2018-03-08 10:23:30</td>\n",
       "<td> 0.000 sec</td>\n",
       "<td>None</td>\n",
       "<td>0.0</td>\n",
       "<td>0</td>\n",
       "<td>0.0</td>\n",
       "<td>nan</td>\n",
       "<td>nan</td>\n",
       "<td>nan</td></tr>\n",
       "<tr><td></td>\n",
       "<td>2018-03-08 10:23:35</td>\n",
       "<td> 5.468 sec</td>\n",
       "<td>18932 obs/sec</td>\n",
       "<td>0.8318959</td>\n",
       "<td>1</td>\n",
       "<td>99830.0</td>\n",
       "<td>0.2216288</td>\n",
       "<td>0.0491193</td>\n",
       "<td>0.1092705</td></tr>\n",
       "<tr><td></td>\n",
       "<td>2018-03-08 10:23:40</td>\n",
       "<td>10.768 sec</td>\n",
       "<td>19033 obs/sec</td>\n",
       "<td>1.6643084</td>\n",
       "<td>2</td>\n",
       "<td>199722.0</td>\n",
       "<td>0.2210062</td>\n",
       "<td>0.0488437</td>\n",
       "<td>0.0940588</td></tr>\n",
       "<tr><td></td>\n",
       "<td>2018-03-08 10:23:46</td>\n",
       "<td>16.235 sec</td>\n",
       "<td>18911 obs/sec</td>\n",
       "<td>2.4971376</td>\n",
       "<td>3</td>\n",
       "<td>299664.0</td>\n",
       "<td>0.2190648</td>\n",
       "<td>0.0479894</td>\n",
       "<td>0.0930114</td></tr>\n",
       "<tr><td></td>\n",
       "<td>2018-03-08 10:23:51</td>\n",
       "<td>21.721 sec</td>\n",
       "<td>18846 obs/sec</td>\n",
       "<td>3.3323917</td>\n",
       "<td>4</td>\n",
       "<td>399897.0</td>\n",
       "<td>0.2211481</td>\n",
       "<td>0.0489065</td>\n",
       "<td>0.1098904</td></tr>\n",
       "<tr><td></td>\n",
       "<td>2018-03-08 10:23:58</td>\n",
       "<td>29.280 sec</td>\n",
       "<td>18066 obs/sec</td>\n",
       "<td>4.1663875</td>\n",
       "<td>5</td>\n",
       "<td>499979.0</td>\n",
       "<td>0.2198314</td>\n",
       "<td>0.0483258</td>\n",
       "<td>0.0905891</td></tr>\n",
       "<tr><td></td>\n",
       "<td>2018-03-08 10:24:10</td>\n",
       "<td>40.257 sec</td>\n",
       "<td>18150 obs/sec</td>\n",
       "<td>5.8321542</td>\n",
       "<td>7</td>\n",
       "<td>699876.0</td>\n",
       "<td>0.2201934</td>\n",
       "<td>0.0484851</td>\n",
       "<td>0.0910034</td></tr>\n",
       "<tr><td></td>\n",
       "<td>2018-03-08 10:24:15</td>\n",
       "<td>45.866 sec</td>\n",
       "<td>18155 obs/sec</td>\n",
       "<td>6.6670000</td>\n",
       "<td>8</td>\n",
       "<td>800060.0</td>\n",
       "<td>0.2218179</td>\n",
       "<td>0.0492032</td>\n",
       "<td>0.1001818</td></tr>\n",
       "<tr><td></td>\n",
       "<td>2018-03-08 10:24:21</td>\n",
       "<td>51.420 sec</td>\n",
       "<td>18171 obs/sec</td>\n",
       "<td>7.4996625</td>\n",
       "<td>9</td>\n",
       "<td>899982.0</td>\n",
       "<td>0.2213626</td>\n",
       "<td>0.0490014</td>\n",
       "<td>0.0833772</td></tr>\n",
       "<tr><td></td>\n",
       "<td>2018-03-08 10:24:26</td>\n",
       "<td>57.060 sec</td>\n",
       "<td>18155 obs/sec</td>\n",
       "<td>8.3330167</td>\n",
       "<td>10</td>\n",
       "<td>999987.0</td>\n",
       "<td>0.2227268</td>\n",
       "<td>0.0496072</td>\n",
       "<td>0.0878452</td></tr>\n",
       "<tr><td></td>\n",
       "<td>2018-03-08 10:24:32</td>\n",
       "<td> 1 min  2.572 sec</td>\n",
       "<td>18179 obs/sec</td>\n",
       "<td>9.1661125</td>\n",
       "<td>11</td>\n",
       "<td>1099961.0</td>\n",
       "<td>0.2235263</td>\n",
       "<td>0.0499640</td>\n",
       "<td>0.1201970</td></tr>\n",
       "<tr><td></td>\n",
       "<td>2018-03-08 10:24:37</td>\n",
       "<td> 1 min  8.082 sec</td>\n",
       "<td>18201 obs/sec</td>\n",
       "<td>10.0000167</td>\n",
       "<td>12</td>\n",
       "<td>1200032.0</td>\n",
       "<td>0.2189091</td>\n",
       "<td>0.0479212</td>\n",
       "<td>0.1016854</td></tr></table></div>"
      ],
      "text/plain": [
       "    timestamp            duration          training_speed    epochs    iterations    samples      training_rmse    training_deviance    training_mae\n",
       "--  -------------------  ----------------  ----------------  --------  ------------  -----------  ---------------  -------------------  --------------\n",
       "    2018-03-08 10:23:30  0.000 sec                           0         0             0            nan              nan                  nan\n",
       "    2018-03-08 10:23:35  5.468 sec         18932 obs/sec     0.831896  1             99830        0.221629         0.0491193            0.109271\n",
       "    2018-03-08 10:23:40  10.768 sec        19033 obs/sec     1.66431   2             199722       0.221006         0.0488437            0.0940588\n",
       "    2018-03-08 10:23:46  16.235 sec        18911 obs/sec     2.49714   3             299664       0.219065         0.0479894            0.0930114\n",
       "    2018-03-08 10:23:51  21.721 sec        18846 obs/sec     3.33239   4             399897       0.221148         0.0489065            0.10989\n",
       "    2018-03-08 10:23:58  29.280 sec        18066 obs/sec     4.16639   5             499979       0.219831         0.0483258            0.0905891\n",
       "    2018-03-08 10:24:10  40.257 sec        18150 obs/sec     5.83215   7             699876       0.220193         0.0484851            0.0910034\n",
       "    2018-03-08 10:24:15  45.866 sec        18155 obs/sec     6.667     8             800060       0.221818         0.0492032            0.100182\n",
       "    2018-03-08 10:24:21  51.420 sec        18171 obs/sec     7.49966   9             899982       0.221363         0.0490014            0.0833772\n",
       "    2018-03-08 10:24:26  57.060 sec        18155 obs/sec     8.33302   10            999987       0.222727         0.0496072            0.0878452\n",
       "    2018-03-08 10:24:32  1 min  2.572 sec  18179 obs/sec     9.16611   11            1.09996e+06  0.223526         0.049964             0.120197\n",
       "    2018-03-08 10:24:37  1 min  8.082 sec  18201 obs/sec     10        12            1.20003e+06  0.218909         0.0479212            0.101685"
      ]
     },
     "metadata": {},
     "output_type": "display_data"
    },
    {
     "name": "stdout",
     "output_type": "stream",
     "text": [
      "Variable Importances: \n"
     ]
    },
    {
     "data": {
      "text/html": [
       "<div style=\"overflow:auto\"><table style=\"width:50%\"><tr><td><b>variable</b></td>\n",
       "<td><b>relative_importance</b></td>\n",
       "<td><b>scaled_importance</b></td>\n",
       "<td><b>percentage</b></td></tr>\n",
       "<tr><td>MonthlyIncome</td>\n",
       "<td>1.0</td>\n",
       "<td>1.0</td>\n",
       "<td>0.1940216</td></tr>\n",
       "<tr><td>NumberOfDependents</td>\n",
       "<td>0.6426947</td>\n",
       "<td>0.6426947</td>\n",
       "<td>0.1246967</td></tr>\n",
       "<tr><td>DebtRatio</td>\n",
       "<td>0.6014840</td>\n",
       "<td>0.6014840</td>\n",
       "<td>0.1167009</td></tr>\n",
       "<tr><td>NumberOfOpenCreditLinesAndLoans</td>\n",
       "<td>0.5703401</td>\n",
       "<td>0.5703401</td>\n",
       "<td>0.1106583</td></tr>\n",
       "<tr><td>RevolvingUtilizationOfUnsecuredLines</td>\n",
       "<td>0.5546119</td>\n",
       "<td>0.5546119</td>\n",
       "<td>0.1076067</td></tr>\n",
       "<tr><td>age</td>\n",
       "<td>0.4961728</td>\n",
       "<td>0.4961728</td>\n",
       "<td>0.0962682</td></tr>\n",
       "<tr><td>NumberOfTimes90DaysLate</td>\n",
       "<td>0.3550198</td>\n",
       "<td>0.3550198</td>\n",
       "<td>0.0688815</td></tr>\n",
       "<tr><td>NumberOfTime30-59DaysPastDueNotWorse</td>\n",
       "<td>0.3314379</td>\n",
       "<td>0.3314379</td>\n",
       "<td>0.0643061</td></tr>\n",
       "<tr><td>NumberRealEstateLoansOrLines</td>\n",
       "<td>0.3255533</td>\n",
       "<td>0.3255533</td>\n",
       "<td>0.0631644</td></tr>\n",
       "<tr><td>NumberOfTime60-89DaysPastDueNotWorse</td>\n",
       "<td>0.2767507</td>\n",
       "<td>0.2767507</td>\n",
       "<td>0.0536956</td></tr></table></div>"
      ],
      "text/plain": [
       "variable                              relative_importance    scaled_importance    percentage\n",
       "------------------------------------  ---------------------  -------------------  ------------\n",
       "MonthlyIncome                         1                      1                    0.194022\n",
       "NumberOfDependents                    0.642695               0.642695             0.124697\n",
       "DebtRatio                             0.601484               0.601484             0.116701\n",
       "NumberOfOpenCreditLinesAndLoans       0.57034                0.57034              0.110658\n",
       "RevolvingUtilizationOfUnsecuredLines  0.554612               0.554612             0.107607\n",
       "age                                   0.496173               0.496173             0.0962682\n",
       "NumberOfTimes90DaysLate               0.35502                0.35502              0.0688815\n",
       "NumberOfTime30-59DaysPastDueNotWorse  0.331438               0.331438             0.0643061\n",
       "NumberRealEstateLoansOrLines          0.325553               0.325553             0.0631644\n",
       "NumberOfTime60-89DaysPastDueNotWorse  0.276751               0.276751             0.0536956"
      ]
     },
     "metadata": {},
     "output_type": "display_data"
    },
    {
     "data": {
      "text/plain": []
     },
     "execution_count": 111,
     "metadata": {},
     "output_type": "execute_result"
    }
   ],
   "source": [
    "dl_model"
   ]
  },
  {
   "cell_type": "code",
   "execution_count": 89,
   "metadata": {},
   "outputs": [
    {
     "name": "stdout",
     "output_type": "stream",
     "text": [
      "deeplearning prediction progress: |███████████████████████████████████████| 100%\n",
      "Rows:15022\n",
      "Cols:1\n",
      "\n",
      "\n"
     ]
    },
    {
     "data": {
      "text/html": [
       "<table>\n",
       "<thead>\n",
       "<tr><th>       </th><th>predict              </th></tr>\n",
       "</thead>\n",
       "<tbody>\n",
       "<tr><td>type   </td><td>real                 </td></tr>\n",
       "<tr><td>mins   </td><td>-0.08947164959667664 </td></tr>\n",
       "<tr><td>mean   </td><td>0.06824583700710796  </td></tr>\n",
       "<tr><td>maxs   </td><td>0.9713003154865925   </td></tr>\n",
       "<tr><td>sigma  </td><td>0.10107086949319251  </td></tr>\n",
       "<tr><td>zeros  </td><td>0                    </td></tr>\n",
       "<tr><td>missing</td><td>0                    </td></tr>\n",
       "<tr><td>0      </td><td>0.040740440651246906 </td></tr>\n",
       "<tr><td>1      </td><td>0.02533155246953813  </td></tr>\n",
       "<tr><td>2      </td><td>0.07219114772724533  </td></tr>\n",
       "<tr><td>3      </td><td>0.013372187122421601 </td></tr>\n",
       "<tr><td>4      </td><td>0.022759050871447348 </td></tr>\n",
       "<tr><td>5      </td><td>0.014333842078314035 </td></tr>\n",
       "<tr><td>6      </td><td>0.04837953944195089  </td></tr>\n",
       "<tr><td>7      </td><td>0.03587506015745777  </td></tr>\n",
       "<tr><td>8      </td><td>-0.001392682852586577</td></tr>\n",
       "<tr><td>9      </td><td>0.02545668711160331  </td></tr>\n",
       "</tbody>\n",
       "</table>"
      ]
     },
     "metadata": {},
     "output_type": "display_data"
    }
   ],
   "source": [
    "x_test=test[1:]\n",
    "scores_test = dl_model.predict(x_test)\n",
    "scores_test.describe()"
   ]
  },
  {
   "cell_type": "code",
   "execution_count": 86,
   "metadata": {},
   "outputs": [
    {
     "name": "stdout",
     "output_type": "stream",
     "text": [
      "Parse progress: |█████████████████████████████████████████████████████████| 100%\n"
     ]
    }
   ],
   "source": [
    "test_H2O = h2o.H2OFrame(X_test)"
   ]
  },
  {
   "cell_type": "code",
   "execution_count": 112,
   "metadata": {},
   "outputs": [
    {
     "name": "stdout",
     "output_type": "stream",
     "text": [
      "deeplearning prediction progress: |███████████████████████████████████████| 100%\n",
      "Rows:101503\n",
      "Cols:1\n",
      "\n",
      "\n"
     ]
    },
    {
     "data": {
      "text/html": [
       "<table>\n",
       "<thead>\n",
       "<tr><th>       </th><th>predict             </th></tr>\n",
       "</thead>\n",
       "<tbody>\n",
       "<tr><td>type   </td><td>real                </td></tr>\n",
       "<tr><td>mins   </td><td>-0.02292475858680977</td></tr>\n",
       "<tr><td>mean   </td><td>0.07078761537072852 </td></tr>\n",
       "<tr><td>maxs   </td><td>0.7211738644425959  </td></tr>\n",
       "<tr><td>sigma  </td><td>0.11233645380146322 </td></tr>\n",
       "<tr><td>zeros  </td><td>0                   </td></tr>\n",
       "<tr><td>missing</td><td>0                   </td></tr>\n",
       "<tr><td>0      </td><td>0.04953395066739562 </td></tr>\n",
       "<tr><td>1      </td><td>0.10852802358962338 </td></tr>\n",
       "<tr><td>2      </td><td>0.024470897789455055</td></tr>\n",
       "<tr><td>3      </td><td>0.11710953078730692 </td></tr>\n",
       "<tr><td>4      </td><td>0.08814355415339616 </td></tr>\n",
       "<tr><td>5      </td><td>0.02112878428636218 </td></tr>\n",
       "<tr><td>6      </td><td>0.057673552640694535</td></tr>\n",
       "<tr><td>7      </td><td>0.04215188215543822 </td></tr>\n",
       "<tr><td>8      </td><td>-0.00335896729319185</td></tr>\n",
       "<tr><td>9      </td><td>0.09243738537903048 </td></tr>\n",
       "</tbody>\n",
       "</table>"
      ]
     },
     "metadata": {},
     "output_type": "display_data"
    }
   ],
   "source": [
    "scores_test = dl_model.predict(test_H2O)\n",
    "scores_test.describe()"
   ]
  },
  {
   "cell_type": "code",
   "execution_count": 113,
   "metadata": {},
   "outputs": [],
   "source": [
    "scores=scores_test.as_data_frame(use_pandas=True)"
   ]
  },
  {
   "cell_type": "code",
   "execution_count": 114,
   "metadata": {},
   "outputs": [],
   "source": [
    "scores=scores.as_matrix(columns=scores.columns[0:])"
   ]
  },
  {
   "cell_type": "code",
   "execution_count": 115,
   "metadata": {},
   "outputs": [],
   "source": [
    "scores=scores[:,0]"
   ]
  },
  {
   "cell_type": "code",
   "execution_count": 116,
   "metadata": {},
   "outputs": [],
   "source": [
    "scores[ scores < 0] = 0"
   ]
  },
  {
   "cell_type": "code",
   "execution_count": 117,
   "metadata": {},
   "outputs": [],
   "source": [
    "submission = pd.DataFrame({'Id': credit_test_df.index.values +1, 'Probability': scores})\n",
    "submission.to_csv('dl.csv', index = False)"
   ]
  },
  {
   "cell_type": "code",
   "execution_count": 60,
   "metadata": {},
   "outputs": [],
   "source": [
    "h2o.cluster().shutdown()"
   ]
  },
  {
   "cell_type": "markdown",
   "metadata": {},
   "source": [
    "## Confusion Matrix"
   ]
  },
  {
   "cell_type": "code",
   "execution_count": 125,
   "metadata": {
    "collapsed": true
   },
   "outputs": [],
   "source": [
    "def plot_confusion_matrix(y_true, y_pred, title = 'Confusion matrix', cmap=plt.cm.Blues):\n",
    "    from sklearn.metrics import classification_report\n",
    "    from sklearn.metrics import confusion_matrix\n",
    "    print ('Classification Report:\\n')\n",
    "    print (classification_report(y_test, y_pred))\n",
    "    cm = confusion_matrix(y_true, y_pred)\n",
    "    def plot_confusion_matrix_plot(cm, title = 'Confusion matrix', cmap=plt.cm.Blues):\n",
    "        plt.imshow(cm, interpolation='nearest', cmap=cmap)\n",
    "        plt.title(title)\n",
    "        plt.colorbar()\n",
    "        tick_marks = np.arange(len(y_test.unique()))\n",
    "        plt.xticks(tick_marks, rotation=45)\n",
    "        plt.yticks(tick_marks)\n",
    "        plt.tight_layout()\n",
    "        plt.ylabel('True label')\n",
    "        plt.xlabel('Predicted label')\n",
    "    \n",
    "    print ('\\n Confusion matrix, without normalization: \\n')\n",
    "    print (cm)\n",
    "    plot_confusion_matrix_plot(cm=cm)\n",
    "    \n",
    "    cm_normalized = cm.astype('float') / cm.sum(axis=1)[:, np.newaxis]\n",
    "    print('\\n Normalized confusion matrix \\n')\n",
    "    print(cm_normalized)\n",
    "    plt.figure()\n",
    "    plot_confusion_matrix_plot(cm_normalized, title='Normalized confusion matrix')\n",
    "\n",
    "def makePredThresh(fittedCls, thr = 0.5, X_test=X_test):\n",
    "    prob = fittedCls.predict_proba(X_test)[: ,1]\n",
    "    final = []\n",
    "    for p in prob:\n",
    "        if p >= thr:\n",
    "            final.append(1)\n",
    "        else:\n",
    "            final.append(0)\n",
    "    \n",
    "    return final"
   ]
  },
  {
   "cell_type": "code",
   "execution_count": 126,
   "metadata": {},
   "outputs": [],
   "source": [
    "pred = makePredThresh(gb_mejorado, thr=0.0645)"
   ]
  },
  {
   "cell_type": "code",
   "execution_count": 127,
   "metadata": {},
   "outputs": [
    {
     "name": "stdout",
     "output_type": "stream",
     "text": [
      "Classification Report:\n",
      "\n"
     ]
    },
    {
     "ename": "NameError",
     "evalue": "name 'y_test' is not defined",
     "output_type": "error",
     "traceback": [
      "\u001b[0;31m---------------------------------------------------------------------------\u001b[0m",
      "\u001b[0;31mNameError\u001b[0m                                 Traceback (most recent call last)",
      "\u001b[0;32m<ipython-input-127-31d16b11b068>\u001b[0m in \u001b[0;36m<module>\u001b[0;34m()\u001b[0m\n\u001b[0;32m----> 1\u001b[0;31m \u001b[0mplot_confusion_matrix\u001b[0m\u001b[1;33m(\u001b[0m\u001b[0mY_dev\u001b[0m\u001b[1;33m,\u001b[0m \u001b[0mpred\u001b[0m\u001b[1;33m)\u001b[0m\u001b[1;33m\u001b[0m\u001b[0m\n\u001b[0m",
      "\u001b[0;32m<ipython-input-125-b343c71e1d05>\u001b[0m in \u001b[0;36mplot_confusion_matrix\u001b[0;34m(y_true, y_pred, title, cmap)\u001b[0m\n\u001b[1;32m      3\u001b[0m     \u001b[1;32mfrom\u001b[0m \u001b[0msklearn\u001b[0m\u001b[1;33m.\u001b[0m\u001b[0mmetrics\u001b[0m \u001b[1;32mimport\u001b[0m \u001b[0mconfusion_matrix\u001b[0m\u001b[1;33m\u001b[0m\u001b[0m\n\u001b[1;32m      4\u001b[0m     \u001b[0mprint\u001b[0m \u001b[1;33m(\u001b[0m\u001b[1;34m'Classification Report:\\n'\u001b[0m\u001b[1;33m)\u001b[0m\u001b[1;33m\u001b[0m\u001b[0m\n\u001b[0;32m----> 5\u001b[0;31m     \u001b[0mprint\u001b[0m \u001b[1;33m(\u001b[0m\u001b[0mclassification_report\u001b[0m\u001b[1;33m(\u001b[0m\u001b[0my_test\u001b[0m\u001b[1;33m,\u001b[0m \u001b[0my_pred\u001b[0m\u001b[1;33m)\u001b[0m\u001b[1;33m)\u001b[0m\u001b[1;33m\u001b[0m\u001b[0m\n\u001b[0m\u001b[1;32m      6\u001b[0m     \u001b[0mcm\u001b[0m \u001b[1;33m=\u001b[0m \u001b[0mconfusion_matrix\u001b[0m\u001b[1;33m(\u001b[0m\u001b[0my_true\u001b[0m\u001b[1;33m,\u001b[0m \u001b[0my_pred\u001b[0m\u001b[1;33m)\u001b[0m\u001b[1;33m\u001b[0m\u001b[0m\n\u001b[1;32m      7\u001b[0m     \u001b[1;32mdef\u001b[0m \u001b[0mplot_confusion_matrix_plot\u001b[0m\u001b[1;33m(\u001b[0m\u001b[0mcm\u001b[0m\u001b[1;33m,\u001b[0m \u001b[0mtitle\u001b[0m \u001b[1;33m=\u001b[0m \u001b[1;34m'Confusion matrix'\u001b[0m\u001b[1;33m,\u001b[0m \u001b[0mcmap\u001b[0m\u001b[1;33m=\u001b[0m\u001b[0mplt\u001b[0m\u001b[1;33m.\u001b[0m\u001b[0mcm\u001b[0m\u001b[1;33m.\u001b[0m\u001b[0mBlues\u001b[0m\u001b[1;33m)\u001b[0m\u001b[1;33m:\u001b[0m\u001b[1;33m\u001b[0m\u001b[0m\n",
      "\u001b[0;31mNameError\u001b[0m: name 'y_test' is not defined"
     ]
    }
   ],
   "source": [
    "plot_confusion_matrix(Y_dev, pred)"
   ]
  }
 ],
 "metadata": {
  "kernelspec": {
   "display_name": "Python 3",
   "language": "python",
   "name": "python3"
  },
  "language_info": {
   "codemirror_mode": {
    "name": "ipython",
    "version": 3
   },
   "file_extension": ".py",
   "mimetype": "text/x-python",
   "name": "python",
   "nbconvert_exporter": "python",
   "pygments_lexer": "ipython3",
   "version": "3.6.3"
  }
 },
 "nbformat": 4,
 "nbformat_minor": 2
}
