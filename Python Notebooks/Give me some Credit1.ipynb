{
 "cells": [
  {
   "cell_type": "markdown",
   "metadata": {},
   "source": [
    "# Give me some Credit\n",
    "\n",
    "**Data**\n",
    "\n",
    "**SeriousDlqin2yrs:** Person experienced 90 days past due delinquency or worse\n",
    "\n",
    "**RevolvingUtilizationOfUnsecuredLines:** Total balance on credit cards and personal lines of credit except real estate and no installment debt like car loans divided by the sum of credit limits\n",
    "\n",
    "**age:** Age of borrower in years\n",
    "\n",
    "**NumberOfTime30-59DaysPastDueNotWorse:** Number of times borrower has been 30-59 days past due but no worse in the last 2 years.\n",
    "\n",
    "**DebtRatio:** Monthly debt payments, alimony,living costs divided by monthy gross income\n",
    "\n",
    "**MonthlyIncome:** Monthly income\n",
    "\n",
    "**NumberOfOpenCreditLinesAndLoans:** Number of Open loans (installment like car loan or mortgage) and Lines of credit (e.g. credit cards)\n",
    "\n",
    "**NumberOfTimes90DaysLate:** Number of times borrower has been 90 days or more past due.\n",
    "\n",
    "**NumberRealEstateLoansOrLines:** Number of mortgage and real estate loans including home equity lines of credit\n",
    "\n",
    "**NumberOfTime60-89DaysPastDueNotWorse:** Number of times borrower has been 60-89 days past due but no worse in the last 2 years.\n",
    "\n",
    "**NumberOfDependents:** Number of dependents in family excluding themselves (spouse, children etc.)"
   ]
  },
  {
   "cell_type": "code",
   "execution_count": 85,
   "metadata": {
    "collapsed": true
   },
   "outputs": [],
   "source": [
    "import pandas as pd\n",
    "import numpy as np\n",
    "import seaborn as sns\n",
    "import matplotlib.pyplot as plt"
   ]
  },
  {
   "cell_type": "code",
   "execution_count": 86,
   "metadata": {
    "collapsed": true
   },
   "outputs": [],
   "source": [
    "credit_df = pd.read_csv(\"data/cs-training.csv\")\n",
    "credit_test_df = pd.read_csv(\"data/cs-test.csv\")"
   ]
  },
  {
   "cell_type": "code",
   "execution_count": 87,
   "metadata": {},
   "outputs": [
    {
     "data": {
      "text/html": [
       "<div>\n",
       "<style>\n",
       "    .dataframe thead tr:only-child th {\n",
       "        text-align: right;\n",
       "    }\n",
       "\n",
       "    .dataframe thead th {\n",
       "        text-align: left;\n",
       "    }\n",
       "\n",
       "    .dataframe tbody tr th {\n",
       "        vertical-align: top;\n",
       "    }\n",
       "</style>\n",
       "<table border=\"1\" class=\"dataframe\">\n",
       "  <thead>\n",
       "    <tr style=\"text-align: right;\">\n",
       "      <th></th>\n",
       "      <th>Unnamed: 0</th>\n",
       "      <th>SeriousDlqin2yrs</th>\n",
       "      <th>RevolvingUtilizationOfUnsecuredLines</th>\n",
       "      <th>age</th>\n",
       "      <th>NumberOfTime30-59DaysPastDueNotWorse</th>\n",
       "      <th>DebtRatio</th>\n",
       "      <th>MonthlyIncome</th>\n",
       "      <th>NumberOfOpenCreditLinesAndLoans</th>\n",
       "      <th>NumberOfTimes90DaysLate</th>\n",
       "      <th>NumberRealEstateLoansOrLines</th>\n",
       "      <th>NumberOfTime60-89DaysPastDueNotWorse</th>\n",
       "      <th>NumberOfDependents</th>\n",
       "    </tr>\n",
       "  </thead>\n",
       "  <tbody>\n",
       "    <tr>\n",
       "      <th>0</th>\n",
       "      <td>1</td>\n",
       "      <td>NaN</td>\n",
       "      <td>0.885519</td>\n",
       "      <td>43</td>\n",
       "      <td>0</td>\n",
       "      <td>0.177513</td>\n",
       "      <td>5700.0</td>\n",
       "      <td>4</td>\n",
       "      <td>0</td>\n",
       "      <td>0</td>\n",
       "      <td>0</td>\n",
       "      <td>0.0</td>\n",
       "    </tr>\n",
       "    <tr>\n",
       "      <th>1</th>\n",
       "      <td>2</td>\n",
       "      <td>NaN</td>\n",
       "      <td>0.463295</td>\n",
       "      <td>57</td>\n",
       "      <td>0</td>\n",
       "      <td>0.527237</td>\n",
       "      <td>9141.0</td>\n",
       "      <td>15</td>\n",
       "      <td>0</td>\n",
       "      <td>4</td>\n",
       "      <td>0</td>\n",
       "      <td>2.0</td>\n",
       "    </tr>\n",
       "    <tr>\n",
       "      <th>2</th>\n",
       "      <td>3</td>\n",
       "      <td>NaN</td>\n",
       "      <td>0.043275</td>\n",
       "      <td>59</td>\n",
       "      <td>0</td>\n",
       "      <td>0.687648</td>\n",
       "      <td>5083.0</td>\n",
       "      <td>12</td>\n",
       "      <td>0</td>\n",
       "      <td>1</td>\n",
       "      <td>0</td>\n",
       "      <td>2.0</td>\n",
       "    </tr>\n",
       "    <tr>\n",
       "      <th>3</th>\n",
       "      <td>4</td>\n",
       "      <td>NaN</td>\n",
       "      <td>0.280308</td>\n",
       "      <td>38</td>\n",
       "      <td>1</td>\n",
       "      <td>0.925961</td>\n",
       "      <td>3200.0</td>\n",
       "      <td>7</td>\n",
       "      <td>0</td>\n",
       "      <td>2</td>\n",
       "      <td>0</td>\n",
       "      <td>0.0</td>\n",
       "    </tr>\n",
       "    <tr>\n",
       "      <th>4</th>\n",
       "      <td>5</td>\n",
       "      <td>NaN</td>\n",
       "      <td>1.000000</td>\n",
       "      <td>27</td>\n",
       "      <td>0</td>\n",
       "      <td>0.019917</td>\n",
       "      <td>3865.0</td>\n",
       "      <td>4</td>\n",
       "      <td>0</td>\n",
       "      <td>0</td>\n",
       "      <td>0</td>\n",
       "      <td>1.0</td>\n",
       "    </tr>\n",
       "  </tbody>\n",
       "</table>\n",
       "</div>"
      ],
      "text/plain": [
       "   Unnamed: 0  SeriousDlqin2yrs  RevolvingUtilizationOfUnsecuredLines  age  \\\n",
       "0           1               NaN                              0.885519   43   \n",
       "1           2               NaN                              0.463295   57   \n",
       "2           3               NaN                              0.043275   59   \n",
       "3           4               NaN                              0.280308   38   \n",
       "4           5               NaN                              1.000000   27   \n",
       "\n",
       "   NumberOfTime30-59DaysPastDueNotWorse  DebtRatio  MonthlyIncome  \\\n",
       "0                                     0   0.177513         5700.0   \n",
       "1                                     0   0.527237         9141.0   \n",
       "2                                     0   0.687648         5083.0   \n",
       "3                                     1   0.925961         3200.0   \n",
       "4                                     0   0.019917         3865.0   \n",
       "\n",
       "   NumberOfOpenCreditLinesAndLoans  NumberOfTimes90DaysLate  \\\n",
       "0                                4                        0   \n",
       "1                               15                        0   \n",
       "2                               12                        0   \n",
       "3                                7                        0   \n",
       "4                                4                        0   \n",
       "\n",
       "   NumberRealEstateLoansOrLines  NumberOfTime60-89DaysPastDueNotWorse  \\\n",
       "0                             0                                     0   \n",
       "1                             4                                     0   \n",
       "2                             1                                     0   \n",
       "3                             2                                     0   \n",
       "4                             0                                     0   \n",
       "\n",
       "   NumberOfDependents  \n",
       "0                 0.0  \n",
       "1                 2.0  \n",
       "2                 2.0  \n",
       "3                 0.0  \n",
       "4                 1.0  "
      ]
     },
     "execution_count": 87,
     "metadata": {},
     "output_type": "execute_result"
    }
   ],
   "source": [
    "credit_test_df.head()"
   ]
  },
  {
   "cell_type": "markdown",
   "metadata": {},
   "source": [
    "## Data Exploration"
   ]
  },
  {
   "cell_type": "code",
   "execution_count": 88,
   "metadata": {
    "collapsed": true
   },
   "outputs": [],
   "source": [
    "# drop the row id column \n",
    "credit_df =credit_df.drop(credit_df.columns[0],axis=1)\n",
    "credit_test_df =credit_test_df.drop(credit_test_df.columns[0],axis=1)"
   ]
  },
  {
   "cell_type": "code",
   "execution_count": 89,
   "metadata": {},
   "outputs": [
    {
     "data": {
      "text/plain": [
       "Index(['SeriousDlqin2yrs', 'RevolvingUtilizationOfUnsecuredLines', 'age',\n",
       "       'NumberOfTime30-59DaysPastDueNotWorse', 'DebtRatio', 'MonthlyIncome',\n",
       "       'NumberOfOpenCreditLinesAndLoans', 'NumberOfTimes90DaysLate',\n",
       "       'NumberRealEstateLoansOrLines', 'NumberOfTime60-89DaysPastDueNotWorse',\n",
       "       'NumberOfDependents'],\n",
       "      dtype='object')"
      ]
     },
     "execution_count": 89,
     "metadata": {},
     "output_type": "execute_result"
    }
   ],
   "source": [
    "credit_df.columns"
   ]
  },
  {
   "cell_type": "code",
   "execution_count": 90,
   "metadata": {},
   "outputs": [
    {
     "data": {
      "text/html": [
       "<div>\n",
       "<style>\n",
       "    .dataframe thead tr:only-child th {\n",
       "        text-align: right;\n",
       "    }\n",
       "\n",
       "    .dataframe thead th {\n",
       "        text-align: left;\n",
       "    }\n",
       "\n",
       "    .dataframe tbody tr th {\n",
       "        vertical-align: top;\n",
       "    }\n",
       "</style>\n",
       "<table border=\"1\" class=\"dataframe\">\n",
       "  <thead>\n",
       "    <tr style=\"text-align: right;\">\n",
       "      <th></th>\n",
       "      <th>SeriousDlqin2yrs</th>\n",
       "      <th>RevolvingUtilizationOfUnsecuredLines</th>\n",
       "      <th>age</th>\n",
       "      <th>NumberOfTime30-59DaysPastDueNotWorse</th>\n",
       "      <th>DebtRatio</th>\n",
       "      <th>MonthlyIncome</th>\n",
       "      <th>NumberOfOpenCreditLinesAndLoans</th>\n",
       "      <th>NumberOfTimes90DaysLate</th>\n",
       "      <th>NumberRealEstateLoansOrLines</th>\n",
       "      <th>NumberOfTime60-89DaysPastDueNotWorse</th>\n",
       "      <th>NumberOfDependents</th>\n",
       "    </tr>\n",
       "  </thead>\n",
       "  <tbody>\n",
       "    <tr>\n",
       "      <th>count</th>\n",
       "      <td>150000.000000</td>\n",
       "      <td>150000.000000</td>\n",
       "      <td>150000.000000</td>\n",
       "      <td>150000.000000</td>\n",
       "      <td>150000.000000</td>\n",
       "      <td>1.202690e+05</td>\n",
       "      <td>150000.000000</td>\n",
       "      <td>150000.000000</td>\n",
       "      <td>150000.000000</td>\n",
       "      <td>150000.000000</td>\n",
       "      <td>146076.000000</td>\n",
       "    </tr>\n",
       "    <tr>\n",
       "      <th>mean</th>\n",
       "      <td>0.066840</td>\n",
       "      <td>6.048438</td>\n",
       "      <td>52.295207</td>\n",
       "      <td>0.421033</td>\n",
       "      <td>353.005076</td>\n",
       "      <td>6.670221e+03</td>\n",
       "      <td>8.452760</td>\n",
       "      <td>0.265973</td>\n",
       "      <td>1.018240</td>\n",
       "      <td>0.240387</td>\n",
       "      <td>0.757222</td>\n",
       "    </tr>\n",
       "    <tr>\n",
       "      <th>std</th>\n",
       "      <td>0.249746</td>\n",
       "      <td>249.755371</td>\n",
       "      <td>14.771866</td>\n",
       "      <td>4.192781</td>\n",
       "      <td>2037.818523</td>\n",
       "      <td>1.438467e+04</td>\n",
       "      <td>5.145951</td>\n",
       "      <td>4.169304</td>\n",
       "      <td>1.129771</td>\n",
       "      <td>4.155179</td>\n",
       "      <td>1.115086</td>\n",
       "    </tr>\n",
       "    <tr>\n",
       "      <th>min</th>\n",
       "      <td>0.000000</td>\n",
       "      <td>0.000000</td>\n",
       "      <td>0.000000</td>\n",
       "      <td>0.000000</td>\n",
       "      <td>0.000000</td>\n",
       "      <td>0.000000e+00</td>\n",
       "      <td>0.000000</td>\n",
       "      <td>0.000000</td>\n",
       "      <td>0.000000</td>\n",
       "      <td>0.000000</td>\n",
       "      <td>0.000000</td>\n",
       "    </tr>\n",
       "    <tr>\n",
       "      <th>25%</th>\n",
       "      <td>0.000000</td>\n",
       "      <td>0.029867</td>\n",
       "      <td>41.000000</td>\n",
       "      <td>0.000000</td>\n",
       "      <td>0.175074</td>\n",
       "      <td>3.400000e+03</td>\n",
       "      <td>5.000000</td>\n",
       "      <td>0.000000</td>\n",
       "      <td>0.000000</td>\n",
       "      <td>0.000000</td>\n",
       "      <td>0.000000</td>\n",
       "    </tr>\n",
       "    <tr>\n",
       "      <th>50%</th>\n",
       "      <td>0.000000</td>\n",
       "      <td>0.154181</td>\n",
       "      <td>52.000000</td>\n",
       "      <td>0.000000</td>\n",
       "      <td>0.366508</td>\n",
       "      <td>5.400000e+03</td>\n",
       "      <td>8.000000</td>\n",
       "      <td>0.000000</td>\n",
       "      <td>1.000000</td>\n",
       "      <td>0.000000</td>\n",
       "      <td>0.000000</td>\n",
       "    </tr>\n",
       "    <tr>\n",
       "      <th>75%</th>\n",
       "      <td>0.000000</td>\n",
       "      <td>0.559046</td>\n",
       "      <td>63.000000</td>\n",
       "      <td>0.000000</td>\n",
       "      <td>0.868254</td>\n",
       "      <td>8.249000e+03</td>\n",
       "      <td>11.000000</td>\n",
       "      <td>0.000000</td>\n",
       "      <td>2.000000</td>\n",
       "      <td>0.000000</td>\n",
       "      <td>1.000000</td>\n",
       "    </tr>\n",
       "    <tr>\n",
       "      <th>max</th>\n",
       "      <td>1.000000</td>\n",
       "      <td>50708.000000</td>\n",
       "      <td>109.000000</td>\n",
       "      <td>98.000000</td>\n",
       "      <td>329664.000000</td>\n",
       "      <td>3.008750e+06</td>\n",
       "      <td>58.000000</td>\n",
       "      <td>98.000000</td>\n",
       "      <td>54.000000</td>\n",
       "      <td>98.000000</td>\n",
       "      <td>20.000000</td>\n",
       "    </tr>\n",
       "  </tbody>\n",
       "</table>\n",
       "</div>"
      ],
      "text/plain": [
       "       SeriousDlqin2yrs  RevolvingUtilizationOfUnsecuredLines            age  \\\n",
       "count     150000.000000                         150000.000000  150000.000000   \n",
       "mean           0.066840                              6.048438      52.295207   \n",
       "std            0.249746                            249.755371      14.771866   \n",
       "min            0.000000                              0.000000       0.000000   \n",
       "25%            0.000000                              0.029867      41.000000   \n",
       "50%            0.000000                              0.154181      52.000000   \n",
       "75%            0.000000                              0.559046      63.000000   \n",
       "max            1.000000                          50708.000000     109.000000   \n",
       "\n",
       "       NumberOfTime30-59DaysPastDueNotWorse      DebtRatio  MonthlyIncome  \\\n",
       "count                         150000.000000  150000.000000   1.202690e+05   \n",
       "mean                               0.421033     353.005076   6.670221e+03   \n",
       "std                                4.192781    2037.818523   1.438467e+04   \n",
       "min                                0.000000       0.000000   0.000000e+00   \n",
       "25%                                0.000000       0.175074   3.400000e+03   \n",
       "50%                                0.000000       0.366508   5.400000e+03   \n",
       "75%                                0.000000       0.868254   8.249000e+03   \n",
       "max                               98.000000  329664.000000   3.008750e+06   \n",
       "\n",
       "       NumberOfOpenCreditLinesAndLoans  NumberOfTimes90DaysLate  \\\n",
       "count                    150000.000000            150000.000000   \n",
       "mean                          8.452760                 0.265973   \n",
       "std                           5.145951                 4.169304   \n",
       "min                           0.000000                 0.000000   \n",
       "25%                           5.000000                 0.000000   \n",
       "50%                           8.000000                 0.000000   \n",
       "75%                          11.000000                 0.000000   \n",
       "max                          58.000000                98.000000   \n",
       "\n",
       "       NumberRealEstateLoansOrLines  NumberOfTime60-89DaysPastDueNotWorse  \\\n",
       "count                 150000.000000                         150000.000000   \n",
       "mean                       1.018240                              0.240387   \n",
       "std                        1.129771                              4.155179   \n",
       "min                        0.000000                              0.000000   \n",
       "25%                        0.000000                              0.000000   \n",
       "50%                        1.000000                              0.000000   \n",
       "75%                        2.000000                              0.000000   \n",
       "max                       54.000000                             98.000000   \n",
       "\n",
       "       NumberOfDependents  \n",
       "count       146076.000000  \n",
       "mean             0.757222  \n",
       "std              1.115086  \n",
       "min              0.000000  \n",
       "25%              0.000000  \n",
       "50%              0.000000  \n",
       "75%              1.000000  \n",
       "max             20.000000  "
      ]
     },
     "execution_count": 90,
     "metadata": {},
     "output_type": "execute_result"
    }
   ],
   "source": [
    "credit_df.describe()"
   ]
  },
  {
   "cell_type": "code",
   "execution_count": 91,
   "metadata": {},
   "outputs": [
    {
     "data": {
      "text/html": [
       "<div>\n",
       "<style>\n",
       "    .dataframe thead tr:only-child th {\n",
       "        text-align: right;\n",
       "    }\n",
       "\n",
       "    .dataframe thead th {\n",
       "        text-align: left;\n",
       "    }\n",
       "\n",
       "    .dataframe tbody tr th {\n",
       "        vertical-align: top;\n",
       "    }\n",
       "</style>\n",
       "<table border=\"1\" class=\"dataframe\">\n",
       "  <thead>\n",
       "    <tr style=\"text-align: right;\">\n",
       "      <th></th>\n",
       "      <th>SeriousDlqin2yrs</th>\n",
       "      <th>RevolvingUtilizationOfUnsecuredLines</th>\n",
       "      <th>age</th>\n",
       "      <th>NumberOfTime30-59DaysPastDueNotWorse</th>\n",
       "      <th>DebtRatio</th>\n",
       "      <th>MonthlyIncome</th>\n",
       "      <th>NumberOfOpenCreditLinesAndLoans</th>\n",
       "      <th>NumberOfTimes90DaysLate</th>\n",
       "      <th>NumberRealEstateLoansOrLines</th>\n",
       "      <th>NumberOfTime60-89DaysPastDueNotWorse</th>\n",
       "      <th>NumberOfDependents</th>\n",
       "    </tr>\n",
       "  </thead>\n",
       "  <tbody>\n",
       "    <tr>\n",
       "      <th>count</th>\n",
       "      <td>0.0</td>\n",
       "      <td>101503.000000</td>\n",
       "      <td>101503.000000</td>\n",
       "      <td>101503.000000</td>\n",
       "      <td>101503.000000</td>\n",
       "      <td>8.140000e+04</td>\n",
       "      <td>101503.000000</td>\n",
       "      <td>101503.000000</td>\n",
       "      <td>101503.000000</td>\n",
       "      <td>101503.000000</td>\n",
       "      <td>98877.000000</td>\n",
       "    </tr>\n",
       "    <tr>\n",
       "      <th>mean</th>\n",
       "      <td>NaN</td>\n",
       "      <td>5.310000</td>\n",
       "      <td>52.405436</td>\n",
       "      <td>0.453770</td>\n",
       "      <td>344.475020</td>\n",
       "      <td>6.855036e+03</td>\n",
       "      <td>8.453514</td>\n",
       "      <td>0.296691</td>\n",
       "      <td>1.013074</td>\n",
       "      <td>0.270317</td>\n",
       "      <td>0.769046</td>\n",
       "    </tr>\n",
       "    <tr>\n",
       "      <th>std</th>\n",
       "      <td>NaN</td>\n",
       "      <td>196.156039</td>\n",
       "      <td>14.779756</td>\n",
       "      <td>4.538487</td>\n",
       "      <td>1632.595231</td>\n",
       "      <td>3.650860e+04</td>\n",
       "      <td>5.144100</td>\n",
       "      <td>4.515859</td>\n",
       "      <td>1.110253</td>\n",
       "      <td>4.503578</td>\n",
       "      <td>1.136778</td>\n",
       "    </tr>\n",
       "    <tr>\n",
       "      <th>min</th>\n",
       "      <td>NaN</td>\n",
       "      <td>0.000000</td>\n",
       "      <td>21.000000</td>\n",
       "      <td>0.000000</td>\n",
       "      <td>0.000000</td>\n",
       "      <td>0.000000e+00</td>\n",
       "      <td>0.000000</td>\n",
       "      <td>0.000000</td>\n",
       "      <td>0.000000</td>\n",
       "      <td>0.000000</td>\n",
       "      <td>0.000000</td>\n",
       "    </tr>\n",
       "    <tr>\n",
       "      <th>25%</th>\n",
       "      <td>NaN</td>\n",
       "      <td>0.030131</td>\n",
       "      <td>41.000000</td>\n",
       "      <td>0.000000</td>\n",
       "      <td>0.173423</td>\n",
       "      <td>3.408000e+03</td>\n",
       "      <td>5.000000</td>\n",
       "      <td>0.000000</td>\n",
       "      <td>0.000000</td>\n",
       "      <td>0.000000</td>\n",
       "      <td>0.000000</td>\n",
       "    </tr>\n",
       "    <tr>\n",
       "      <th>50%</th>\n",
       "      <td>NaN</td>\n",
       "      <td>0.152586</td>\n",
       "      <td>52.000000</td>\n",
       "      <td>0.000000</td>\n",
       "      <td>0.364260</td>\n",
       "      <td>5.400000e+03</td>\n",
       "      <td>8.000000</td>\n",
       "      <td>0.000000</td>\n",
       "      <td>1.000000</td>\n",
       "      <td>0.000000</td>\n",
       "      <td>0.000000</td>\n",
       "    </tr>\n",
       "    <tr>\n",
       "      <th>75%</th>\n",
       "      <td>NaN</td>\n",
       "      <td>0.564225</td>\n",
       "      <td>63.000000</td>\n",
       "      <td>0.000000</td>\n",
       "      <td>0.851619</td>\n",
       "      <td>8.200000e+03</td>\n",
       "      <td>11.000000</td>\n",
       "      <td>0.000000</td>\n",
       "      <td>2.000000</td>\n",
       "      <td>0.000000</td>\n",
       "      <td>1.000000</td>\n",
       "    </tr>\n",
       "    <tr>\n",
       "      <th>max</th>\n",
       "      <td>NaN</td>\n",
       "      <td>21821.000000</td>\n",
       "      <td>104.000000</td>\n",
       "      <td>98.000000</td>\n",
       "      <td>268326.000000</td>\n",
       "      <td>7.727000e+06</td>\n",
       "      <td>85.000000</td>\n",
       "      <td>98.000000</td>\n",
       "      <td>37.000000</td>\n",
       "      <td>98.000000</td>\n",
       "      <td>43.000000</td>\n",
       "    </tr>\n",
       "  </tbody>\n",
       "</table>\n",
       "</div>"
      ],
      "text/plain": [
       "       SeriousDlqin2yrs  RevolvingUtilizationOfUnsecuredLines            age  \\\n",
       "count               0.0                         101503.000000  101503.000000   \n",
       "mean                NaN                              5.310000      52.405436   \n",
       "std                 NaN                            196.156039      14.779756   \n",
       "min                 NaN                              0.000000      21.000000   \n",
       "25%                 NaN                              0.030131      41.000000   \n",
       "50%                 NaN                              0.152586      52.000000   \n",
       "75%                 NaN                              0.564225      63.000000   \n",
       "max                 NaN                          21821.000000     104.000000   \n",
       "\n",
       "       NumberOfTime30-59DaysPastDueNotWorse      DebtRatio  MonthlyIncome  \\\n",
       "count                         101503.000000  101503.000000   8.140000e+04   \n",
       "mean                               0.453770     344.475020   6.855036e+03   \n",
       "std                                4.538487    1632.595231   3.650860e+04   \n",
       "min                                0.000000       0.000000   0.000000e+00   \n",
       "25%                                0.000000       0.173423   3.408000e+03   \n",
       "50%                                0.000000       0.364260   5.400000e+03   \n",
       "75%                                0.000000       0.851619   8.200000e+03   \n",
       "max                               98.000000  268326.000000   7.727000e+06   \n",
       "\n",
       "       NumberOfOpenCreditLinesAndLoans  NumberOfTimes90DaysLate  \\\n",
       "count                    101503.000000            101503.000000   \n",
       "mean                          8.453514                 0.296691   \n",
       "std                           5.144100                 4.515859   \n",
       "min                           0.000000                 0.000000   \n",
       "25%                           5.000000                 0.000000   \n",
       "50%                           8.000000                 0.000000   \n",
       "75%                          11.000000                 0.000000   \n",
       "max                          85.000000                98.000000   \n",
       "\n",
       "       NumberRealEstateLoansOrLines  NumberOfTime60-89DaysPastDueNotWorse  \\\n",
       "count                 101503.000000                         101503.000000   \n",
       "mean                       1.013074                              0.270317   \n",
       "std                        1.110253                              4.503578   \n",
       "min                        0.000000                              0.000000   \n",
       "25%                        0.000000                              0.000000   \n",
       "50%                        1.000000                              0.000000   \n",
       "75%                        2.000000                              0.000000   \n",
       "max                       37.000000                             98.000000   \n",
       "\n",
       "       NumberOfDependents  \n",
       "count        98877.000000  \n",
       "mean             0.769046  \n",
       "std              1.136778  \n",
       "min              0.000000  \n",
       "25%              0.000000  \n",
       "50%              0.000000  \n",
       "75%              1.000000  \n",
       "max             43.000000  "
      ]
     },
     "execution_count": 91,
     "metadata": {},
     "output_type": "execute_result"
    }
   ],
   "source": [
    "credit_test_df.describe()"
   ]
  },
  {
   "cell_type": "markdown",
   "metadata": {},
   "source": [
    "### Cómo de desbalanceada está la variable de salida: SeriousDlqin2yrs"
   ]
  },
  {
   "cell_type": "code",
   "execution_count": 92,
   "metadata": {},
   "outputs": [
    {
     "data": {
      "image/png": "[encoded data removed]",
      "text/plain": [
       "<matplotlib.figure.Figure at 0x1280231c828>"
      ]
     },
     "metadata": {},
     "output_type": "display_data"
    }
   ],
   "source": [
    "ax = sns.countplot(x = credit_df.SeriousDlqin2yrs ,palette=\"Set1\")\n",
    "sns.set(font_scale=1.5)\n",
    "ax.set_ylim(top = 150000)\n",
    "ax.set_xlabel(' ')\n",
    "ax.set_ylabel(' ')\n",
    "fig = plt.gcf()\n",
    "fig.set_size_inches(10,5)\n",
    "ax.set_ylim(top=160000)\n",
    "plt.show()"
   ]
  },
  {
   "cell_type": "markdown",
   "metadata": {},
   "source": [
    "### NumberOfTime60-89DaysPastDueNotWorse, NumberOfTime30-59DaysPastDueNotWorse, NumberOfTimes90DaysLate : sustituir Outliers por la media"
   ]
  },
  {
   "cell_type": "code",
   "execution_count": 93,
   "metadata": {},
   "outputs": [
    {
     "data": {
      "text/plain": [
       "Counter({0: 142396,\n",
       "         1: 5731,\n",
       "         2: 1118,\n",
       "         3: 318,\n",
       "         4: 105,\n",
       "         5: 34,\n",
       "         6: 16,\n",
       "         7: 9,\n",
       "         8: 2,\n",
       "         9: 1,\n",
       "         11: 1,\n",
       "         96: 5,\n",
       "         98: 264})"
      ]
     },
     "execution_count": 93,
     "metadata": {},
     "output_type": "execute_result"
    }
   ],
   "source": [
    "from collections import Counter\n",
    "Counter(credit_df['NumberOfTime60-89DaysPastDueNotWorse'])"
   ]
  },
  {
   "cell_type": "code",
   "execution_count": 94,
   "metadata": {},
   "outputs": [
    {
     "data": {
      "text/plain": [
       "Counter({0: 126018,\n",
       "         1: 16033,\n",
       "         2: 4598,\n",
       "         3: 1754,\n",
       "         4: 747,\n",
       "         5: 342,\n",
       "         6: 140,\n",
       "         7: 54,\n",
       "         8: 25,\n",
       "         9: 12,\n",
       "         10: 4,\n",
       "         11: 1,\n",
       "         12: 2,\n",
       "         13: 1,\n",
       "         96: 5,\n",
       "         98: 264})"
      ]
     },
     "execution_count": 94,
     "metadata": {},
     "output_type": "execute_result"
    }
   ],
   "source": [
    "Counter(credit_df['NumberOfTime30-59DaysPastDueNotWorse'])"
   ]
  },
  {
   "cell_type": "code",
   "execution_count": 95,
   "metadata": {},
   "outputs": [
    {
     "data": {
      "text/plain": [
       "Counter({0: 141662,\n",
       "         1: 5243,\n",
       "         2: 1555,\n",
       "         3: 667,\n",
       "         4: 291,\n",
       "         5: 131,\n",
       "         6: 80,\n",
       "         7: 38,\n",
       "         8: 21,\n",
       "         9: 19,\n",
       "         10: 8,\n",
       "         11: 5,\n",
       "         12: 2,\n",
       "         13: 4,\n",
       "         14: 2,\n",
       "         15: 2,\n",
       "         17: 1,\n",
       "         96: 5,\n",
       "         98: 264})"
      ]
     },
     "execution_count": 95,
     "metadata": {},
     "output_type": "execute_result"
    }
   ],
   "source": [
    "Counter(credit_df['NumberOfTimes90DaysLate'])"
   ]
  },
  {
   "cell_type": "code",
   "execution_count": 96,
   "metadata": {
    "collapsed": true
   },
   "outputs": [],
   "source": [
    "def removeAndPutMedian(data):\n",
    "    Media = []\n",
    "    med = data.median()\n",
    "    for val in data:\n",
    "        if ((val == 98) | (val == 96)):\n",
    "            Media.append(med)\n",
    "        else:\n",
    "            Media.append(val)\n",
    "            \n",
    "    return Media"
   ]
  },
  {
   "cell_type": "code",
   "execution_count": 97,
   "metadata": {
    "collapsed": true
   },
   "outputs": [],
   "source": [
    "credit_df['NumberOfTime60-89DaysPastDueNotWorse'] = removeAndPutMedian(credit_df['NumberOfTime60-89DaysPastDueNotWorse'])\n",
    "credit_df['NumberOfTime30-59DaysPastDueNotWorse']=removeAndPutMedian(credit_df['NumberOfTime30-59DaysPastDueNotWorse'])\n",
    "credit_df['NumberOfTimes90DaysLate']=removeAndPutMedian(credit_df['NumberOfTimes90DaysLate'])"
   ]
  },
  {
   "cell_type": "code",
   "execution_count": 98,
   "metadata": {
    "collapsed": true
   },
   "outputs": [],
   "source": [
    "credit_test_df['NumberOfTime60-89DaysPastDueNotWorse'] = removeAndPutMedian(credit_test_df['NumberOfTime60-89DaysPastDueNotWorse'])\n",
    "credit_test_df['NumberOfTime30-59DaysPastDueNotWorse']=removeAndPutMedian(credit_test_df['NumberOfTime30-59DaysPastDueNotWorse'])\n",
    "credit_test_df['NumberOfTimes90DaysLate']=removeAndPutMedian(credit_test_df['NumberOfTimes90DaysLate'])"
   ]
  },
  {
   "cell_type": "markdown",
   "metadata": {},
   "source": [
    "### RevolvingUtilizationOfUnsecuredLines: eliminar Outliers"
   ]
  },
  {
   "cell_type": "code",
   "execution_count": 99,
   "metadata": {},
   "outputs": [
    {
     "data": {
      "text/plain": [
       "50708.0"
      ]
     },
     "execution_count": 99,
     "metadata": {},
     "output_type": "execute_result"
    }
   ],
   "source": [
    "#desviación tipica muy alta\n",
    "credit_df['RevolvingUtilizationOfUnsecuredLines'].max()"
   ]
  },
  {
   "cell_type": "code",
   "execution_count": 100,
   "metadata": {},
   "outputs": [
    {
     "data": {
      "image/png": "[encoded data removed]",
      "text/plain": [
       "<matplotlib.figure.Figure at 0x12802a46ba8>"
      ]
     },
     "metadata": {},
     "output_type": "display_data"
    }
   ],
   "source": [
    "sns.set(style=\"darkgrid\")\n",
    "g = sns.FacetGrid(credit_df, margin_titles=True,aspect=5)\n",
    "g.map(plt.hist, \"RevolvingUtilizationOfUnsecuredLines\", color=\"steelblue\", bins=50, lw=0)\n",
    "plt.show()"
   ]
  },
  {
   "cell_type": "code",
   "execution_count": 101,
   "metadata": {},
   "outputs": [
    {
     "data": {
      "text/plain": [
       "371"
      ]
     },
     "execution_count": 101,
     "metadata": {},
     "output_type": "execute_result"
    }
   ],
   "source": [
    "credit_df['RevolvingUtilizationOfUnsecuredLines'][credit_df['RevolvingUtilizationOfUnsecuredLines']>2].count()"
   ]
  },
  {
   "cell_type": "code",
   "execution_count": 102,
   "metadata": {
    "collapsed": true
   },
   "outputs": [],
   "source": [
    "Revol= []\n",
    "for val in credit_df['RevolvingUtilizationOfUnsecuredLines']:\n",
    "    if val <= 2:\n",
    "        Revol.append(val)\n",
    "    else:\n",
    "        Revol.append(2)\n",
    "credit_df['RevolvingUtilizationOfUnsecuredLines']=Revol"
   ]
  },
  {
   "cell_type": "code",
   "execution_count": 103,
   "metadata": {
    "collapsed": true
   },
   "outputs": [],
   "source": [
    "Revol= []\n",
    "for val in credit_test_df['RevolvingUtilizationOfUnsecuredLines']:\n",
    "    if val <= 2:\n",
    "        Revol.append(val)\n",
    "    else:\n",
    "        Revol.append(2)\n",
    "credit_test_df['RevolvingUtilizationOfUnsecuredLines']=Revol"
   ]
  },
  {
   "cell_type": "markdown",
   "metadata": {},
   "source": [
    "### age: eliminamos un outlier en 0"
   ]
  },
  {
   "cell_type": "code",
   "execution_count": 104,
   "metadata": {},
   "outputs": [
    {
     "data": {
      "image/png": "[encoded data removed]",
      "text/plain": [
       "<matplotlib.figure.Figure at 0x128009761d0>"
      ]
     },
     "metadata": {},
     "output_type": "display_data"
    }
   ],
   "source": [
    "sns.set(style=\"darkgrid\")\n",
    "g = sns.FacetGrid(credit_df, margin_titles=True,aspect=5)\n",
    "g.map(plt.hist, \"age\", color=\"steelblue\", bins=50, lw=0)\n",
    "plt.show()"
   ]
  },
  {
   "cell_type": "code",
   "execution_count": 105,
   "metadata": {},
   "outputs": [
    {
     "data": {
      "text/plain": [
       "65695    0\n",
       "Name: age, dtype: int64"
      ]
     },
     "execution_count": 105,
     "metadata": {},
     "output_type": "execute_result"
    }
   ],
   "source": [
    "credit_df['age'][credit_df['age']<20]"
   ]
  },
  {
   "cell_type": "code",
   "execution_count": 106,
   "metadata": {},
   "outputs": [
    {
     "data": {
      "text/plain": [
       "109"
      ]
     },
     "execution_count": 106,
     "metadata": {},
     "output_type": "execute_result"
    }
   ],
   "source": [
    "credit_df['age'].max()"
   ]
  },
  {
   "cell_type": "code",
   "execution_count": 107,
   "metadata": {
    "collapsed": true
   },
   "outputs": [],
   "source": [
    "age= []\n",
    "for val in credit_df['age']:\n",
    "    if val <20:\n",
    "        age.append(20)\n",
    "    else:\n",
    "        age.append(val)\n",
    "credit_df['age']=age"
   ]
  },
  {
   "cell_type": "code",
   "execution_count": 108,
   "metadata": {
    "collapsed": true
   },
   "outputs": [],
   "source": [
    "age= []\n",
    "for val in credit_test_df['age']:\n",
    "    if val <20:\n",
    "        age.append(20)\n",
    "    else:\n",
    "        age.append(val)\n",
    "credit_test_df['age']=age"
   ]
  },
  {
   "cell_type": "markdown",
   "metadata": {},
   "source": [
    "### DebtRatio"
   ]
  },
  {
   "cell_type": "code",
   "execution_count": 109,
   "metadata": {},
   "outputs": [
    {
     "data": {
      "image/png": "[encoded data removed]",
      "text/plain": [
       "<matplotlib.figure.Figure at 0x128013f1b70>"
      ]
     },
     "metadata": {},
     "output_type": "display_data"
    }
   ],
   "source": [
    "sns.set(style=\"darkgrid\")\n",
    "g = sns.FacetGrid(credit_df[credit_df[\"DebtRatio\"]>1], margin_titles=True,aspect=5)\n",
    "g.map(plt.hist, \"DebtRatio\", color=\"steelblue\", bins=50, lw=0)\n",
    "plt.show()"
   ]
  },
  {
   "cell_type": "code",
   "execution_count": 110,
   "metadata": {
    "collapsed": true
   },
   "outputs": [],
   "source": [
    "num= []\n",
    "for val in credit_df[\"DebtRatio\"]:\n",
    "    if val <150000:\n",
    "        num.append(val)\n",
    "    else:\n",
    "        num.append(150000)\n",
    "credit_df[\"DebtRatio\"]=num"
   ]
  },
  {
   "cell_type": "code",
   "execution_count": 111,
   "metadata": {
    "collapsed": true
   },
   "outputs": [],
   "source": [
    "num= []\n",
    "for val in credit_test_df[\"DebtRatio\"]:\n",
    "    if val <150000:\n",
    "        num.append(val)\n",
    "    else:\n",
    "        num.append(150000)\n",
    "credit_test_df[\"DebtRatio\"]=num"
   ]
  },
  {
   "cell_type": "markdown",
   "metadata": {},
   "source": [
    "### NumberOfOpenCreditLinesAndLoans"
   ]
  },
  {
   "cell_type": "code",
   "execution_count": 112,
   "metadata": {},
   "outputs": [
    {
     "data": {
      "image/png": "[encoded data removed]",
      "text/plain": [
       "<matplotlib.figure.Figure at 0x12801f74748>"
      ]
     },
     "metadata": {},
     "output_type": "display_data"
    }
   ],
   "source": [
    "sns.set(style=\"darkgrid\")\n",
    "g = sns.FacetGrid(credit_df, margin_titles=True,aspect=5)\n",
    "g.map(plt.hist, \"NumberOfOpenCreditLinesAndLoans\", color=\"steelblue\", bins=50, lw=0)\n",
    "plt.show()"
   ]
  },
  {
   "cell_type": "code",
   "execution_count": 113,
   "metadata": {
    "collapsed": true
   },
   "outputs": [],
   "source": [
    "num= []\n",
    "for val in credit_df[\"NumberOfOpenCreditLinesAndLoans\"]:\n",
    "    if val <45:\n",
    "        num.append(val)\n",
    "    else:\n",
    "        num.append(45)\n",
    "credit_df[\"NumberOfOpenCreditLinesAndLoans\"]=num"
   ]
  },
  {
   "cell_type": "code",
   "execution_count": 114,
   "metadata": {
    "collapsed": true
   },
   "outputs": [],
   "source": [
    "num= []\n",
    "for val in credit_test_df[\"NumberOfOpenCreditLinesAndLoans\"]:\n",
    "    if val <45:\n",
    "        num.append(val)\n",
    "    else:\n",
    "        num.append(45)\n",
    "credit_test_df[\"NumberOfOpenCreditLinesAndLoans\"]=num"
   ]
  },
  {
   "cell_type": "markdown",
   "metadata": {},
   "source": [
    "### NumberRealEstateLoansOrLines"
   ]
  },
  {
   "cell_type": "code",
   "execution_count": 115,
   "metadata": {},
   "outputs": [
    {
     "data": {
      "image/png": "[encoded data removed]",
      "text/plain": [
       "<matplotlib.figure.Figure at 0x12803dfa470>"
      ]
     },
     "metadata": {},
     "output_type": "display_data"
    }
   ],
   "source": [
    "sns.set(style=\"darkgrid\")\n",
    "g = sns.FacetGrid(credit_df[credit_df[\"NumberRealEstateLoansOrLines\"]>17], margin_titles=True,aspect=5)\n",
    "g.map(plt.hist, \"NumberRealEstateLoansOrLines\", color=\"steelblue\", bins=50, lw=0)\n",
    "plt.show()"
   ]
  },
  {
   "cell_type": "markdown",
   "metadata": {},
   "source": [
    "### NumberOfDependents"
   ]
  },
  {
   "cell_type": "code",
   "execution_count": 116,
   "metadata": {},
   "outputs": [
    {
     "data": {
      "image/png": "[encoded data removed]",
      "text/plain": [
       "<matplotlib.figure.Figure at 0x12801467b70>"
      ]
     },
     "metadata": {},
     "output_type": "display_data"
    }
   ],
   "source": [
    "sns.set(style=\"darkgrid\")\n",
    "g = sns.FacetGrid(credit_df, margin_titles=True,aspect=5)\n",
    "g.map(plt.hist, \"NumberOfDependents\", color=\"steelblue\", bins=50, lw=0)\n",
    "plt.show()"
   ]
  },
  {
   "cell_type": "code",
   "execution_count": 117,
   "metadata": {
    "collapsed": true
   },
   "outputs": [],
   "source": [
    "num= []\n",
    "for val in credit_df[\"NumberOfDependents\"]:\n",
    "    if val <10:\n",
    "        num.append(val)\n",
    "    else:\n",
    "        num.append(10)\n",
    "credit_df[\"NumberOfDependents\"]=num"
   ]
  },
  {
   "cell_type": "code",
   "execution_count": 118,
   "metadata": {
    "collapsed": true
   },
   "outputs": [],
   "source": [
    "num= []\n",
    "for val in credit_test_df[\"NumberOfDependents\"]:\n",
    "    if val <10:\n",
    "        num.append(val)\n",
    "    else:\n",
    "        num.append(10)\n",
    "credit_test_df[\"NumberOfDependents\"]=num"
   ]
  },
  {
   "cell_type": "code",
   "execution_count": 119,
   "metadata": {
    "collapsed": true
   },
   "outputs": [],
   "source": [
    "#Sustituimos los NAs por la media\n",
    "credit_df[\"NumberOfDependents\"].fillna(credit_df[\"NumberOfDependents\"].median(), inplace=True)\n",
    "credit_test_df[\"NumberOfDependents\"].fillna(credit_test_df[\"NumberOfDependents\"].median(), inplace=True)"
   ]
  },
  {
   "cell_type": "markdown",
   "metadata": {},
   "source": [
    "### MonthlyIncome\n",
    "\n",
    "Construimos un modelo LinearRegression para predecir los valores NAs"
   ]
  },
  {
   "cell_type": "code",
   "execution_count": 120,
   "metadata": {
    "collapsed": true
   },
   "outputs": [],
   "source": [
    "train = credit_df[credit_df.MonthlyIncome.isnull() == False]\n",
    "test = credit_df[credit_df.MonthlyIncome.isnull() == True]"
   ]
  },
  {
   "cell_type": "code",
   "execution_count": 121,
   "metadata": {},
   "outputs": [
    {
     "data": {
      "text/plain": [
       "((120269, 11), (29731, 11))"
      ]
     },
     "execution_count": 121,
     "metadata": {},
     "output_type": "execute_result"
    }
   ],
   "source": [
    "train.shape, test.shape"
   ]
  },
  {
   "cell_type": "code",
   "execution_count": 122,
   "metadata": {
    "collapsed": true
   },
   "outputs": [],
   "source": [
    "X_train = train.drop(['MonthlyIncome', 'SeriousDlqin2yrs'], axis=1)\n",
    "y_train = train.MonthlyIncome\n",
    "X_test = test.drop(['MonthlyIncome', 'SeriousDlqin2yrs'], axis=1)"
   ]
  },
  {
   "cell_type": "code",
   "execution_count": 123,
   "metadata": {
    "collapsed": true
   },
   "outputs": [],
   "source": [
    "#from sklearn.linear_model import LinearRegression\n",
    "#lmMod = LinearRegression(fit_intercept=True, normalize=True).fit(X_train, y_train)"
   ]
  },
  {
   "cell_type": "code",
   "execution_count": 124,
   "metadata": {
    "collapsed": true
   },
   "outputs": [],
   "source": [
    "from sklearn.neighbors import KNeighborsRegressor\n",
    "knnMod = KNeighborsRegressor(n_neighbors=5, weights='uniform', algorithm='auto', leaf_size=30,\n",
    "                             p=2, metric='minkowski', metric_params=None)"
   ]
  },
  {
   "cell_type": "code",
   "execution_count": 125,
   "metadata": {},
   "outputs": [],
   "source": [
    "knnMod.fit(X_train, y_train)\n",
    "pred = knnMod.predict(X_test)"
   ]
  },
  {
   "cell_type": "code",
   "execution_count": 126,
   "metadata": {},
   "outputs": [
    {
     "name": "stderr",
     "output_type": "stream",
     "text": [
      "C:\\Users\\Daney\\Anaconda3\\lib\\site-packages\\ipykernel_launcher.py:10: SettingWithCopyWarning: \n",
      "A value is trying to be set on a copy of a slice from a DataFrame.\n",
      "Try using .loc[row_indexer,col_indexer] = value instead\n",
      "\n",
      "See the caveats in the documentation: http://pandas.pydata.org/pandas-docs/stable/indexing.html#indexing-view-versus-copy\n",
      "  # Remove the CWD from sys.path while we load stuff.\n"
     ]
    }
   ],
   "source": [
    "predNoZero = []\n",
    "for val in pred:\n",
    "    if val >= 0:\n",
    "        predNoZero.append(val)\n",
    "    else:\n",
    "        predNoZero.append(0.)\n",
    "        \n",
    "\n",
    "testFull = credit_df[credit_df.MonthlyIncome.isnull() == True]\n",
    "testFull['MonthlyIncome'] = predNoZero"
   ]
  },
  {
   "cell_type": "code",
   "execution_count": 127,
   "metadata": {
    "collapsed": true
   },
   "outputs": [],
   "source": [
    "monNew = []\n",
    "for index in credit_df.index:\n",
    "    if credit_df.MonthlyIncome[index].is_integer() == True:\n",
    "        monNew.append(credit_df.MonthlyIncome[index])\n",
    "    else:\n",
    "        monNew.append(testFull.MonthlyIncome[index])\n",
    "        \n",
    "credit_df.MonthlyIncome = monNew"
   ]
  },
  {
   "cell_type": "code",
   "execution_count": 128,
   "metadata": {},
   "outputs": [
    {
     "data": {
      "text/plain": [
       "count    1.500000e+05\n",
       "mean     5.427492e+03\n",
       "std      1.314716e+04\n",
       "min      0.000000e+00\n",
       "25%      1.874000e+03\n",
       "50%      4.435000e+03\n",
       "75%      7.400000e+03\n",
       "max      3.008750e+06\n",
       "Name: MonthlyIncome, dtype: float64"
      ]
     },
     "execution_count": 128,
     "metadata": {},
     "output_type": "execute_result"
    }
   ],
   "source": [
    "credit_df.MonthlyIncome.describe()"
   ]
  },
  {
   "cell_type": "code",
   "execution_count": 129,
   "metadata": {
    "collapsed": true
   },
   "outputs": [],
   "source": [
    "#Realizamos el mismo proceso para el conjunto de test\n",
    "train = credit_test_df[credit_test_df.MonthlyIncome.isnull() == False]\n",
    "test = credit_test_df[credit_test_df.MonthlyIncome.isnull() == True]"
   ]
  },
  {
   "cell_type": "code",
   "execution_count": 130,
   "metadata": {},
   "outputs": [
    {
     "data": {
      "text/plain": [
       "((81400, 11), (20103, 11))"
      ]
     },
     "execution_count": 130,
     "metadata": {},
     "output_type": "execute_result"
    }
   ],
   "source": [
    "train.shape, test.shape"
   ]
  },
  {
   "cell_type": "code",
   "execution_count": 131,
   "metadata": {
    "collapsed": true
   },
   "outputs": [],
   "source": [
    "X_train = train.drop(['MonthlyIncome', 'SeriousDlqin2yrs'], axis=1)\n",
    "y_train = train.MonthlyIncome\n",
    "X_test = test.drop(['MonthlyIncome', 'SeriousDlqin2yrs'], axis=1)"
   ]
  },
  {
   "cell_type": "code",
   "execution_count": 132,
   "metadata": {
    "collapsed": true
   },
   "outputs": [],
   "source": [
    "#lmMod = LinearRegression(fit_intercept=True, normalize=True).fit(X_train, y_train)\n",
    "#pred = lmMod.predict(X_test)"
   ]
  },
  {
   "cell_type": "code",
   "execution_count": 133,
   "metadata": {
    "collapsed": true
   },
   "outputs": [],
   "source": [
    "from sklearn.neighbors import KNeighborsRegressor\n",
    "knnMod = KNeighborsRegressor(n_neighbors=5, weights='uniform', algorithm='auto', leaf_size=30,\n",
    "                             p=2, metric='minkowski', metric_params=None)\n",
    "\n",
    "knnMod.fit(X_train, y_train)\n",
    "pred = knnMod.predict(X_test)"
   ]
  },
  {
   "cell_type": "code",
   "execution_count": 134,
   "metadata": {},
   "outputs": [
    {
     "name": "stderr",
     "output_type": "stream",
     "text": [
      "C:\\Users\\Daney\\Anaconda3\\lib\\site-packages\\ipykernel_launcher.py:10: SettingWithCopyWarning: \n",
      "A value is trying to be set on a copy of a slice from a DataFrame.\n",
      "Try using .loc[row_indexer,col_indexer] = value instead\n",
      "\n",
      "See the caveats in the documentation: http://pandas.pydata.org/pandas-docs/stable/indexing.html#indexing-view-versus-copy\n",
      "  # Remove the CWD from sys.path while we load stuff.\n"
     ]
    }
   ],
   "source": [
    "predNoZero = []\n",
    "for val in pred:\n",
    "    if val >= 0:\n",
    "        predNoZero.append(val)\n",
    "    else:\n",
    "        predNoZero.append(0.)\n",
    "        \n",
    "\n",
    "testFull = credit_test_df[credit_test_df.MonthlyIncome.isnull() == True]\n",
    "testFull['MonthlyIncome'] = predNoZero"
   ]
  },
  {
   "cell_type": "code",
   "execution_count": 135,
   "metadata": {
    "collapsed": true
   },
   "outputs": [],
   "source": [
    "monNew = []\n",
    "for index in credit_test_df.index:\n",
    "    if credit_test_df.MonthlyIncome[index].is_integer() == True:\n",
    "        monNew.append(credit_test_df.MonthlyIncome[index])\n",
    "    else:\n",
    "        monNew.append(testFull.MonthlyIncome[index])\n",
    "        \n",
    "credit_test_df.MonthlyIncome = monNew"
   ]
  },
  {
   "cell_type": "code",
   "execution_count": 136,
   "metadata": {},
   "outputs": [
    {
     "data": {
      "text/plain": [
       "count    1.015030e+05\n",
       "mean     5.586453e+03\n",
       "std      3.280783e+04\n",
       "min      0.000000e+00\n",
       "25%      1.917000e+03\n",
       "50%      4.434000e+03\n",
       "75%      7.400000e+03\n",
       "max      7.727000e+06\n",
       "Name: MonthlyIncome, dtype: float64"
      ]
     },
     "execution_count": 136,
     "metadata": {},
     "output_type": "execute_result"
    }
   ],
   "source": [
    "credit_test_df.MonthlyIncome.describe()"
   ]
  },
  {
   "cell_type": "markdown",
   "metadata": {},
   "source": [
    "## Dividimos en conjuntos de Entrenamiento, validación y test"
   ]
  },
  {
   "cell_type": "code",
   "execution_count": 137,
   "metadata": {
    "collapsed": true
   },
   "outputs": [],
   "source": [
    "from sklearn.model_selection import train_test_split\n",
    "X_train = credit_df.drop(\"SeriousDlqin2yrs\",axis=1)\n",
    "Y_train = credit_df[\"SeriousDlqin2yrs\"]\n",
    "X_test  = credit_test_df\n",
    "#el 15% del conjunto de entrenamiento será para validar\n",
    "X_train,X_dev,Y_train,Y_dev = train_test_split(X_train, Y_train, test_size=0.30)"
   ]
  },
  {
   "cell_type": "code",
   "execution_count": 138,
   "metadata": {},
   "outputs": [],
   "source": [
    "# Eliminamos de test la columna a predecir\n",
    "credit_test_df = credit_test_df.drop('SeriousDlqin2yrs', axis = 1)"
   ]
  },
  {
   "cell_type": "markdown",
   "metadata": {},
   "source": [
    "### Funciones Auxiliares "
   ]
  },
  {
   "cell_type": "code",
   "execution_count": 139,
   "metadata": {
    "collapsed": true
   },
   "outputs": [],
   "source": [
    "from sklearn.metrics import classification_report, roc_auc_score, roc_curve\n",
    "\n",
    "def plot_roc(Y, Y_scores):\n",
    "    fpr, tpr, thresholds = roc_curve(Y, Y_scores, pos_label = 1)\n",
    "    plt.figure(1, figsize=(6,6))\n",
    "    plt.xlabel('Tasa falsos positivos')\n",
    "    plt.ylabel('Tasa verdaderos positivos')\n",
    "    plt.title('Curva ROC')\n",
    "    plt.plot(fpr, tpr)\n",
    "    plt.legend(loc=2, prop={'size':11})\n",
    "    plt.plot([0,1],[0,1], color = 'black')\n",
    "    plt.show()\n",
    "    \n",
    "def eval_model(pipe, X_train, Y_train, X_test, Y_test):\n",
    "    pipe.fit(X_train, Y_train)\n",
    "    predicted_test = pipe.predict(X_test)\n",
    "    scores_test = pipe.predict_proba(X_test)[:,1] #necesitamos la probabilidad para dibujar el area bajo la curva\n",
    "    predicted_train = pipe.predict(X_train)\n",
    "    scores_train = pipe.predict_proba(X_train)[:,1]\n",
    "    print()\n",
    "    print(\"Evaluación en el conjunto de entrenamiento:\")\n",
    "    print(classification_report(Y_train, predicted_train))\n",
    "    print('Roc_auc_score:', roc_auc_score(Y_train, scores_train))\n",
    "    print()\n",
    "    print(\"Evaluación en el conjunto de validación:\")\n",
    "    print(classification_report(Y_test, predicted_test))\n",
    "    print('Roc_auc_score:', roc_auc_score(Y_test, scores_test))\n",
    "    plot_roc(Y_test, scores_test)"
   ]
  },
  {
   "cell_type": "markdown",
   "metadata": {},
   "source": [
    "# Modelos"
   ]
  },
  {
   "cell_type": "markdown",
   "metadata": {},
   "source": [
    "### 1. Random Forest"
   ]
  },
  {
   "cell_type": "code",
   "execution_count": 56,
   "metadata": {},
   "outputs": [
    {
     "name": "stdout",
     "output_type": "stream",
     "text": [
      "\n",
      "Evaluación en el conjunto de entrenamiento:\n",
      "             precision    recall  f1-score   support\n",
      "\n",
      "          0       1.00      1.00      1.00     69867\n",
      "          1       1.00      0.99      0.99      5133\n",
      "\n",
      "avg / total       1.00      1.00      1.00     75000\n",
      "\n",
      "Roc_auc_score: 0.999965480878\n",
      "\n",
      "Evaluación en el conjunto de validación:\n",
      "             precision    recall  f1-score   support\n",
      "\n",
      "          0       0.94      0.99      0.97     70107\n",
      "          1       0.50      0.17      0.26      4893\n",
      "\n",
      "avg / total       0.92      0.93      0.92     75000\n",
      "\n",
      "Roc_auc_score: 0.824125012483\n"
     ]
    },
    {
     "data": {
      "image/png": "[encoded data removed]",
      "text/plain": [
       "<matplotlib.figure.Figure at 0x12801490ef0>"
      ]
     },
     "metadata": {},
     "output_type": "display_data"
    }
   ],
   "source": [
    "from sklearn.ensemble import RandomForestClassifier\n",
    "from sklearn.preprocessing import StandardScaler\n",
    "from sklearn.preprocessing import Imputer\n",
    "from sklearn.preprocessing import OneHotEncoder\n",
    "from sklearn.pipeline import Pipeline\n",
    "\n",
    "rmfc = RandomForestClassifier(n_estimators=50, max_features = 'sqrt')\n",
    "\n",
    "pipe = Pipeline([\n",
    "    ('imp',Imputer()),\n",
    "    ('std',StandardScaler()),\n",
    "    ('for', rmfc)\n",
    "])\n",
    "eval_model(pipe, X_train, Y_train, X_dev, Y_dev)"
   ]
  },
  {
   "cell_type": "markdown",
   "metadata": {},
   "source": [
    "### 1.1 Grid Search para el Random Forest"
   ]
  },
  {
   "cell_type": "code",
   "execution_count": 34,
   "metadata": {},
   "outputs": [
    {
     "name": "stdout",
     "output_type": "stream",
     "text": [
      "0.933490196078\n",
      "{'for__max_features': 'sqrt', 'for__n_estimators': 50}\n"
     ]
    }
   ],
   "source": [
    "from sklearn.model_selection import GridSearchCV\n",
    "\n",
    "pipe = Pipeline([\n",
    "    ('imp',Imputer()),\n",
    "    ('std',StandardScaler()),\n",
    "    ('for',RandomForestClassifier())\n",
    "])\n",
    "\n",
    "param_range = [30, 40, 50, 60]\n",
    "\n",
    "param_grid = {'for__n_estimators': param_range}\n",
    "\n",
    "param_grid = [{'for__n_estimators': param_range,'for__max_features': ['auto']},\n",
    "              {'for__n_estimators': param_range,'for__max_features': ['sqrt']}]\n",
    "\n",
    "gs = GridSearchCV(estimator=pipe,\n",
    "                  param_grid=param_grid,\n",
    "                  scoring='accuracy')\n",
    "\n",
    "gs = gs.fit(X_train, Y_train)\n",
    "print(gs.best_score_)\n",
    "print(gs.best_params_)"
   ]
  },
  {
   "cell_type": "markdown",
   "metadata": {
    "collapsed": true
   },
   "source": [
    "## 2. Naive Bayes"
   ]
  },
  {
   "cell_type": "code",
   "execution_count": 78,
   "metadata": {},
   "outputs": [
    {
     "name": "stdout",
     "output_type": "stream",
     "text": [
      "\n",
      "Evaluación en el conjunto de entrenamiento:\n",
      "             precision    recall  f1-score   support\n",
      "\n",
      "          0       0.96      0.94      0.95    118984\n",
      "          1       0.36      0.49      0.41      8516\n",
      "\n",
      "avg / total       0.92      0.91      0.91    127500\n",
      "\n",
      "Roc_auc_score: 0.841993363602\n",
      "\n",
      "Evaluación en el conjunto de validación:\n",
      "             precision    recall  f1-score   support\n",
      "\n",
      "          0       0.96      0.94      0.95     20990\n",
      "          1       0.36      0.50      0.42      1510\n",
      "\n",
      "avg / total       0.92      0.91      0.91     22500\n",
      "\n",
      "Roc_auc_score: 0.846979719135\n"
     ]
    },
    {
     "name": "stderr",
     "output_type": "stream",
     "text": [
      "C:\\Users\\anaalbcru\\Anaconda3\\lib\\site-packages\\matplotlib\\axes\\_axes.py:545: UserWarning: No labelled objects found. Use label='...' kwarg on individual plots.\n",
      "  warnings.warn(\"No labelled objects found. \"\n"
     ]
    },
    {
     "data": {
      "image/png": "[encoded data removed]",
      "text/plain": [
       "<matplotlib.figure.Figure at 0x1ec8e583ba8>"
      ]
     },
     "metadata": {},
     "output_type": "display_data"
    }
   ],
   "source": [
    "from sklearn.naive_bayes import GaussianNB\n",
    "\n",
    "gnv = GaussianNB()\n",
    "pipe = Pipeline([\n",
    "    ('imp',Imputer()),\n",
    "    ('std',StandardScaler()),\n",
    "    ('nb',gnv)\n",
    "])\n",
    "\n",
    "eval_model(pipe, X_train, Y_train, X_dev, Y_dev)"
   ]
  },
  {
   "cell_type": "markdown",
   "metadata": {},
   "source": [
    "## 3. kNN"
   ]
  },
  {
   "cell_type": "code",
   "execution_count": 79,
   "metadata": {},
   "outputs": [
    {
     "name": "stdout",
     "output_type": "stream",
     "text": [
      "\n",
      "Evaluación en el conjunto de entrenamiento:\n",
      "             precision    recall  f1-score   support\n",
      "\n",
      "          0       0.95      0.99      0.97    118984\n",
      "          1       0.69      0.31      0.43      8516\n",
      "\n",
      "avg / total       0.93      0.94      0.93    127500\n",
      "\n",
      "Roc_auc_score: 0.951378263256\n",
      "\n",
      "Evaluación en el conjunto de validación:\n",
      "             precision    recall  f1-score   support\n",
      "\n",
      "          0       0.94      0.98      0.96     20990\n",
      "          1       0.48      0.20      0.28      1510\n",
      "\n",
      "avg / total       0.91      0.93      0.92     22500\n",
      "\n",
      "Roc_auc_score: 0.733955163134\n"
     ]
    },
    {
     "name": "stderr",
     "output_type": "stream",
     "text": [
      "C:\\Users\\anaalbcru\\Anaconda3\\lib\\site-packages\\matplotlib\\axes\\_axes.py:545: UserWarning: No labelled objects found. Use label='...' kwarg on individual plots.\n",
      "  warnings.warn(\"No labelled objects found. \"\n"
     ]
    },
    {
     "data": {
      "image/png": "[encoded data removed]",
      "text/plain": [
       "<matplotlib.figure.Figure at 0x1ec8940e978>"
      ]
     },
     "metadata": {},
     "output_type": "display_data"
    }
   ],
   "source": [
    "from sklearn.neighbors import KNeighborsClassifier\n",
    "\n",
    "knn = KNeighborsClassifier()\n",
    "\n",
    "pipe = Pipeline([\n",
    "    ('imp',Imputer()),\n",
    "    ('std',StandardScaler()),\n",
    "    ('knn', knn)\n",
    "])\n",
    "eval_model(pipe, X_train, Y_train, X_dev, Y_dev)"
   ]
  },
  {
   "cell_type": "markdown",
   "metadata": {},
   "source": [
    "## 4. SVC"
   ]
  },
  {
   "cell_type": "code",
   "execution_count": null,
   "metadata": {
    "collapsed": true
   },
   "outputs": [],
   "source": [
    "from sklearn.svm import SVC\n",
    "\n",
    "pipe = Pipeline([\n",
    "    ('imp',Imputer()),\n",
    "    ('std',StandardScaler()),\n",
    "    ('svc',SVC(C = 0.5))\n",
    "])\n",
    "eval_model(pipe, X_train, Y_train, X_dev, Y_dev)"
   ]
  },
  {
   "cell_type": "markdown",
   "metadata": {},
   "source": [
    "## 5. Gradient Boosting Regression"
   ]
  },
  {
   "cell_type": "code",
   "execution_count": 54,
   "metadata": {},
   "outputs": [
    {
     "name": "stdout",
     "output_type": "stream",
     "text": [
      "\n",
      "Evaluación en el conjunto de entrenamiento:\n",
      "             precision    recall  f1-score   support\n",
      "\n",
      "          0       0.95      0.99      0.97    119007\n",
      "          1       0.65      0.20      0.31      8493\n",
      "\n",
      "avg / total       0.93      0.94      0.92    127500\n",
      "\n",
      "Roc_auc_score: 0.871989892149\n",
      "\n",
      "Evaluación en el conjunto de validación:\n",
      "             precision    recall  f1-score   support\n",
      "\n",
      "          0       0.94      0.99      0.97     20967\n",
      "          1       0.60      0.19      0.29      1533\n",
      "\n",
      "avg / total       0.92      0.94      0.92     22500\n",
      "\n",
      "Roc_auc_score: 0.858884310203\n"
     ]
    },
    {
     "data": {
      "image/png": "[encoded data removed]",
      "text/plain": [
       "<matplotlib.figure.Figure at 0x2aa991fa898>"
      ]
     },
     "metadata": {},
     "output_type": "display_data"
    }
   ],
   "source": [
    "from sklearn.ensemble import GradientBoostingClassifier\n",
    "\n",
    "gbMod = GradientBoostingClassifier(loss='deviance', learning_rate=0.1, n_estimators=200, subsample=1.0,\n",
    "                                   min_samples_split=2, min_samples_leaf=1, min_weight_fraction_leaf=0.0, max_depth=3,\n",
    "                                   init=None, random_state=None, max_features=None, verbose=0)\n",
    "\n",
    "pipe = Pipeline([\n",
    "    ('imp',Imputer()),\n",
    "    ('std',StandardScaler()),\n",
    "    ('gbMod', gbMod)\n",
    "])\n",
    "eval_model(pipe, X_train, Y_train, X_dev, Y_dev)"
   ]
  },
  {
   "cell_type": "markdown",
   "metadata": {},
   "source": [
    "## 6. AdaBoostRegressor"
   ]
  },
  {
   "cell_type": "code",
   "execution_count": 64,
   "metadata": {},
   "outputs": [
    {
     "name": "stdout",
     "output_type": "stream",
     "text": [
      "\n",
      "Evaluación en el conjunto de entrenamiento:\n",
      "             precision    recall  f1-score   support\n",
      "\n",
      "          0       0.95      0.99      0.97    119007\n",
      "          1       0.56      0.20      0.29      8493\n",
      "\n",
      "avg / total       0.92      0.94      0.92    127500\n",
      "\n",
      "Roc_auc_score: 0.86351551316\n",
      "\n",
      "Evaluación en el conjunto de validación:\n",
      "             precision    recall  f1-score   support\n",
      "\n",
      "          0       0.94      0.99      0.97     20967\n",
      "          1       0.53      0.20      0.29      1533\n",
      "\n",
      "avg / total       0.92      0.93      0.92     22500\n",
      "\n",
      "Roc_auc_score: 0.853725083037\n"
     ]
    },
    {
     "data": {
      "image/png": "[encoded data removed]",
      "text/plain": [
       "<matplotlib.figure.Figure at 0x2aa99249e48>"
      ]
     },
     "metadata": {},
     "output_type": "display_data"
    }
   ],
   "source": [
    "from sklearn.ensemble import AdaBoostClassifier\n",
    "\n",
    "adaMod = AdaBoostClassifier(base_estimator=None, n_estimators=100, learning_rate=1.0)\n",
    "\n",
    "pipe = Pipeline([\n",
    "    ('imp',Imputer()),\n",
    "    ('std',StandardScaler()),\n",
    "    ('adaMod', adaMod)\n",
    "])\n",
    "eval_model(pipe, X_train, Y_train, X_dev, Y_dev)"
   ]
  },
  {
   "cell_type": "markdown",
   "metadata": {},
   "source": [
    "# Cross-Validation"
   ]
  },
  {
   "cell_type": "code",
   "execution_count": 84,
   "metadata": {
    "collapsed": true
   },
   "outputs": [],
   "source": [
    "def cvDictGen(functions, scr, X_train=X_train, y_train=Y_train, cv=3, verbose=1):\n",
    "    cvDict = {}\n",
    "    for func in functions:\n",
    "        cvScore = cross_val_score(func, X_train, y_train, cv=cv, verbose=verbose, scoring=scr)\n",
    "        cvDict[str(func).split('(')[0]] = [cvScore.mean(), cvScore.std()]\n",
    "    \n",
    "    return cvDict"
   ]
  },
  {
   "cell_type": "code",
   "execution_count": 85,
   "metadata": {},
   "outputs": [
    {
     "name": "stderr",
     "output_type": "stream",
     "text": [
      "[Parallel(n_jobs=1)]: Done   3 out of   3 | elapsed:   26.7s finished\n",
      "[Parallel(n_jobs=1)]: Done   3 out of   3 | elapsed:    0.4s finished\n",
      "[Parallel(n_jobs=1)]: Done   3 out of   3 | elapsed:    3.6s finished\n",
      "[Parallel(n_jobs=1)]: Done   3 out of   3 | elapsed:   43.2s finished\n",
      "[Parallel(n_jobs=1)]: Done   3 out of   3 | elapsed:   46.3s finished\n"
     ]
    },
    {
     "data": {
      "text/plain": [
       "{'AdaBoostClassifier': [0.85570248916504854, 0.0023373784121283195],\n",
       " 'GaussianNB': [0.82939851543942122, 0.0069275869532327986],\n",
       " 'GradientBoostingClassifier': [0.86215365871308569, 0.0019698600191380253],\n",
       " 'KNeighborsClassifier': [0.57222416779216856, 0.005552659629054736],\n",
       " 'RandomForestClassifier': [0.83042831862547517, 0.0040793959579247877]}"
      ]
     },
     "execution_count": 85,
     "metadata": {},
     "output_type": "execute_result"
    }
   ],
   "source": [
    "from sklearn.model_selection import cross_val_score\n",
    "cvDictGen(functions=[rmfc, gnv, knn, gbMod, adaMod], scr='roc_auc')"
   ]
  },
  {
   "cell_type": "markdown",
   "metadata": {},
   "source": [
    "# Grid Search"
   ]
  },
  {
   "cell_type": "markdown",
   "metadata": {
    "collapsed": true
   },
   "source": [
    "## AdaBoost Grid Search"
   ]
  },
  {
   "cell_type": "code",
   "execution_count": 207,
   "metadata": {},
   "outputs": [
    {
     "name": "stdout",
     "output_type": "stream",
     "text": [
      "Fitting 3 folds for each of 10 candidates, totalling 30 fits\n",
      "[CV] algorithm=SAMME.R, n_estimators=109 .............................\n",
      "[CV] .................... algorithm=SAMME.R, n_estimators=109 -   4.6s\n",
      "[CV] algorithm=SAMME.R, n_estimators=109 .............................\n"
     ]
    },
    {
     "name": "stderr",
     "output_type": "stream",
     "text": [
      "[Parallel(n_jobs=1)]: Done   1 out of   1 | elapsed:    4.6s remaining:    0.0s\n"
     ]
    },
    {
     "name": "stdout",
     "output_type": "stream",
     "text": [
      "[CV] .................... algorithm=SAMME.R, n_estimators=109 -   4.6s\n",
      "[CV] algorithm=SAMME.R, n_estimators=109 .............................\n",
      "[CV] .................... algorithm=SAMME.R, n_estimators=109 -   5.2s\n",
      "[CV] algorithm=SAMME.R, n_estimators=479 .............................\n",
      "[CV] .................... algorithm=SAMME.R, n_estimators=479 -  21.8s\n",
      "[CV] algorithm=SAMME.R, n_estimators=479 .............................\n",
      "[CV] .................... algorithm=SAMME.R, n_estimators=479 -  21.7s\n",
      "[CV] algorithm=SAMME.R, n_estimators=479 .............................\n",
      "[CV] .................... algorithm=SAMME.R, n_estimators=479 -  22.3s\n",
      "[CV] algorithm=SAMME.R, n_estimators=433 .............................\n",
      "[CV] .................... algorithm=SAMME.R, n_estimators=433 -  19.3s\n",
      "[CV] algorithm=SAMME.R, n_estimators=433 .............................\n",
      "[CV] .................... algorithm=SAMME.R, n_estimators=433 -  20.9s\n",
      "[CV] algorithm=SAMME.R, n_estimators=433 .............................\n",
      "[CV] .................... algorithm=SAMME.R, n_estimators=433 -  19.4s\n",
      "[CV] algorithm=SAMME, n_estimators=323 ...............................\n",
      "[CV] ...................... algorithm=SAMME, n_estimators=323 -  13.3s\n",
      "[CV] algorithm=SAMME, n_estimators=323 ...............................\n",
      "[CV] ...................... algorithm=SAMME, n_estimators=323 -  13.3s\n",
      "[CV] algorithm=SAMME, n_estimators=323 ...............................\n",
      "[CV] ...................... algorithm=SAMME, n_estimators=323 -  13.5s\n",
      "[CV] algorithm=SAMME, n_estimators=327 ...............................\n",
      "[CV] ...................... algorithm=SAMME, n_estimators=327 -  11.7s\n",
      "[CV] algorithm=SAMME, n_estimators=327 ...............................\n",
      "[CV] ...................... algorithm=SAMME, n_estimators=327 -  11.6s\n",
      "[CV] algorithm=SAMME, n_estimators=327 ...............................\n",
      "[CV] ...................... algorithm=SAMME, n_estimators=327 -  11.6s\n",
      "[CV] algorithm=SAMME.R, n_estimators=74 ..............................\n",
      "[CV] ..................... algorithm=SAMME.R, n_estimators=74 -   3.1s\n",
      "[CV] algorithm=SAMME.R, n_estimators=74 ..............................\n",
      "[CV] ..................... algorithm=SAMME.R, n_estimators=74 -   3.6s\n",
      "[CV] algorithm=SAMME.R, n_estimators=74 ..............................\n",
      "[CV] ..................... algorithm=SAMME.R, n_estimators=74 -   3.4s\n",
      "[CV] algorithm=SAMME, n_estimators=323 ...............................\n",
      "[CV] ...................... algorithm=SAMME, n_estimators=323 -  12.9s\n",
      "[CV] algorithm=SAMME, n_estimators=323 ...............................\n",
      "[CV] ...................... algorithm=SAMME, n_estimators=323 -  11.2s\n",
      "[CV] algorithm=SAMME, n_estimators=323 ...............................\n",
      "[CV] ...................... algorithm=SAMME, n_estimators=323 -  11.3s\n",
      "[CV] algorithm=SAMME.R, n_estimators=185 .............................\n",
      "[CV] .................... algorithm=SAMME.R, n_estimators=185 -   8.4s\n",
      "[CV] algorithm=SAMME.R, n_estimators=185 .............................\n",
      "[CV] .................... algorithm=SAMME.R, n_estimators=185 -   8.0s\n",
      "[CV] algorithm=SAMME.R, n_estimators=185 .............................\n",
      "[CV] .................... algorithm=SAMME.R, n_estimators=185 -   8.4s\n",
      "[CV] algorithm=SAMME.R, n_estimators=245 .............................\n",
      "[CV] .................... algorithm=SAMME.R, n_estimators=245 -  10.1s\n",
      "[CV] algorithm=SAMME.R, n_estimators=245 .............................\n",
      "[CV] .................... algorithm=SAMME.R, n_estimators=245 -  12.1s\n",
      "[CV] algorithm=SAMME.R, n_estimators=245 .............................\n",
      "[CV] .................... algorithm=SAMME.R, n_estimators=245 -  11.3s\n",
      "[CV] algorithm=SAMME.R, n_estimators=64 ..............................\n",
      "[CV] ..................... algorithm=SAMME.R, n_estimators=64 -   3.4s\n",
      "[CV] algorithm=SAMME.R, n_estimators=64 ..............................\n",
      "[CV] ..................... algorithm=SAMME.R, n_estimators=64 -   2.7s\n",
      "[CV] algorithm=SAMME.R, n_estimators=64 ..............................\n",
      "[CV] ..................... algorithm=SAMME.R, n_estimators=64 -   2.9s\n"
     ]
    },
    {
     "name": "stderr",
     "output_type": "stream",
     "text": [
      "[Parallel(n_jobs=1)]: Done  30 out of  30 | elapsed:  5.5min finished\n"
     ]
    },
    {
     "data": {
      "text/plain": [
       "({'algorithm': 'SAMME', 'n_estimators': 323}, 0.8588016111825163)"
      ]
     },
     "execution_count": 207,
     "metadata": {},
     "output_type": "execute_result"
    }
   ],
   "source": [
    "from sklearn.model_selection import GridSearchCV\n",
    "from sklearn.grid_search import RandomizedSearchCV\n",
    "from scipy.stats import randint\n",
    "\n",
    "adaHyperParams = {'algorithm' : ['SAMME', 'SAMME.R'],\n",
    "                 'n_estimators': randint(10, 500)}\n",
    "\n",
    "\n",
    "adaMod = AdaBoostClassifier()\n",
    "\n",
    "gridSearchGB = RandomizedSearchCV(estimator=adaMod, param_distributions=adaHyperParams, n_iter=10,\n",
    "                                   scoring='roc_auc', fit_params=None, cv=None, verbose=2).fit(X_train, Y_train)\n",
    "gridSearchGB.best_params_, gridSearchGB.best_score_\n"
   ]
  },
  {
   "cell_type": "code",
   "execution_count": 209,
   "metadata": {},
   "outputs": [
    {
     "data": {
      "text/plain": [
       "AdaBoostClassifier(algorithm='SAMME', base_estimator=None, learning_rate=1.0,\n",
       "          n_estimators=323, random_state=None)"
      ]
     },
     "execution_count": 209,
     "metadata": {},
     "output_type": "execute_result"
    }
   ],
   "source": [
    "gridSearchGB.best_estimator_.fit(X_train, Y_train)"
   ]
  },
  {
   "cell_type": "code",
   "execution_count": 213,
   "metadata": {
    "collapsed": true
   },
   "outputs": [],
   "source": [
    "ada_mejorado = AdaBoostClassifier(algorithm='SAMME', base_estimator=None, learning_rate=1.0,\n",
    "          n_estimators=323, random_state=None)\n",
    "\n",
    "pipe = Pipeline([\n",
    "    ('imp',Imputer()),\n",
    "    ('std',StandardScaler()),\n",
    "    ('gbMod', ada_mejorado)\n",
    "])\n",
    "\n",
    "pipe.fit(X_train, Y_train)\n",
    "predicted_test = pipe.predict(credit_test_df)\n",
    "scores_test = pipe.predict_proba(credit_test_df)[:,1]\n",
    "\n",
    "submission = pd.DataFrame({'Id': credit_test_df.index.values +1, 'Probability': scores_test})\n",
    "submission.to_csv('file3.csv', index = False)"
   ]
  },
  {
   "cell_type": "markdown",
   "metadata": {},
   "source": [
    "## Gradient Boost Randomized Search"
   ]
  },
  {
   "cell_type": "code",
   "execution_count": 62,
   "metadata": {},
   "outputs": [
    {
     "name": "stdout",
     "output_type": "stream",
     "text": [
      "Fitting 3 folds for each of 10 candidates, totalling 30 fits\n",
      "[CV] loss=deviance, max_depth=8, n_estimators=498 ....................\n",
      "[CV] ........... loss=deviance, max_depth=8, n_estimators=498 - 3.0min\n",
      "[CV] loss=deviance, max_depth=8, n_estimators=498 ....................\n"
     ]
    },
    {
     "name": "stderr",
     "output_type": "stream",
     "text": [
      "[Parallel(n_jobs=1)]: Done   1 out of   1 | elapsed:  3.0min remaining:    0.0s\n"
     ]
    },
    {
     "name": "stdout",
     "output_type": "stream",
     "text": [
      "[CV] ........... loss=deviance, max_depth=8, n_estimators=498 - 3.0min\n",
      "[CV] loss=deviance, max_depth=8, n_estimators=498 ....................\n",
      "[CV] ........... loss=deviance, max_depth=8, n_estimators=498 - 2.9min\n",
      "[CV] loss=deviance, max_depth=2, n_estimators=216 ....................\n",
      "[CV] ........... loss=deviance, max_depth=2, n_estimators=216 -  12.2s\n",
      "[CV] loss=deviance, max_depth=2, n_estimators=216 ....................\n",
      "[CV] ........... loss=deviance, max_depth=2, n_estimators=216 -  11.2s\n",
      "[CV] loss=deviance, max_depth=2, n_estimators=216 ....................\n",
      "[CV] ........... loss=deviance, max_depth=2, n_estimators=216 -  12.7s\n",
      "[CV] loss=exponential, max_depth=1, n_estimators=409 .................\n",
      "[CV] ........ loss=exponential, max_depth=1, n_estimators=409 -  17.9s\n",
      "[CV] loss=exponential, max_depth=1, n_estimators=409 .................\n",
      "[CV] ........ loss=exponential, max_depth=1, n_estimators=409 -  13.8s\n",
      "[CV] loss=exponential, max_depth=1, n_estimators=409 .................\n",
      "[CV] ........ loss=exponential, max_depth=1, n_estimators=409 -  12.2s\n",
      "[CV] loss=exponential, max_depth=5, n_estimators=492 .................\n",
      "[CV] ........ loss=exponential, max_depth=5, n_estimators=492 - 1.3min\n",
      "[CV] loss=exponential, max_depth=5, n_estimators=492 .................\n",
      "[CV] ........ loss=exponential, max_depth=5, n_estimators=492 - 1.4min\n",
      "[CV] loss=exponential, max_depth=5, n_estimators=492 .................\n",
      "[CV] ........ loss=exponential, max_depth=5, n_estimators=492 - 1.2min\n",
      "[CV] loss=deviance, max_depth=4, n_estimators=93 .....................\n",
      "[CV] ............ loss=deviance, max_depth=4, n_estimators=93 -  10.9s\n",
      "[CV] loss=deviance, max_depth=4, n_estimators=93 .....................\n",
      "[CV] ............ loss=deviance, max_depth=4, n_estimators=93 -  10.8s\n",
      "[CV] loss=deviance, max_depth=4, n_estimators=93 .....................\n",
      "[CV] ............ loss=deviance, max_depth=4, n_estimators=93 -  10.1s\n",
      "[CV] loss=deviance, max_depth=8, n_estimators=428 ....................\n",
      "[CV] ........... loss=deviance, max_depth=8, n_estimators=428 - 3.0min\n",
      "[CV] loss=deviance, max_depth=8, n_estimators=428 ....................\n",
      "[CV] ........... loss=deviance, max_depth=8, n_estimators=428 - 2.9min\n",
      "[CV] loss=deviance, max_depth=8, n_estimators=428 ....................\n",
      "[CV] ........... loss=deviance, max_depth=8, n_estimators=428 - 2.7min\n",
      "[CV] loss=deviance, max_depth=5, n_estimators=326 ....................\n",
      "[CV] ........... loss=deviance, max_depth=5, n_estimators=326 -  50.4s\n",
      "[CV] loss=deviance, max_depth=5, n_estimators=326 ....................\n",
      "[CV] ........... loss=deviance, max_depth=5, n_estimators=326 -  47.5s\n",
      "[CV] loss=deviance, max_depth=5, n_estimators=326 ....................\n",
      "[CV] ........... loss=deviance, max_depth=5, n_estimators=326 -  50.0s\n",
      "[CV] loss=deviance, max_depth=1, n_estimators=365 ....................\n",
      "[CV] ........... loss=deviance, max_depth=1, n_estimators=365 -  10.4s\n",
      "[CV] loss=deviance, max_depth=1, n_estimators=365 ....................\n",
      "[CV] ........... loss=deviance, max_depth=1, n_estimators=365 -  10.1s\n",
      "[CV] loss=deviance, max_depth=1, n_estimators=365 ....................\n",
      "[CV] ........... loss=deviance, max_depth=1, n_estimators=365 -   9.3s\n",
      "[CV] loss=deviance, max_depth=8, n_estimators=412 ....................\n",
      "[CV] ........... loss=deviance, max_depth=8, n_estimators=412 - 2.7min\n",
      "[CV] loss=deviance, max_depth=8, n_estimators=412 ....................\n",
      "[CV] ........... loss=deviance, max_depth=8, n_estimators=412 - 2.8min\n",
      "[CV] loss=deviance, max_depth=8, n_estimators=412 ....................\n",
      "[CV] ........... loss=deviance, max_depth=8, n_estimators=412 - 2.7min\n",
      "[CV] loss=exponential, max_depth=4, n_estimators=438 .................\n",
      "[CV] ........ loss=exponential, max_depth=4, n_estimators=438 -  48.9s\n",
      "[CV] loss=exponential, max_depth=4, n_estimators=438 .................\n",
      "[CV] ........ loss=exponential, max_depth=4, n_estimators=438 -  49.7s\n",
      "[CV] loss=exponential, max_depth=4, n_estimators=438 .................\n",
      "[CV] ........ loss=exponential, max_depth=4, n_estimators=438 -  56.6s\n"
     ]
    },
    {
     "name": "stderr",
     "output_type": "stream",
     "text": [
      "[Parallel(n_jobs=1)]: Done  30 out of  30 | elapsed: 37.1min finished\n"
     ]
    },
    {
     "data": {
      "text/plain": [
       "({'loss': 'deviance', 'max_depth': 4, 'n_estimators': 93}, 0.8635047357635641)"
      ]
     },
     "execution_count": 62,
     "metadata": {},
     "output_type": "execute_result"
    }
   ],
   "source": [
    "from sklearn.grid_search import RandomizedSearchCV\n",
    "from scipy.stats import randint\n",
    "\n",
    "gbHyperParams = {'loss' : ['deviance', 'exponential'],\n",
    "                 'n_estimators': randint(10, 500),\n",
    "                 'max_depth': randint(1,10)}\n",
    "\n",
    "gridSearchGB = RandomizedSearchCV(estimator=gbMod, param_distributions=gbHyperParams, n_iter=10,\n",
    "                                   scoring='roc_auc', fit_params=None, cv=None, verbose=2).fit(X_train, Y_train)\n",
    "gridSearchGB.best_params_, gridSearchGB.best_score_\n",
    "\n",
    "# 'loss': 'deviance', 'max_depth': 4, 'n_estimators': 93"
   ]
  },
  {
   "cell_type": "code",
   "execution_count": 66,
   "metadata": {
    "collapsed": true
   },
   "outputs": [],
   "source": [
    "bestGbModFitted  = gridSearchGB.best_estimator_.fit(X_train, Y_train)"
   ]
  },
  {
   "cell_type": "code",
   "execution_count": 67,
   "metadata": {},
   "outputs": [
    {
     "data": {
      "text/plain": [
       "GradientBoostingClassifier(criterion='friedman_mse', init=None,\n",
       "              learning_rate=0.1, loss='deviance', max_depth=4,\n",
       "              max_features=None, max_leaf_nodes=None,\n",
       "              min_impurity_decrease=0.0, min_impurity_split=None,\n",
       "              min_samples_leaf=1, min_samples_split=2,\n",
       "              min_weight_fraction_leaf=0.0, n_estimators=93,\n",
       "              presort='auto', random_state=None, subsample=1.0, verbose=0,\n",
       "              warm_start=False)"
      ]
     },
     "execution_count": 67,
     "metadata": {},
     "output_type": "execute_result"
    }
   ],
   "source": [
    "bestGbModFitted "
   ]
  },
  {
   "cell_type": "markdown",
   "metadata": {},
   "source": [
    "## Imbalanced classificator - No mejora"
   ]
  },
  {
   "cell_type": "code",
   "execution_count": 131,
   "metadata": {},
   "outputs": [
    {
     "name": "stdout",
     "output_type": "stream",
     "text": [
      "Evaluation on trainig set\n",
      "             precision    recall  f1-score   support\n",
      "\n",
      "          0       0.88      0.91      0.90     69941\n",
      "          1       0.91      0.88      0.89     69941\n",
      "\n",
      "avg / total       0.89      0.89      0.89    139882\n",
      "\n"
     ]
    }
   ],
   "source": [
    "from imblearn.over_sampling import SMOTE\n",
    "\n",
    "onehot_encoder = OneHotEncoder(sparse=False)\n",
    "imputer = Imputer()\n",
    "std_scaler = StandardScaler()\n",
    "\n",
    "gb_mejorado = GradientBoostingClassifier(criterion='friedman_mse', init=None,\n",
    "              learning_rate=0.1, loss='deviance', max_depth=4,\n",
    "              max_features=None, max_leaf_nodes=None,\n",
    "              min_impurity_decrease=0.0, min_impurity_split=None,\n",
    "              min_samples_leaf=1, min_samples_split=2,\n",
    "              min_weight_fraction_leaf=0.0, n_estimators=93,\n",
    "              presort='auto', random_state=None, subsample=1.0, verbose=0,\n",
    "              warm_start=False)\n",
    "\n",
    "X_train2 = imputer.fit_transform(X_train)\n",
    "X_train2 = std_scaler.fit_transform(X_train2)\n",
    "X_train2, Y_train2 = SMOTE().fit_sample(X_train2, Y_train)\n",
    "gb_mejorado.fit(X_train2, Y_train2)\n",
    "\n",
    "Y_train_predicted = gb_mejorado.predict(X_train2)\n",
    "Y_train_scores = gb_mejorado.predict_proba(X_train2)[:,1]\n",
    "print(\"Evaluation on trainig set\")\n",
    "print(classification_report(Y_train2, Y_train_predicted))"
   ]
  },
  {
   "cell_type": "code",
   "execution_count": 135,
   "metadata": {
    "collapsed": true
   },
   "outputs": [],
   "source": [
    "X_test2 = imputer.transform(credit_test_df)\n",
    "X_test2 = std_scaler.transform(X_test2)\n",
    "Y_test_predicted = gb_mejorado.predict(X_test2)\n",
    "Y_test_scores = gb_mejorado.predict_proba(X_test2)[:,1]"
   ]
  },
  {
   "cell_type": "code",
   "execution_count": 136,
   "metadata": {
    "collapsed": true
   },
   "outputs": [],
   "source": [
    "submission = pd.DataFrame({'Id': credit_test_df.index.values +1, 'Probability': Y_test_scores})\n",
    "submission.to_csv('file2.csv', index = False)"
   ]
  },
  {
   "cell_type": "markdown",
   "metadata": {},
   "source": [
    "## Probamos con GB"
   ]
  },
  {
   "cell_type": "code",
   "execution_count": 66,
   "metadata": {},
   "outputs": [],
   "source": [
    "from sklearn.feature_selection import SelectKBest\n",
    "from sklearn.ensemble import GradientBoostingClassifier\n",
    "\n",
    "gb_mejorado = GradientBoostingClassifier(criterion='friedman_mse', init=None,\n",
    "              learning_rate=0.1, loss='deviance', max_depth=4,\n",
    "              max_features=None, max_leaf_nodes=None,\n",
    "              min_impurity_decrease=0.0, min_impurity_split=None,\n",
    "              min_samples_leaf=1, min_samples_split=2,\n",
    "              min_weight_fraction_leaf=0.0, n_estimators=93,\n",
    "              presort='auto', random_state=None, subsample=1.0, verbose=0,\n",
    "              warm_start=False)\n",
    "\n",
    "pipe = Pipeline([\n",
    "    ('imp',Imputer()),\n",
    "    ('std',StandardScaler()),\n",
    "    ('select_feat', SelectKBest(f_classif, k=10)),\n",
    "    ('gbMod', gb_mejorado)\n",
    "])\n",
    "\n",
    "pipe.fit(X_train, Y_train)\n",
    "predicted_test = pipe.predict(credit_test_df)\n",
    "scores_test = pipe.predict_proba(credit_test_df)[:,1]\n",
    "\n",
    "submission = pd.DataFrame({'Id': credit_test_df.index.values +1, 'Probability': scores_test})\n",
    "submission.to_csv('file.csv', index = False)"
   ]
  },
  {
   "cell_type": "markdown",
   "metadata": {},
   "source": [
    "# Tensor Flow"
   ]
  },
  {
   "cell_type": "code",
   "execution_count": 87,
   "metadata": {
    "scrolled": true
   },
   "outputs": [
    {
     "name": "stdout",
     "output_type": "stream",
     "text": [
      "WARNING:tensorflow:float64 is not supported by many models, consider casting to float32.\n",
      "INFO:tensorflow:Using default config.\n",
      "WARNING:tensorflow:Using temporary folder as model directory: C:\\Users\\Daney\\AppData\\Local\\Temp\\tmpytxwvtrb\n",
      "INFO:tensorflow:Using config: {'_task_type': None, '_task_id': 0, '_cluster_spec': <tensorflow.python.training.server_lib.ClusterSpec object at 0x000001F2F2E8B048>, '_master': '', '_num_ps_replicas': 0, '_num_worker_replicas': 0, '_environment': 'local', '_is_chief': True, '_evaluation_master': '', '_tf_config': gpu_options {\n",
      "  per_process_gpu_memory_fraction: 1\n",
      "}\n",
      ", '_tf_random_seed': None, '_save_summary_steps': 100, '_save_checkpoints_secs': 600, '_log_step_count_steps': 100, '_session_config': None, '_save_checkpoints_steps': None, '_keep_checkpoint_max': 5, '_keep_checkpoint_every_n_hours': 10000, '_model_dir': 'C:\\\\Users\\\\Daney\\\\AppData\\\\Local\\\\Temp\\\\tmpytxwvtrb'}\n",
      "WARNING:tensorflow:float64 is not supported by many models, consider casting to float32.\n",
      "INFO:tensorflow:Create CheckpointSaverHook.\n",
      "INFO:tensorflow:Saving checkpoints for 1 into C:\\Users\\Daney\\AppData\\Local\\Temp\\tmpytxwvtrb\\model.ckpt.\n",
      "INFO:tensorflow:loss = 15.4162, step = 1\n",
      "INFO:tensorflow:global_step/sec: 296.684\n",
      "INFO:tensorflow:loss = 16.5983, step = 101 (0.344 sec)\n",
      "INFO:tensorflow:global_step/sec: 289.596\n",
      "INFO:tensorflow:loss = 53.5626, step = 201 (0.344 sec)\n",
      "INFO:tensorflow:global_step/sec: 273.749\n",
      "INFO:tensorflow:loss = 4.02002, step = 301 (0.367 sec)\n",
      "INFO:tensorflow:global_step/sec: 277.661\n",
      "INFO:tensorflow:loss = 6.79672, step = 401 (0.359 sec)\n",
      "INFO:tensorflow:global_step/sec: 241.938\n",
      "INFO:tensorflow:loss = 0.776139, step = 501 (0.415 sec)\n",
      "INFO:tensorflow:global_step/sec: 320.425\n",
      "INFO:tensorflow:loss = 2.20718, step = 601 (0.303 sec)\n",
      "INFO:tensorflow:global_step/sec: 311.827\n",
      "INFO:tensorflow:loss = 3.79336, step = 701 (0.336 sec)\n",
      "INFO:tensorflow:global_step/sec: 304.726\n",
      "INFO:tensorflow:loss = 3.56675, step = 801 (0.319 sec)\n",
      "INFO:tensorflow:global_step/sec: 328.452\n",
      "INFO:tensorflow:loss = 0.297497, step = 901 (0.317 sec)\n",
      "INFO:tensorflow:global_step/sec: 316.179\n",
      "INFO:tensorflow:loss = 1.69761, step = 1001 (0.319 sec)\n",
      "INFO:tensorflow:global_step/sec: 298.609\n",
      "INFO:tensorflow:loss = 1.10945, step = 1101 (0.325 sec)\n",
      "INFO:tensorflow:global_step/sec: 315.483\n",
      "INFO:tensorflow:loss = 0.318355, step = 1201 (0.318 sec)\n",
      "INFO:tensorflow:global_step/sec: 316.093\n",
      "INFO:tensorflow:loss = 0.297076, step = 1301 (0.317 sec)\n",
      "INFO:tensorflow:global_step/sec: 314.487\n",
      "INFO:tensorflow:loss = 0.497227, step = 1401 (0.321 sec)\n",
      "INFO:tensorflow:global_step/sec: 301.371\n",
      "INFO:tensorflow:loss = 0.221932, step = 1501 (0.329 sec)\n",
      "INFO:tensorflow:global_step/sec: 315.702\n",
      "INFO:tensorflow:loss = 0.243592, step = 1601 (0.319 sec)\n",
      "INFO:tensorflow:global_step/sec: 301.213\n",
      "INFO:tensorflow:loss = 0.528867, step = 1701 (0.329 sec)\n",
      "INFO:tensorflow:global_step/sec: 311.834\n",
      "INFO:tensorflow:loss = 0.237163, step = 1801 (0.326 sec)\n",
      "INFO:tensorflow:global_step/sec: 316.49\n",
      "INFO:tensorflow:loss = 0.523024, step = 1901 (0.316 sec)\n",
      "INFO:tensorflow:global_step/sec: 301.477\n",
      "INFO:tensorflow:loss = 0.417847, step = 2001 (0.314 sec)\n",
      "INFO:tensorflow:global_step/sec: 315.124\n",
      "INFO:tensorflow:loss = 0.332272, step = 2101 (0.333 sec)\n",
      "INFO:tensorflow:global_step/sec: 248.108\n",
      "INFO:tensorflow:loss = 0.28871, step = 2201 (0.399 sec)\n",
      "INFO:tensorflow:global_step/sec: 286.747\n",
      "INFO:tensorflow:loss = 4.27011, step = 2301 (0.350 sec)\n",
      "INFO:tensorflow:global_step/sec: 266.362\n",
      "INFO:tensorflow:loss = 0.175787, step = 2401 (0.370 sec)\n",
      "INFO:tensorflow:global_step/sec: 268.737\n",
      "INFO:tensorflow:loss = 0.599922, step = 2501 (0.364 sec)\n",
      "INFO:tensorflow:global_step/sec: 293.022\n",
      "INFO:tensorflow:loss = 0.285718, step = 2601 (0.347 sec)\n",
      "INFO:tensorflow:global_step/sec: 272.55\n",
      "INFO:tensorflow:loss = 0.231397, step = 2701 (0.368 sec)\n",
      "INFO:tensorflow:global_step/sec: 289.547\n",
      "INFO:tensorflow:loss = 0.365317, step = 2801 (0.344 sec)\n",
      "INFO:tensorflow:global_step/sec: 253.462\n",
      "INFO:tensorflow:loss = 0.0396238, step = 2901 (0.396 sec)\n",
      "INFO:tensorflow:global_step/sec: 256.331\n",
      "INFO:tensorflow:loss = 0.129425, step = 3001 (0.389 sec)\n",
      "INFO:tensorflow:global_step/sec: 281.764\n",
      "INFO:tensorflow:loss = 0.515375, step = 3101 (0.356 sec)\n",
      "INFO:tensorflow:global_step/sec: 268.945\n",
      "INFO:tensorflow:loss = 0.187637, step = 3201 (0.371 sec)\n",
      "INFO:tensorflow:global_step/sec: 298.552\n",
      "INFO:tensorflow:loss = 0.244835, step = 3301 (0.348 sec)\n",
      "INFO:tensorflow:global_step/sec: 265.319\n",
      "INFO:tensorflow:loss = 0.216912, step = 3401 (0.364 sec)\n",
      "INFO:tensorflow:global_step/sec: 311.059\n",
      "INFO:tensorflow:loss = 0.128443, step = 3501 (0.325 sec)\n",
      "INFO:tensorflow:global_step/sec: 315.012\n",
      "INFO:tensorflow:loss = 0.317375, step = 3601 (0.324 sec)\n",
      "INFO:tensorflow:global_step/sec: 307.049\n",
      "INFO:tensorflow:loss = 0.22999, step = 3701 (0.325 sec)\n",
      "INFO:tensorflow:global_step/sec: 302.124\n",
      "INFO:tensorflow:loss = 7.12792, step = 3801 (0.325 sec)\n",
      "INFO:tensorflow:global_step/sec: 259.798\n",
      "INFO:tensorflow:loss = 0.269439, step = 3901 (0.390 sec)\n",
      "INFO:tensorflow:global_step/sec: 260.411\n",
      "INFO:tensorflow:loss = 0.162398, step = 4001 (0.370 sec)\n",
      "INFO:tensorflow:global_step/sec: 256.134\n",
      "INFO:tensorflow:loss = 0.12509, step = 4101 (0.395 sec)\n",
      "INFO:tensorflow:global_step/sec: 267.94\n",
      "INFO:tensorflow:loss = 0.207905, step = 4201 (0.375 sec)\n",
      "INFO:tensorflow:global_step/sec: 282.593\n",
      "INFO:tensorflow:loss = 0.482794, step = 4301 (0.365 sec)\n",
      "INFO:tensorflow:global_step/sec: 308.31\n",
      "INFO:tensorflow:loss = 0.202016, step = 4401 (0.327 sec)\n",
      "INFO:tensorflow:global_step/sec: 300.474\n",
      "INFO:tensorflow:loss = 1.81847, step = 4501 (0.321 sec)\n",
      "INFO:tensorflow:global_step/sec: 304.689\n",
      "INFO:tensorflow:loss = 0.417396, step = 4601 (0.328 sec)\n",
      "INFO:tensorflow:global_step/sec: 316.694\n",
      "INFO:tensorflow:loss = 0.720204, step = 4701 (0.329 sec)\n",
      "INFO:tensorflow:global_step/sec: 305.043\n",
      "INFO:tensorflow:loss = 0.752287, step = 4801 (0.320 sec)\n",
      "INFO:tensorflow:global_step/sec: 304.3\n",
      "INFO:tensorflow:loss = 0.233654, step = 4901 (0.315 sec)\n",
      "INFO:tensorflow:global_step/sec: 304.717\n",
      "INFO:tensorflow:loss = 1.46972, step = 5001 (0.340 sec)\n",
      "INFO:tensorflow:global_step/sec: 295.734\n",
      "INFO:tensorflow:loss = 0.440137, step = 5101 (0.336 sec)\n",
      "INFO:tensorflow:global_step/sec: 300.134\n",
      "INFO:tensorflow:loss = 0.0607347, step = 5201 (0.324 sec)\n",
      "INFO:tensorflow:global_step/sec: 311.156\n",
      "INFO:tensorflow:loss = 0.160915, step = 5301 (0.327 sec)\n",
      "INFO:tensorflow:global_step/sec: 324.418\n",
      "INFO:tensorflow:loss = 0.145338, step = 5401 (0.320 sec)\n",
      "INFO:tensorflow:global_step/sec: 295.824\n",
      "INFO:tensorflow:loss = 0.5016, step = 5501 (0.330 sec)\n",
      "INFO:tensorflow:global_step/sec: 315.965\n",
      "INFO:tensorflow:loss = 0.14946, step = 5601 (0.322 sec)\n",
      "INFO:tensorflow:global_step/sec: 314.37\n",
      "INFO:tensorflow:loss = 0.20201, step = 5701 (0.321 sec)\n",
      "INFO:tensorflow:global_step/sec: 304.471\n",
      "INFO:tensorflow:loss = 0.382446, step = 5801 (0.312 sec)\n",
      "INFO:tensorflow:global_step/sec: 312.529\n",
      "INFO:tensorflow:loss = 0.298151, step = 5901 (0.334 sec)\n",
      "INFO:tensorflow:global_step/sec: 314.416\n",
      "INFO:tensorflow:loss = 0.331778, step = 6001 (0.324 sec)\n",
      "INFO:tensorflow:global_step/sec: 299.889\n",
      "INFO:tensorflow:loss = 0.320093, step = 6101 (0.327 sec)\n",
      "INFO:tensorflow:global_step/sec: 300.129\n",
      "INFO:tensorflow:loss = 0.158936, step = 6201 (0.319 sec)\n",
      "INFO:tensorflow:global_step/sec: 315.561\n",
      "INFO:tensorflow:loss = 1.17222, step = 6301 (0.337 sec)\n",
      "INFO:tensorflow:global_step/sec: 300.061\n",
      "INFO:tensorflow:loss = 0.309124, step = 6401 (0.313 sec)\n",
      "INFO:tensorflow:global_step/sec: 316.055\n",
      "INFO:tensorflow:loss = 0.159077, step = 6501 (0.337 sec)\n",
      "INFO:tensorflow:global_step/sec: 299.859\n",
      "INFO:tensorflow:loss = 0.234852, step = 6601 (0.313 sec)\n",
      "INFO:tensorflow:global_step/sec: 316.447\n",
      "INFO:tensorflow:loss = 0.372643, step = 6701 (0.336 sec)\n",
      "INFO:tensorflow:global_step/sec: 286.117\n",
      "INFO:tensorflow:loss = 0.407956, step = 6801 (0.329 sec)\n",
      "INFO:tensorflow:global_step/sec: 298.797\n",
      "INFO:tensorflow:loss = 0.676301, step = 6901 (0.342 sec)\n",
      "INFO:tensorflow:global_step/sec: 301.975\n",
      "INFO:tensorflow:loss = 0.291037, step = 7001 (0.324 sec)\n",
      "INFO:tensorflow:global_step/sec: 299.636\n",
      "INFO:tensorflow:loss = 0.0957156, step = 7101 (0.349 sec)\n",
      "INFO:tensorflow:global_step/sec: 300.034\n",
      "INFO:tensorflow:loss = 0.202831, step = 7201 (0.318 sec)\n"
     ]
    },
    {
     "name": "stdout",
     "output_type": "stream",
     "text": [
      "INFO:tensorflow:global_step/sec: 315.229\n",
      "INFO:tensorflow:loss = 0.234038, step = 7301 (0.317 sec)\n",
      "INFO:tensorflow:global_step/sec: 318.608\n",
      "INFO:tensorflow:loss = 0.192466, step = 7401 (0.314 sec)\n",
      "INFO:tensorflow:global_step/sec: 316.18\n",
      "INFO:tensorflow:loss = 0.17856, step = 7501 (0.316 sec)\n",
      "INFO:tensorflow:global_step/sec: 316.055\n",
      "INFO:tensorflow:loss = 0.138298, step = 7601 (0.316 sec)\n",
      "INFO:tensorflow:global_step/sec: 315.225\n",
      "INFO:tensorflow:loss = 0.157963, step = 7701 (0.329 sec)\n",
      "INFO:tensorflow:global_step/sec: 332.407\n",
      "INFO:tensorflow:loss = 0.234343, step = 7801 (0.307 sec)\n",
      "INFO:tensorflow:global_step/sec: 303.867\n",
      "INFO:tensorflow:loss = 0.152743, step = 7901 (0.313 sec)\n",
      "INFO:tensorflow:global_step/sec: 327.112\n",
      "INFO:tensorflow:loss = 0.221068, step = 8001 (0.313 sec)\n",
      "INFO:tensorflow:global_step/sec: 332.795\n",
      "INFO:tensorflow:loss = 0.249656, step = 8101 (0.306 sec)\n",
      "INFO:tensorflow:global_step/sec: 316.297\n",
      "INFO:tensorflow:loss = 0.187243, step = 8201 (0.302 sec)\n",
      "INFO:tensorflow:global_step/sec: 332.813\n",
      "INFO:tensorflow:loss = 0.182392, step = 8301 (0.313 sec)\n",
      "INFO:tensorflow:global_step/sec: 316.161\n",
      "INFO:tensorflow:loss = 0.216778, step = 8401 (0.314 sec)\n",
      "INFO:tensorflow:global_step/sec: 333.149\n",
      "INFO:tensorflow:loss = 0.167888, step = 8501 (0.305 sec)\n",
      "INFO:tensorflow:global_step/sec: 317.713\n",
      "INFO:tensorflow:loss = 0.0810066, step = 8601 (0.314 sec)\n",
      "INFO:tensorflow:global_step/sec: 295.24\n",
      "INFO:tensorflow:loss = 0.434791, step = 8701 (0.324 sec)\n",
      "INFO:tensorflow:global_step/sec: 287.417\n",
      "INFO:tensorflow:loss = 0.123425, step = 8801 (0.367 sec)\n",
      "INFO:tensorflow:global_step/sec: 271.121\n",
      "INFO:tensorflow:loss = 0.175767, step = 8901 (0.366 sec)\n",
      "INFO:tensorflow:global_step/sec: 261.642\n",
      "INFO:tensorflow:loss = 0.19638, step = 9001 (0.369 sec)\n",
      "INFO:tensorflow:global_step/sec: 276.771\n",
      "INFO:tensorflow:loss = 0.0809116, step = 9101 (0.359 sec)\n",
      "INFO:tensorflow:global_step/sec: 280.306\n",
      "INFO:tensorflow:loss = 0.400452, step = 9201 (0.357 sec)\n",
      "INFO:tensorflow:global_step/sec: 316.563\n",
      "INFO:tensorflow:loss = 1.25395, step = 9301 (0.332 sec)\n",
      "INFO:tensorflow:global_step/sec: 310.637\n",
      "INFO:tensorflow:loss = 0.176743, step = 9401 (0.313 sec)\n",
      "INFO:tensorflow:global_step/sec: 324.695\n",
      "INFO:tensorflow:loss = 0.274269, step = 9501 (0.317 sec)\n",
      "INFO:tensorflow:global_step/sec: 316.573\n",
      "INFO:tensorflow:loss = 0.250864, step = 9601 (0.300 sec)\n",
      "INFO:tensorflow:global_step/sec: 312.241\n",
      "INFO:tensorflow:loss = 0.341801, step = 9701 (0.326 sec)\n",
      "INFO:tensorflow:global_step/sec: 328.604\n",
      "INFO:tensorflow:loss = 0.202209, step = 9801 (0.314 sec)\n",
      "INFO:tensorflow:global_step/sec: 302.189\n",
      "INFO:tensorflow:loss = 0.831668, step = 9901 (0.331 sec)\n",
      "INFO:tensorflow:global_step/sec: 321.271\n",
      "INFO:tensorflow:loss = 0.241301, step = 10001 (0.311 sec)\n",
      "INFO:tensorflow:global_step/sec: 315.499\n",
      "INFO:tensorflow:loss = 0.307935, step = 10101 (0.318 sec)\n",
      "INFO:tensorflow:global_step/sec: 315.698\n",
      "INFO:tensorflow:loss = 0.272265, step = 10201 (0.317 sec)\n",
      "INFO:tensorflow:global_step/sec: 307.407\n",
      "INFO:tensorflow:loss = 0.391902, step = 10301 (0.308 sec)\n",
      "INFO:tensorflow:global_step/sec: 317.194\n",
      "INFO:tensorflow:loss = 0.0577544, step = 10401 (0.315 sec)\n",
      "INFO:tensorflow:global_step/sec: 316.854\n",
      "INFO:tensorflow:loss = 0.125079, step = 10501 (0.316 sec)\n",
      "INFO:tensorflow:global_step/sec: 320.706\n",
      "INFO:tensorflow:loss = 0.262544, step = 10601 (0.332 sec)\n",
      "INFO:tensorflow:global_step/sec: 301.207\n",
      "INFO:tensorflow:loss = 0.214004, step = 10701 (0.311 sec)\n",
      "INFO:tensorflow:global_step/sec: 332.564\n",
      "INFO:tensorflow:loss = 0.11154, step = 10801 (0.318 sec)\n",
      "INFO:tensorflow:global_step/sec: 307.18\n",
      "INFO:tensorflow:loss = 0.118062, step = 10901 (0.324 sec)\n",
      "INFO:tensorflow:global_step/sec: 316.818\n",
      "INFO:tensorflow:loss = 0.111822, step = 11001 (0.312 sec)\n",
      "INFO:tensorflow:global_step/sec: 316.681\n",
      "INFO:tensorflow:loss = 0.42039, step = 11101 (0.319 sec)\n",
      "INFO:tensorflow:global_step/sec: 307.27\n",
      "INFO:tensorflow:loss = 0.162951, step = 11201 (0.327 sec)\n",
      "INFO:tensorflow:global_step/sec: 314.965\n",
      "INFO:tensorflow:loss = 0.432714, step = 11301 (0.322 sec)\n",
      "INFO:tensorflow:global_step/sec: 306.578\n",
      "INFO:tensorflow:loss = 0.237999, step = 11401 (0.305 sec)\n",
      "INFO:tensorflow:global_step/sec: 316.479\n",
      "INFO:tensorflow:loss = 0.377153, step = 11501 (0.332 sec)\n",
      "INFO:tensorflow:global_step/sec: 323.569\n",
      "INFO:tensorflow:loss = 0.251559, step = 11601 (0.313 sec)\n",
      "INFO:tensorflow:global_step/sec: 316.727\n",
      "INFO:tensorflow:loss = 0.295029, step = 11701 (0.313 sec)\n",
      "INFO:tensorflow:global_step/sec: 302.309\n",
      "INFO:tensorflow:loss = 0.284607, step = 11801 (0.314 sec)\n",
      "INFO:tensorflow:global_step/sec: 304.091\n",
      "INFO:tensorflow:loss = 0.187197, step = 11901 (0.335 sec)\n",
      "INFO:tensorflow:global_step/sec: 315.761\n",
      "INFO:tensorflow:loss = 0.185659, step = 12001 (0.311 sec)\n",
      "INFO:tensorflow:global_step/sec: 316.049\n",
      "INFO:tensorflow:loss = 0.197697, step = 12101 (0.316 sec)\n",
      "INFO:tensorflow:global_step/sec: 309.079\n",
      "INFO:tensorflow:loss = 0.160823, step = 12201 (0.324 sec)\n",
      "INFO:tensorflow:global_step/sec: 316.408\n",
      "INFO:tensorflow:loss = 0.31841, step = 12301 (0.316 sec)\n",
      "INFO:tensorflow:global_step/sec: 302.785\n",
      "INFO:tensorflow:loss = 0.191031, step = 12401 (0.330 sec)\n",
      "INFO:tensorflow:global_step/sec: 311.765\n",
      "INFO:tensorflow:loss = 0.297589, step = 12501 (0.331 sec)\n",
      "INFO:tensorflow:global_step/sec: 322.023\n",
      "INFO:tensorflow:loss = 0.168439, step = 12601 (0.301 sec)\n",
      "INFO:tensorflow:global_step/sec: 310.264\n",
      "INFO:tensorflow:loss = 0.231234, step = 12701 (0.322 sec)\n",
      "INFO:tensorflow:global_step/sec: 315.815\n",
      "INFO:tensorflow:loss = 0.343515, step = 12801 (0.336 sec)\n",
      "INFO:tensorflow:global_step/sec: 304.34\n",
      "INFO:tensorflow:loss = 0.291358, step = 12901 (0.311 sec)\n",
      "INFO:tensorflow:global_step/sec: 331.373\n",
      "INFO:tensorflow:loss = 0.15083, step = 13001 (0.315 sec)\n",
      "INFO:tensorflow:global_step/sec: 296.813\n",
      "INFO:tensorflow:loss = 0.34245, step = 13101 (0.321 sec)\n",
      "INFO:tensorflow:global_step/sec: 317.019\n",
      "INFO:tensorflow:loss = 0.172038, step = 13201 (0.315 sec)\n",
      "INFO:tensorflow:global_step/sec: 314.976\n",
      "INFO:tensorflow:loss = 0.13889, step = 13301 (0.332 sec)\n",
      "INFO:tensorflow:global_step/sec: 302.511\n",
      "INFO:tensorflow:loss = 0.505554, step = 13401 (0.322 sec)\n",
      "INFO:tensorflow:global_step/sec: 316.16\n",
      "INFO:tensorflow:loss = 0.20114, step = 13501 (0.327 sec)\n",
      "INFO:tensorflow:global_step/sec: 312.118\n",
      "INFO:tensorflow:loss = 0.0615321, step = 13601 (0.304 sec)\n",
      "INFO:tensorflow:global_step/sec: 262.518\n",
      "INFO:tensorflow:loss = 0.0618319, step = 13701 (0.381 sec)\n",
      "INFO:tensorflow:global_step/sec: 259.957\n",
      "INFO:tensorflow:loss = 0.119296, step = 13801 (0.396 sec)\n",
      "INFO:tensorflow:global_step/sec: 272.886\n",
      "INFO:tensorflow:loss = 0.25312, step = 13901 (0.374 sec)\n",
      "INFO:tensorflow:global_step/sec: 261.122\n",
      "INFO:tensorflow:loss = 0.256946, step = 14001 (0.364 sec)\n",
      "INFO:tensorflow:global_step/sec: 260.882\n",
      "INFO:tensorflow:loss = 0.257972, step = 14101 (0.391 sec)\n",
      "INFO:tensorflow:global_step/sec: 331.024\n",
      "INFO:tensorflow:loss = 0.135865, step = 14201 (0.315 sec)\n",
      "INFO:tensorflow:global_step/sec: 300.852\n",
      "INFO:tensorflow:loss = 0.311617, step = 14301 (0.312 sec)\n",
      "INFO:tensorflow:global_step/sec: 315.995\n",
      "INFO:tensorflow:loss = 0.183846, step = 14401 (0.330 sec)\n",
      "INFO:tensorflow:global_step/sec: 314.274\n",
      "INFO:tensorflow:loss = 0.240925, step = 14501 (0.318 sec)\n",
      "INFO:tensorflow:global_step/sec: 300.957\n",
      "INFO:tensorflow:loss = 0.134729, step = 14601 (0.319 sec)\n",
      "INFO:tensorflow:global_step/sec: 332.632\n",
      "INFO:tensorflow:loss = 0.25306, step = 14701 (0.322 sec)\n",
      "INFO:tensorflow:global_step/sec: 300.537\n",
      "INFO:tensorflow:loss = 0.204204, step = 14801 (0.311 sec)\n",
      "INFO:tensorflow:global_step/sec: 315.927\n",
      "INFO:tensorflow:loss = 0.119428, step = 14901 (0.317 sec)\n",
      "INFO:tensorflow:global_step/sec: 312.847\n",
      "INFO:tensorflow:loss = 0.188767, step = 15001 (0.332 sec)\n",
      "INFO:tensorflow:global_step/sec: 317.26\n",
      "INFO:tensorflow:loss = 0.0819462, step = 15101 (0.319 sec)\n",
      "INFO:tensorflow:global_step/sec: 316.017\n",
      "INFO:tensorflow:loss = 0.254301, step = 15201 (0.301 sec)\n",
      "INFO:tensorflow:global_step/sec: 315.887\n",
      "INFO:tensorflow:loss = 0.235407, step = 15301 (0.338 sec)\n",
      "INFO:tensorflow:global_step/sec: 301.099\n",
      "INFO:tensorflow:loss = 1.48157, step = 15401 (0.310 sec)\n",
      "INFO:tensorflow:global_step/sec: 311.866\n",
      "INFO:tensorflow:loss = 0.0744914, step = 15501 (0.329 sec)\n",
      "INFO:tensorflow:global_step/sec: 316.755\n"
     ]
    },
    {
     "name": "stdout",
     "output_type": "stream",
     "text": [
      "INFO:tensorflow:loss = 0.189391, step = 15601 (0.325 sec)\n",
      "INFO:tensorflow:global_step/sec: 302.841\n",
      "INFO:tensorflow:loss = 0.327417, step = 15701 (0.323 sec)\n",
      "INFO:tensorflow:global_step/sec: 331.52\n",
      "INFO:tensorflow:loss = 0.183758, step = 15801 (0.292 sec)\n",
      "INFO:tensorflow:global_step/sec: 316.781\n",
      "INFO:tensorflow:loss = 0.213948, step = 15901 (0.316 sec)\n",
      "INFO:tensorflow:global_step/sec: 336.491\n",
      "INFO:tensorflow:loss = 0.156124, step = 16001 (0.315 sec)\n",
      "INFO:tensorflow:global_step/sec: 316.055\n",
      "INFO:tensorflow:loss = 0.0915185, step = 16101 (0.299 sec)\n",
      "INFO:tensorflow:global_step/sec: 332.968\n",
      "INFO:tensorflow:loss = 0.369906, step = 16201 (0.300 sec)\n",
      "INFO:tensorflow:global_step/sec: 313.62\n",
      "INFO:tensorflow:loss = 0.143349, step = 16301 (0.325 sec)\n",
      "INFO:tensorflow:global_step/sec: 326.871\n",
      "INFO:tensorflow:loss = 0.0954043, step = 16401 (0.310 sec)\n",
      "INFO:tensorflow:global_step/sec: 317.353\n",
      "INFO:tensorflow:loss = 0.223962, step = 16501 (0.314 sec)\n",
      "INFO:tensorflow:global_step/sec: 333.187\n",
      "INFO:tensorflow:loss = 0.234133, step = 16601 (0.291 sec)\n",
      "INFO:tensorflow:global_step/sec: 316.084\n",
      "INFO:tensorflow:loss = 0.256293, step = 16701 (0.322 sec)\n",
      "INFO:tensorflow:global_step/sec: 316.362\n",
      "INFO:tensorflow:loss = 0.183137, step = 16801 (0.310 sec)\n",
      "INFO:tensorflow:global_step/sec: 323.405\n",
      "INFO:tensorflow:loss = 0.379047, step = 16901 (0.309 sec)\n",
      "INFO:tensorflow:global_step/sec: 313.577\n",
      "INFO:tensorflow:loss = 0.15381, step = 17001 (0.326 sec)\n",
      "INFO:tensorflow:global_step/sec: 314.147\n",
      "INFO:tensorflow:loss = 0.178526, step = 17101 (0.315 sec)\n",
      "INFO:tensorflow:global_step/sec: 325.575\n",
      "INFO:tensorflow:loss = 0.340863, step = 17201 (0.311 sec)\n",
      "INFO:tensorflow:global_step/sec: 333.514\n",
      "INFO:tensorflow:loss = 0.181729, step = 17301 (0.311 sec)\n",
      "INFO:tensorflow:global_step/sec: 315.888\n",
      "INFO:tensorflow:loss = 0.18282, step = 17401 (0.298 sec)\n",
      "INFO:tensorflow:global_step/sec: 316.324\n",
      "INFO:tensorflow:loss = 1.17801, step = 17501 (0.325 sec)\n",
      "INFO:tensorflow:global_step/sec: 323.212\n",
      "INFO:tensorflow:loss = 0.237426, step = 17601 (0.317 sec)\n",
      "INFO:tensorflow:global_step/sec: 325.754\n",
      "INFO:tensorflow:loss = 0.382311, step = 17701 (0.307 sec)\n",
      "INFO:tensorflow:global_step/sec: 322.714\n",
      "INFO:tensorflow:loss = 0.283216, step = 17801 (0.310 sec)\n",
      "INFO:tensorflow:global_step/sec: 317.541\n",
      "INFO:tensorflow:loss = 0.257652, step = 17901 (0.299 sec)\n",
      "INFO:tensorflow:global_step/sec: 306.966\n",
      "INFO:tensorflow:loss = 0.190064, step = 18001 (0.332 sec)\n",
      "INFO:tensorflow:global_step/sec: 329.5\n",
      "INFO:tensorflow:loss = 0.0605297, step = 18101 (0.311 sec)\n",
      "INFO:tensorflow:global_step/sec: 316.386\n",
      "INFO:tensorflow:loss = 0.0472767, step = 18201 (0.316 sec)\n",
      "INFO:tensorflow:global_step/sec: 316.635\n",
      "INFO:tensorflow:loss = 0.0908001, step = 18301 (0.302 sec)\n",
      "INFO:tensorflow:global_step/sec: 326.253\n",
      "INFO:tensorflow:loss = 0.310839, step = 18401 (0.325 sec)\n",
      "INFO:tensorflow:global_step/sec: 316.454\n",
      "INFO:tensorflow:loss = 0.286694, step = 18501 (0.298 sec)\n",
      "INFO:tensorflow:global_step/sec: 316.118\n",
      "INFO:tensorflow:loss = 0.119144, step = 18601 (0.327 sec)\n",
      "INFO:tensorflow:global_step/sec: 264.595\n",
      "INFO:tensorflow:loss = 0.195013, step = 18701 (0.378 sec)\n",
      "INFO:tensorflow:global_step/sec: 270.622\n",
      "INFO:tensorflow:loss = 0.217642, step = 18801 (0.377 sec)\n",
      "INFO:tensorflow:global_step/sec: 266.771\n",
      "INFO:tensorflow:loss = 0.836306, step = 18901 (0.361 sec)\n",
      "INFO:tensorflow:global_step/sec: 280.533\n",
      "INFO:tensorflow:loss = 0.231019, step = 19001 (0.352 sec)\n",
      "INFO:tensorflow:global_step/sec: 270.929\n",
      "INFO:tensorflow:loss = 0.281116, step = 19101 (0.369 sec)\n",
      "INFO:tensorflow:global_step/sec: 316.55\n",
      "INFO:tensorflow:loss = 0.331934, step = 19201 (0.316 sec)\n",
      "INFO:tensorflow:global_step/sec: 332.496\n",
      "INFO:tensorflow:loss = 0.161426, step = 19301 (0.301 sec)\n",
      "INFO:tensorflow:global_step/sec: 313.115\n",
      "INFO:tensorflow:loss = 0.157387, step = 19401 (0.330 sec)\n",
      "INFO:tensorflow:global_step/sec: 310.751\n",
      "INFO:tensorflow:loss = 0.344143, step = 19501 (0.317 sec)\n",
      "INFO:tensorflow:global_step/sec: 320.992\n",
      "INFO:tensorflow:loss = 0.242935, step = 19601 (0.306 sec)\n",
      "INFO:tensorflow:global_step/sec: 315.805\n",
      "INFO:tensorflow:loss = 0.314795, step = 19701 (0.328 sec)\n",
      "INFO:tensorflow:global_step/sec: 316.72\n",
      "INFO:tensorflow:loss = 0.118744, step = 19801 (0.304 sec)\n",
      "INFO:tensorflow:global_step/sec: 330.632\n",
      "INFO:tensorflow:loss = 0.278486, step = 19901 (0.322 sec)\n",
      "INFO:tensorflow:global_step/sec: 300.252\n",
      "INFO:tensorflow:loss = 0.116793, step = 20001 (0.329 sec)\n",
      "INFO:tensorflow:global_step/sec: 315.289\n",
      "INFO:tensorflow:loss = 0.165137, step = 20101 (0.324 sec)\n",
      "INFO:tensorflow:global_step/sec: 300.196\n",
      "INFO:tensorflow:loss = 0.315386, step = 20201 (0.317 sec)\n",
      "INFO:tensorflow:global_step/sec: 316.796\n",
      "INFO:tensorflow:loss = 0.753172, step = 20301 (0.323 sec)\n",
      "INFO:tensorflow:global_step/sec: 315.296\n",
      "INFO:tensorflow:loss = 0.265104, step = 20401 (0.324 sec)\n",
      "INFO:tensorflow:global_step/sec: 300.219\n",
      "INFO:tensorflow:loss = 0.0617042, step = 20501 (0.313 sec)\n",
      "INFO:tensorflow:global_step/sec: 314.886\n",
      "INFO:tensorflow:loss = 0.377455, step = 20601 (0.332 sec)\n",
      "INFO:tensorflow:global_step/sec: 315.019\n",
      "INFO:tensorflow:loss = 0.306271, step = 20701 (0.322 sec)\n",
      "INFO:tensorflow:global_step/sec: 300.841\n",
      "INFO:tensorflow:loss = 0.219691, step = 20801 (0.326 sec)\n",
      "INFO:tensorflow:global_step/sec: 315.946\n",
      "INFO:tensorflow:loss = 0.0940266, step = 20901 (0.314 sec)\n",
      "INFO:tensorflow:global_step/sec: 316.465\n",
      "INFO:tensorflow:loss = 0.13952, step = 21001 (0.321 sec)\n",
      "INFO:tensorflow:global_step/sec: 297.553\n",
      "INFO:tensorflow:loss = 0.180414, step = 21101 (0.328 sec)\n",
      "INFO:tensorflow:global_step/sec: 316.415\n",
      "INFO:tensorflow:loss = 0.158955, step = 21201 (0.308 sec)\n",
      "INFO:tensorflow:global_step/sec: 317.138\n",
      "INFO:tensorflow:loss = 0.0429481, step = 21301 (0.327 sec)\n",
      "INFO:tensorflow:global_step/sec: 315.535\n",
      "INFO:tensorflow:loss = 0.150808, step = 21401 (0.322 sec)\n",
      "INFO:tensorflow:global_step/sec: 311.979\n",
      "INFO:tensorflow:loss = 0.338322, step = 21501 (0.304 sec)\n",
      "INFO:tensorflow:global_step/sec: 300.466\n",
      "INFO:tensorflow:loss = 0.298652, step = 21601 (0.338 sec)\n",
      "INFO:tensorflow:global_step/sec: 290.085\n",
      "INFO:tensorflow:loss = 0.195116, step = 21701 (0.361 sec)\n",
      "INFO:tensorflow:global_step/sec: 259.908\n",
      "INFO:tensorflow:loss = 0.338661, step = 21801 (0.363 sec)\n",
      "INFO:tensorflow:global_step/sec: 314.257\n",
      "INFO:tensorflow:loss = 0.18875, step = 21901 (0.318 sec)\n",
      "INFO:tensorflow:global_step/sec: 317.709\n",
      "INFO:tensorflow:loss = 0.130337, step = 22001 (0.330 sec)\n",
      "INFO:tensorflow:global_step/sec: 314.777\n",
      "INFO:tensorflow:loss = 0.224007, step = 22101 (0.322 sec)\n",
      "INFO:tensorflow:global_step/sec: 311.082\n",
      "INFO:tensorflow:loss = 0.107015, step = 22201 (0.301 sec)\n",
      "INFO:tensorflow:global_step/sec: 316.431\n",
      "INFO:tensorflow:loss = 0.267, step = 22301 (0.334 sec)\n",
      "INFO:tensorflow:global_step/sec: 304.143\n",
      "INFO:tensorflow:loss = 0.0965356, step = 22401 (0.317 sec)\n",
      "INFO:tensorflow:global_step/sec: 301.397\n",
      "INFO:tensorflow:loss = 0.504832, step = 22501 (0.335 sec)\n",
      "INFO:tensorflow:global_step/sec: 308.191\n",
      "INFO:tensorflow:loss = 0.14974, step = 22601 (0.330 sec)\n",
      "INFO:tensorflow:global_step/sec: 306.264\n",
      "INFO:tensorflow:loss = 0.210104, step = 22701 (0.311 sec)\n",
      "INFO:tensorflow:global_step/sec: 332.19\n",
      "INFO:tensorflow:loss = 0.275085, step = 22801 (0.322 sec)\n",
      "INFO:tensorflow:global_step/sec: 301.068\n",
      "INFO:tensorflow:loss = 0.259242, step = 22901 (0.311 sec)\n",
      "INFO:tensorflow:global_step/sec: 314.577\n",
      "INFO:tensorflow:loss = 0.165171, step = 23001 (0.318 sec)\n",
      "INFO:tensorflow:global_step/sec: 308.522\n",
      "INFO:tensorflow:loss = 0.24811, step = 23101 (0.332 sec)\n",
      "INFO:tensorflow:global_step/sec: 316.297\n",
      "INFO:tensorflow:loss = 0.155642, step = 23201 (0.315 sec)\n",
      "INFO:tensorflow:global_step/sec: 307.608\n",
      "INFO:tensorflow:loss = 0.234245, step = 23301 (0.326 sec)\n",
      "INFO:tensorflow:global_step/sec: 316.084\n",
      "INFO:tensorflow:loss = 0.143913, step = 23401 (0.322 sec)\n",
      "INFO:tensorflow:global_step/sec: 299.205\n",
      "INFO:tensorflow:loss = 0.207022, step = 23501 (0.328 sec)\n",
      "INFO:tensorflow:global_step/sec: 272.81\n",
      "INFO:tensorflow:loss = 0.0497237, step = 23601 (0.382 sec)\n",
      "INFO:tensorflow:global_step/sec: 261.665\n",
      "INFO:tensorflow:loss = 0.102241, step = 23701 (0.361 sec)\n",
      "INFO:tensorflow:global_step/sec: 276.155\n",
      "INFO:tensorflow:loss = 0.232712, step = 23801 (0.378 sec)\n",
      "INFO:tensorflow:global_step/sec: 268.448\n"
     ]
    },
    {
     "name": "stdout",
     "output_type": "stream",
     "text": [
      "INFO:tensorflow:loss = 0.136901, step = 23901 (0.375 sec)\n",
      "INFO:tensorflow:global_step/sec: 266.885\n",
      "INFO:tensorflow:loss = 0.182436, step = 24001 (1.259 sec)\n",
      "INFO:tensorflow:global_step/sec: 82.9335\n",
      "INFO:tensorflow:loss = 0.136014, step = 24101 (0.304 sec)\n",
      "INFO:tensorflow:global_step/sec: 316.754\n",
      "INFO:tensorflow:loss = 0.344009, step = 24201 (0.325 sec)\n",
      "INFO:tensorflow:global_step/sec: 331.973\n",
      "INFO:tensorflow:loss = 0.18893, step = 24301 (0.309 sec)\n",
      "INFO:tensorflow:global_step/sec: 317.173\n",
      "INFO:tensorflow:loss = 0.078405, step = 24401 (0.298 sec)\n",
      "INFO:tensorflow:global_step/sec: 283.052\n",
      "INFO:tensorflow:loss = 0.154086, step = 24501 (0.353 sec)\n",
      "INFO:tensorflow:global_step/sec: 271.446\n",
      "INFO:tensorflow:loss = 0.528472, step = 24601 (0.373 sec)\n",
      "INFO:tensorflow:global_step/sec: 331.677\n",
      "INFO:tensorflow:loss = 0.253848, step = 24701 (0.297 sec)\n",
      "INFO:tensorflow:global_step/sec: 287.952\n",
      "INFO:tensorflow:loss = 0.0486114, step = 24801 (0.367 sec)\n",
      "INFO:tensorflow:global_step/sec: 317.122\n",
      "INFO:tensorflow:loss = 0.276206, step = 24901 (0.314 sec)\n",
      "INFO:tensorflow:global_step/sec: 315.931\n",
      "INFO:tensorflow:loss = 0.357566, step = 25001 (0.318 sec)\n",
      "INFO:tensorflow:global_step/sec: 310.769\n",
      "INFO:tensorflow:loss = 0.162269, step = 25101 (0.314 sec)\n",
      "INFO:tensorflow:global_step/sec: 300.981\n",
      "INFO:tensorflow:loss = 0.205116, step = 25201 (0.326 sec)\n",
      "INFO:tensorflow:global_step/sec: 333.775\n",
      "INFO:tensorflow:loss = 0.144851, step = 25301 (0.295 sec)\n",
      "INFO:tensorflow:global_step/sec: 332.554\n",
      "INFO:tensorflow:loss = 0.217893, step = 25401 (0.316 sec)\n",
      "INFO:tensorflow:global_step/sec: 304.236\n",
      "INFO:tensorflow:loss = 0.263197, step = 25501 (0.313 sec)\n",
      "INFO:tensorflow:global_step/sec: 334.099\n",
      "INFO:tensorflow:loss = 0.167726, step = 25601 (0.317 sec)\n",
      "INFO:tensorflow:global_step/sec: 315.932\n",
      "INFO:tensorflow:loss = 0.236815, step = 25701 (0.315 sec)\n",
      "INFO:tensorflow:global_step/sec: 307.185\n",
      "INFO:tensorflow:loss = 0.176947, step = 25801 (0.318 sec)\n",
      "INFO:tensorflow:global_step/sec: 332.876\n",
      "INFO:tensorflow:loss = 0.131319, step = 25901 (0.292 sec)\n",
      "INFO:tensorflow:global_step/sec: 316.971\n",
      "INFO:tensorflow:loss = 0.164563, step = 26001 (0.315 sec)\n",
      "INFO:tensorflow:global_step/sec: 316.843\n",
      "INFO:tensorflow:loss = 0.19492, step = 26101 (0.331 sec)\n",
      "INFO:tensorflow:global_step/sec: 305.682\n",
      "INFO:tensorflow:loss = 0.112768, step = 26201 (0.312 sec)\n",
      "INFO:tensorflow:global_step/sec: 332.589\n",
      "INFO:tensorflow:loss = 0.219755, step = 26301 (0.301 sec)\n",
      "INFO:tensorflow:global_step/sec: 315.014\n",
      "INFO:tensorflow:loss = 0.0978856, step = 26401 (0.329 sec)\n",
      "INFO:tensorflow:global_step/sec: 314.856\n",
      "INFO:tensorflow:loss = 0.134254, step = 26501 (0.312 sec)\n",
      "INFO:tensorflow:global_step/sec: 309.879\n",
      "INFO:tensorflow:loss = 0.129547, step = 26601 (0.316 sec)\n",
      "INFO:tensorflow:global_step/sec: 333.788\n",
      "INFO:tensorflow:loss = 0.207791, step = 26701 (0.300 sec)\n",
      "INFO:tensorflow:global_step/sec: 332.841\n",
      "INFO:tensorflow:loss = 0.185585, step = 26801 (0.322 sec)\n",
      "INFO:tensorflow:global_step/sec: 307.41\n",
      "INFO:tensorflow:loss = 0.216034, step = 26901 (0.320 sec)\n",
      "INFO:tensorflow:global_step/sec: 315.609\n",
      "INFO:tensorflow:loss = 0.127054, step = 27001 (0.317 sec)\n",
      "INFO:tensorflow:global_step/sec: 314.623\n",
      "INFO:tensorflow:loss = 0.337105, step = 27101 (0.321 sec)\n",
      "INFO:tensorflow:global_step/sec: 309.91\n",
      "INFO:tensorflow:loss = 0.148901, step = 27201 (0.306 sec)\n",
      "INFO:tensorflow:global_step/sec: 330.418\n",
      "INFO:tensorflow:loss = 0.143116, step = 27301 (0.311 sec)\n",
      "INFO:tensorflow:global_step/sec: 315.884\n",
      "INFO:tensorflow:loss = 0.259408, step = 27401 (0.321 sec)\n",
      "INFO:tensorflow:global_step/sec: 316.734\n",
      "INFO:tensorflow:loss = 0.117574, step = 27501 (0.316 sec)\n",
      "INFO:tensorflow:global_step/sec: 307.515\n",
      "INFO:tensorflow:loss = 0.0668509, step = 27601 (0.309 sec)\n",
      "INFO:tensorflow:global_step/sec: 333.525\n",
      "INFO:tensorflow:loss = 0.182386, step = 27701 (0.320 sec)\n",
      "INFO:tensorflow:global_step/sec: 315.957\n",
      "INFO:tensorflow:loss = 0.105559, step = 27801 (0.314 sec)\n",
      "INFO:tensorflow:global_step/sec: 305.645\n",
      "INFO:tensorflow:loss = 0.177002, step = 27901 (0.318 sec)\n",
      "INFO:tensorflow:global_step/sec: 332.849\n",
      "INFO:tensorflow:loss = 0.186595, step = 28001 (0.291 sec)\n",
      "INFO:tensorflow:global_step/sec: 308.567\n",
      "INFO:tensorflow:loss = 0.418834, step = 28101 (0.324 sec)\n",
      "INFO:tensorflow:global_step/sec: 288.178\n",
      "INFO:tensorflow:loss = 0.0870409, step = 28201 (0.364 sec)\n",
      "INFO:tensorflow:global_step/sec: 265.123\n",
      "INFO:tensorflow:loss = 0.241011, step = 28301 (0.374 sec)\n",
      "INFO:tensorflow:global_step/sec: 259.964\n",
      "INFO:tensorflow:loss = 0.221163, step = 28401 (0.371 sec)\n",
      "INFO:tensorflow:global_step/sec: 270.936\n",
      "INFO:tensorflow:loss = 0.184029, step = 28501 (0.390 sec)\n",
      "INFO:tensorflow:global_step/sec: 260.234\n",
      "INFO:tensorflow:loss = 0.185872, step = 28601 (0.364 sec)\n",
      "INFO:tensorflow:global_step/sec: 301.467\n",
      "INFO:tensorflow:loss = 0.0374319, step = 28701 (0.351 sec)\n",
      "INFO:tensorflow:global_step/sec: 312.04\n",
      "INFO:tensorflow:loss = 0.423963, step = 28801 (0.301 sec)\n",
      "INFO:tensorflow:global_step/sec: 314.357\n",
      "INFO:tensorflow:loss = 0.254632, step = 28901 (0.332 sec)\n",
      "INFO:tensorflow:global_step/sec: 315.88\n",
      "INFO:tensorflow:loss = 0.179455, step = 29001 (0.302 sec)\n",
      "INFO:tensorflow:global_step/sec: 315.075\n",
      "INFO:tensorflow:loss = 0.322775, step = 29101 (0.322 sec)\n",
      "INFO:tensorflow:global_step/sec: 319.754\n",
      "INFO:tensorflow:loss = 0.15082, step = 29201 (0.324 sec)\n",
      "INFO:tensorflow:global_step/sec: 313.008\n",
      "INFO:tensorflow:loss = 0.0998277, step = 29301 (0.320 sec)\n",
      "INFO:tensorflow:global_step/sec: 301.269\n",
      "INFO:tensorflow:loss = 0.166213, step = 29401 (0.315 sec)\n",
      "INFO:tensorflow:global_step/sec: 316.712\n",
      "INFO:tensorflow:loss = 0.105527, step = 29501 (0.325 sec)\n",
      "INFO:tensorflow:global_step/sec: 307.729\n",
      "INFO:tensorflow:loss = 0.256546, step = 29601 (0.320 sec)\n",
      "INFO:tensorflow:global_step/sec: 323.845\n",
      "INFO:tensorflow:loss = 0.318508, step = 29701 (0.320 sec)\n",
      "INFO:tensorflow:global_step/sec: 313.31\n",
      "INFO:tensorflow:loss = 0.151506, step = 29801 (0.320 sec)\n",
      "INFO:tensorflow:global_step/sec: 314.964\n",
      "INFO:tensorflow:loss = 0.21152, step = 29901 (0.320 sec)\n",
      "INFO:tensorflow:global_step/sec: 318.01\n",
      "INFO:tensorflow:loss = 0.225309, step = 30001 (0.315 sec)\n",
      "INFO:tensorflow:global_step/sec: 315.5\n",
      "INFO:tensorflow:loss = 0.17461, step = 30101 (0.313 sec)\n",
      "INFO:tensorflow:global_step/sec: 299.965\n",
      "INFO:tensorflow:loss = 0.126495, step = 30201 (0.327 sec)\n",
      "INFO:tensorflow:global_step/sec: 315.112\n",
      "INFO:tensorflow:loss = 0.301939, step = 30301 (0.319 sec)\n",
      "INFO:tensorflow:global_step/sec: 332.397\n",
      "INFO:tensorflow:loss = 0.108163, step = 30401 (0.310 sec)\n",
      "INFO:tensorflow:global_step/sec: 301.247\n",
      "INFO:tensorflow:loss = 0.163984, step = 30501 (0.312 sec)\n",
      "INFO:tensorflow:global_step/sec: 315.486\n",
      "INFO:tensorflow:loss = 0.204178, step = 30601 (0.317 sec)\n",
      "INFO:tensorflow:global_step/sec: 316.045\n",
      "INFO:tensorflow:loss = 0.159259, step = 30701 (0.336 sec)\n",
      "INFO:tensorflow:global_step/sec: 299.234\n",
      "INFO:tensorflow:loss = 0.314789, step = 30801 (0.323 sec)\n",
      "INFO:tensorflow:global_step/sec: 316.553\n",
      "INFO:tensorflow:loss = 0.574446, step = 30901 (0.307 sec)\n",
      "INFO:tensorflow:global_step/sec: 314.315\n",
      "INFO:tensorflow:loss = 0.119983, step = 31001 (0.332 sec)\n",
      "INFO:tensorflow:global_step/sec: 316.828\n",
      "INFO:tensorflow:loss = 0.243337, step = 31101 (0.318 sec)\n",
      "INFO:tensorflow:global_step/sec: 314.792\n",
      "INFO:tensorflow:loss = 0.301055, step = 31201 (0.320 sec)\n",
      "INFO:tensorflow:global_step/sec: 313.935\n",
      "INFO:tensorflow:loss = 0.269286, step = 31301 (0.318 sec)\n",
      "INFO:tensorflow:global_step/sec: 302.854\n",
      "INFO:tensorflow:loss = 0.208245, step = 31401 (0.313 sec)\n",
      "INFO:tensorflow:global_step/sec: 315.358\n",
      "INFO:tensorflow:loss = 0.176081, step = 31501 (0.317 sec)\n",
      "INFO:tensorflow:global_step/sec: 314.985\n",
      "INFO:tensorflow:loss = 0.170307, step = 31601 (0.335 sec)\n",
      "INFO:tensorflow:global_step/sec: 298.175\n",
      "INFO:tensorflow:loss = 0.162955, step = 31701 (0.327 sec)\n",
      "INFO:tensorflow:global_step/sec: 317.674\n",
      "INFO:tensorflow:loss = 0.268641, step = 31801 (0.306 sec)\n",
      "INFO:tensorflow:global_step/sec: 316.218\n",
      "INFO:tensorflow:loss = 0.157225, step = 31901 (0.337 sec)\n",
      "INFO:tensorflow:global_step/sec: 300.557\n",
      "INFO:tensorflow:loss = 0.0603042, step = 32001 (0.318 sec)\n",
      "INFO:tensorflow:global_step/sec: 316.206\n",
      "INFO:tensorflow:loss = 0.101041, step = 32101 (0.310 sec)\n",
      "INFO:tensorflow:global_step/sec: 311.603\n"
     ]
    },
    {
     "name": "stdout",
     "output_type": "stream",
     "text": [
      "INFO:tensorflow:loss = 0.214477, step = 32201 (0.336 sec)\n",
      "INFO:tensorflow:global_step/sec: 318.632\n",
      "INFO:tensorflow:loss = 0.293914, step = 32301 (0.314 sec)\n",
      "INFO:tensorflow:global_step/sec: 330.523\n",
      "INFO:tensorflow:loss = 0.216218, step = 32401 (0.303 sec)\n",
      "INFO:tensorflow:global_step/sec: 315.888\n",
      "INFO:tensorflow:loss = 0.165823, step = 32501 (0.301 sec)\n",
      "INFO:tensorflow:global_step/sec: 332.864\n",
      "INFO:tensorflow:loss = 0.217148, step = 32601 (0.317 sec)\n",
      "INFO:tensorflow:global_step/sec: 316.64\n",
      "INFO:tensorflow:loss = 0.284184, step = 32701 (0.308 sec)\n",
      "INFO:tensorflow:global_step/sec: 332.81\n",
      "INFO:tensorflow:loss = 0.165009, step = 32801 (0.308 sec)\n",
      "INFO:tensorflow:global_step/sec: 321.297\n",
      "INFO:tensorflow:loss = 0.22779, step = 32901 (0.307 sec)\n",
      "INFO:tensorflow:global_step/sec: 333.695\n",
      "INFO:tensorflow:loss = 0.392706, step = 33001 (0.303 sec)\n",
      "INFO:tensorflow:global_step/sec: 316.529\n",
      "INFO:tensorflow:loss = 0.192895, step = 33101 (0.300 sec)\n",
      "INFO:tensorflow:global_step/sec: 278.873\n",
      "INFO:tensorflow:loss = 0.103653, step = 33201 (0.359 sec)\n",
      "INFO:tensorflow:global_step/sec: 259.826\n",
      "INFO:tensorflow:loss = 0.294016, step = 33301 (0.385 sec)\n",
      "INFO:tensorflow:global_step/sec: 271.141\n",
      "INFO:tensorflow:loss = 0.0878506, step = 33401 (0.375 sec)\n",
      "INFO:tensorflow:global_step/sec: 287.881\n",
      "INFO:tensorflow:loss = 0.213438, step = 33501 (0.360 sec)\n",
      "INFO:tensorflow:global_step/sec: 271.208\n",
      "INFO:tensorflow:loss = 0.108055, step = 33601 (0.349 sec)\n",
      "INFO:tensorflow:global_step/sec: 302.195\n",
      "INFO:tensorflow:loss = 0.408152, step = 33701 (0.331 sec)\n",
      "INFO:tensorflow:global_step/sec: 332.681\n",
      "INFO:tensorflow:loss = 0.239819, step = 33801 (0.316 sec)\n",
      "INFO:tensorflow:global_step/sec: 323.677\n",
      "INFO:tensorflow:loss = 0.0911427, step = 33901 (0.293 sec)\n",
      "INFO:tensorflow:global_step/sec: 317.397\n",
      "INFO:tensorflow:loss = 0.140924, step = 34001 (0.321 sec)\n",
      "INFO:tensorflow:global_step/sec: 331.605\n",
      "INFO:tensorflow:loss = 0.46286, step = 34101 (0.311 sec)\n",
      "INFO:tensorflow:global_step/sec: 316.171\n",
      "INFO:tensorflow:loss = 0.23263, step = 34201 (0.318 sec)\n",
      "INFO:tensorflow:global_step/sec: 307.273\n",
      "INFO:tensorflow:loss = 0.235974, step = 34301 (0.314 sec)\n",
      "INFO:tensorflow:global_step/sec: 331.002\n",
      "INFO:tensorflow:loss = 0.101617, step = 34401 (0.314 sec)\n",
      "INFO:tensorflow:global_step/sec: 316.054\n",
      "INFO:tensorflow:loss = 0.391236, step = 34501 (0.298 sec)\n",
      "INFO:tensorflow:global_step/sec: 333.5\n",
      "INFO:tensorflow:loss = 0.071133, step = 34601 (0.315 sec)\n",
      "INFO:tensorflow:global_step/sec: 316.686\n",
      "INFO:tensorflow:loss = 0.198645, step = 34701 (0.319 sec)\n",
      "INFO:tensorflow:global_step/sec: 325.527\n",
      "INFO:tensorflow:loss = 0.12793, step = 34801 (0.289 sec)\n",
      "INFO:tensorflow:global_step/sec: 332.913\n",
      "INFO:tensorflow:loss = 0.202062, step = 34901 (0.316 sec)\n",
      "INFO:tensorflow:global_step/sec: 316.066\n",
      "INFO:tensorflow:loss = 0.164194, step = 35001 (0.316 sec)\n",
      "INFO:tensorflow:global_step/sec: 315.099\n",
      "INFO:tensorflow:loss = 0.287968, step = 35101 (0.319 sec)\n",
      "INFO:tensorflow:global_step/sec: 333.981\n",
      "INFO:tensorflow:loss = 0.331813, step = 35201 (0.301 sec)\n",
      "INFO:tensorflow:global_step/sec: 309.413\n",
      "INFO:tensorflow:loss = 0.114216, step = 35301 (0.310 sec)\n",
      "INFO:tensorflow:global_step/sec: 325.731\n",
      "INFO:tensorflow:loss = 0.10879, step = 35401 (0.311 sec)\n",
      "INFO:tensorflow:global_step/sec: 333.185\n",
      "INFO:tensorflow:loss = 0.198488, step = 35501 (0.305 sec)\n",
      "INFO:tensorflow:global_step/sec: 316.536\n",
      "INFO:tensorflow:loss = 0.16366, step = 35601 (0.316 sec)\n",
      "INFO:tensorflow:global_step/sec: 311.721\n",
      "INFO:tensorflow:loss = 0.191788, step = 35701 (0.316 sec)\n",
      "INFO:tensorflow:global_step/sec: 316.536\n",
      "INFO:tensorflow:loss = 0.137296, step = 35801 (0.311 sec)\n",
      "INFO:tensorflow:global_step/sec: 287.031\n",
      "INFO:tensorflow:loss = 0.212843, step = 35901 (0.350 sec)\n",
      "INFO:tensorflow:global_step/sec: 301.345\n",
      "INFO:tensorflow:loss = 0.34656, step = 36001 (0.324 sec)\n",
      "INFO:tensorflow:global_step/sec: 328.504\n",
      "INFO:tensorflow:loss = 0.262378, step = 36101 (0.321 sec)\n",
      "INFO:tensorflow:global_step/sec: 293.503\n",
      "INFO:tensorflow:loss = 0.15665, step = 36201 (0.328 sec)\n",
      "INFO:tensorflow:global_step/sec: 307.725\n",
      "INFO:tensorflow:loss = 0.0771669, step = 36301 (0.338 sec)\n",
      "INFO:tensorflow:global_step/sec: 300.893\n",
      "INFO:tensorflow:loss = 0.224493, step = 36401 (0.316 sec)\n",
      "INFO:tensorflow:global_step/sec: 299.26\n",
      "INFO:tensorflow:loss = 0.26601, step = 36501 (0.340 sec)\n",
      "INFO:tensorflow:global_step/sec: 301.152\n",
      "INFO:tensorflow:loss = 0.350807, step = 36601 (0.327 sec)\n",
      "INFO:tensorflow:global_step/sec: 300.243\n",
      "INFO:tensorflow:loss = 0.347613, step = 36701 (0.340 sec)\n",
      "INFO:tensorflow:global_step/sec: 314.323\n",
      "INFO:tensorflow:loss = 0.206509, step = 36801 (0.318 sec)\n",
      "INFO:tensorflow:global_step/sec: 316.742\n",
      "INFO:tensorflow:loss = 0.231543, step = 36901 (0.318 sec)\n",
      "INFO:tensorflow:global_step/sec: 325.533\n",
      "INFO:tensorflow:loss = 0.178623, step = 37001 (0.316 sec)\n",
      "INFO:tensorflow:global_step/sec: 277.438\n",
      "INFO:tensorflow:loss = 0.169851, step = 37101 (0.346 sec)\n",
      "INFO:tensorflow:global_step/sec: 286.297\n",
      "INFO:tensorflow:loss = 0.23968, step = 37201 (0.352 sec)\n",
      "INFO:tensorflow:global_step/sec: 276.77\n",
      "INFO:tensorflow:loss = 0.264857, step = 37301 (0.359 sec)\n",
      "INFO:tensorflow:global_step/sec: 278.412\n",
      "INFO:tensorflow:loss = 0.172121, step = 37401 (0.354 sec)\n",
      "INFO:tensorflow:global_step/sec: 303.079\n",
      "INFO:tensorflow:loss = 0.148336, step = 37501 (0.330 sec)\n",
      "INFO:tensorflow:global_step/sec: 296.728\n",
      "INFO:tensorflow:loss = 0.328446, step = 37601 (0.343 sec)\n",
      "INFO:tensorflow:global_step/sec: 270.054\n",
      "INFO:tensorflow:loss = 0.0731801, step = 37701 (0.371 sec)\n",
      "INFO:tensorflow:global_step/sec: 301.779\n",
      "INFO:tensorflow:loss = 0.222567, step = 37801 (0.329 sec)\n",
      "INFO:tensorflow:global_step/sec: 321.788\n",
      "INFO:tensorflow:loss = 0.174189, step = 37901 (0.316 sec)\n",
      "INFO:tensorflow:global_step/sec: 309.923\n",
      "INFO:tensorflow:loss = 0.0877569, step = 38001 (0.313 sec)\n",
      "INFO:tensorflow:global_step/sec: 264.742\n",
      "INFO:tensorflow:loss = 0.190515, step = 38101 (0.378 sec)\n",
      "INFO:tensorflow:global_step/sec: 249.805\n",
      "INFO:tensorflow:loss = 0.277409, step = 38201 (0.400 sec)\n",
      "INFO:tensorflow:global_step/sec: 262.756\n",
      "INFO:tensorflow:loss = 0.380795, step = 38301 (0.389 sec)\n",
      "INFO:tensorflow:global_step/sec: 253.622\n",
      "INFO:tensorflow:loss = 0.15194, step = 38401 (0.386 sec)\n",
      "INFO:tensorflow:global_step/sec: 274.689\n",
      "INFO:tensorflow:loss = 0.240132, step = 38501 (0.385 sec)\n",
      "INFO:tensorflow:global_step/sec: 290.861\n",
      "INFO:tensorflow:loss = 0.257511, step = 38601 (0.339 sec)\n",
      "INFO:tensorflow:global_step/sec: 295.178\n",
      "INFO:tensorflow:loss = 0.165176, step = 38701 (0.329 sec)\n",
      "INFO:tensorflow:global_step/sec: 276.082\n",
      "INFO:tensorflow:loss = 0.170999, step = 38801 (0.356 sec)\n",
      "INFO:tensorflow:global_step/sec: 280.023\n",
      "INFO:tensorflow:loss = 0.116738, step = 38901 (0.363 sec)\n",
      "INFO:tensorflow:global_step/sec: 318.333\n",
      "INFO:tensorflow:loss = 0.376711, step = 39001 (0.322 sec)\n",
      "INFO:tensorflow:global_step/sec: 304.198\n",
      "INFO:tensorflow:loss = 0.349899, step = 39101 (0.332 sec)\n",
      "INFO:tensorflow:global_step/sec: 293.921\n",
      "INFO:tensorflow:loss = 0.261887, step = 39201 (0.337 sec)\n",
      "INFO:tensorflow:global_step/sec: 291.348\n",
      "INFO:tensorflow:loss = 0.27861, step = 39301 (0.329 sec)\n",
      "INFO:tensorflow:global_step/sec: 282.516\n",
      "INFO:tensorflow:loss = 0.260496, step = 39401 (0.358 sec)\n",
      "INFO:tensorflow:global_step/sec: 317.824\n",
      "INFO:tensorflow:loss = 0.232186, step = 39501 (0.330 sec)\n",
      "INFO:tensorflow:global_step/sec: 301.774\n",
      "INFO:tensorflow:loss = 0.133804, step = 39601 (0.327 sec)\n",
      "INFO:tensorflow:global_step/sec: 278.894\n",
      "INFO:tensorflow:loss = 0.231642, step = 39701 (0.352 sec)\n",
      "INFO:tensorflow:global_step/sec: 280.561\n",
      "INFO:tensorflow:loss = 0.274492, step = 39801 (0.349 sec)\n",
      "INFO:tensorflow:global_step/sec: 314.35\n",
      "INFO:tensorflow:loss = 0.060411, step = 39901 (0.331 sec)\n",
      "INFO:tensorflow:Saving checkpoints for 40000 into C:\\Users\\Daney\\AppData\\Local\\Temp\\tmpytxwvtrb\\model.ckpt.\n",
      "INFO:tensorflow:Loss for final step: 0.127847.\n"
     ]
    },
    {
     "data": {
      "text/plain": [
       "SKCompat()"
      ]
     },
     "execution_count": 87,
     "metadata": {},
     "output_type": "execute_result"
    }
   ],
   "source": [
    "import tensorflow as tf\n",
    "import pandas as pd\n",
    "import numpy as np\n",
    "\n",
    "feature_cols = tf.contrib.learn.infer_real_valued_columns_from_input(X_train)\n",
    "dnn_clf = tf.contrib.learn.DNNClassifier(hidden_units=[300,100], n_classes=10,\n",
    "                                         feature_columns=feature_cols)\n",
    "dnn_clf = tf.contrib.learn.SKCompat(dnn_clf) \n",
    "dnn_clf.fit(X_train, Y_train, batch_size=50, steps=40000)\n"
   ]
  },
  {
   "cell_type": "code",
   "execution_count": 101,
   "metadata": {},
   "outputs": [
    {
     "name": "stdout",
     "output_type": "stream",
     "text": [
      "WARNING:tensorflow:float64 is not supported by many models, consider casting to float32.\n",
      "INFO:tensorflow:Restoring parameters from C:\\Users\\Daney\\AppData\\Local\\Temp\\tmpytxwvtrb\\model.ckpt-40000\n",
      "WARNING:tensorflow:float64 is not supported by many models, consider casting to float32.\n",
      "INFO:tensorflow:Restoring parameters from C:\\Users\\Daney\\AppData\\Local\\Temp\\tmpytxwvtrb\\model.ckpt-40000\n"
     ]
    },
    {
     "data": {
      "text/plain": [
       "array([[  9.60574985e-01,   3.94250564e-02,   7.59683518e-30, ...,\n",
       "          2.89424809e-20,   1.13035317e-24,   7.44631179e-32],\n",
       "       [  9.79162693e-01,   2.08373908e-02,   0.00000000e+00, ...,\n",
       "          2.36541606e-30,   7.88209479e-38,   0.00000000e+00],\n",
       "       [  9.81188715e-01,   1.88112892e-02,   1.81918540e-28, ...,\n",
       "          5.38275958e-20,   3.42506303e-23,   4.32874535e-30],\n",
       "       ..., \n",
       "       [  9.82141852e-01,   1.78581700e-02,   0.00000000e+00, ...,\n",
       "          7.93689901e-38,   0.00000000e+00,   0.00000000e+00],\n",
       "       [  9.75657642e-01,   2.43423264e-02,   0.00000000e+00, ...,\n",
       "          0.00000000e+00,   0.00000000e+00,   0.00000000e+00],\n",
       "       [  9.49346483e-01,   5.06535172e-02,   7.53632637e-30, ...,\n",
       "          7.73087524e-20,   8.76759633e-25,   4.12232204e-32]], dtype=float32)"
      ]
     },
     "execution_count": 101,
     "metadata": {},
     "output_type": "execute_result"
    }
   ],
   "source": [
    "y_pred = dnn_clf.predict(credit_test_df)\n",
    "scores_test = dnn_clf.predict(credit_test_df)\n",
    "scores_test['probabilities']"
   ]
  },
  {
   "cell_type": "code",
   "execution_count": 102,
   "metadata": {
    "collapsed": true
   },
   "outputs": [],
   "source": [
    "scores_test = scores_test['probabilities'][:,1]"
   ]
  },
  {
   "cell_type": "code",
   "execution_count": 103,
   "metadata": {
    "collapsed": true
   },
   "outputs": [],
   "source": [
    "submission = pd.DataFrame({'Id': credit_test_df.index.values +1, 'Probability': scores_test})\n",
    "submission.to_csv('filetf.csv', index = False)"
   ]
  },
  {
   "cell_type": "markdown",
   "metadata": {},
   "source": [
    "# Neural Network MLP"
   ]
  },
  {
   "cell_type": "code",
   "execution_count": 60,
   "metadata": {},
   "outputs": [],
   "source": [
    "from sklearn.neural_network import MLPClassifier\n",
    "from sklearn.feature_selection import SelectKBest, f_classif\n",
    "\n",
    "clf = MLPClassifier(solver='lbfgs', alpha=1e-5, hidden_layer_sizes=(8, 7, 5, 4), random_state=1)\n",
    "\n",
    "pipe = Pipeline([\n",
    "    ('imp',Imputer()),\n",
    "    ('std',StandardScaler()),\n",
    "    ('select_feat', SelectKBest(f_classif, k=10)),\n",
    "    ('clf', clf)\n",
    "])\n",
    "\n",
    "pipe.fit(X_train, Y_train)\n",
    "predicted_test = pipe.predict(credit_test_df)\n",
    "scores_test = pipe.predict_proba(credit_test_df)[:,1]\n",
    "\n",
    "submission = pd.DataFrame({'Id': credit_test_df.index.values +1, 'Probability': scores_test})\n",
    "submission.to_csv('fileper2.csv', index = False)"
   ]
  },
  {
   "cell_type": "markdown",
   "metadata": {},
   "source": [
    "## Deep Learning with h20 (Neural Network)"
   ]
  },
  {
   "cell_type": "code",
   "execution_count": null,
   "metadata": {
    "collapsed": true
   },
   "outputs": [],
   "source": [
    "import h2o\n",
    "get_ipython().magic(u'matplotlib inline')\n",
    "#IMPORT ALL THE THINGS\n",
    "\n",
    "import matplotlib.pyplot as plt\n",
    "import numpy as np\n",
    "import pandas as pd\n",
    "\n",
    "from h2o.estimators.deeplearning import H2OAutoEncoderEstimator, H2ODeepLearningEstimator\n",
    "from h2o.estimators.gbm import H2OGradientBoostingEstimator\n",
    "from h2o.estimators.glm import H2OGeneralizedLinearEstimator\n",
    "from h2o.estimators.random_forest import H2ORandomForestEstimator\n",
    "h2o.init(max_mem_size = 2)        \n",
    "h2o.remove_all()   "
   ]
  },
  {
   "cell_type": "code",
   "execution_count": null,
   "metadata": {
    "collapsed": true
   },
   "outputs": [],
   "source": [
    "df_H2O = h2o.H2OFrame(credit_df)\n",
    "train,test,valid = df_H2O.split_frame(ratios=[.8, .1])"
   ]
  },
  {
   "cell_type": "code",
   "execution_count": null,
   "metadata": {
    "collapsed": true
   },
   "outputs": [],
   "source": [
    "X = train.col_names[1:]\n",
    "y = train.col_names[0]\n",
    "dl_model = H2ODeepLearningEstimator(hidden=[50,50,50], epochs=1000, standardize = True, activation = \"Tanh\")\n",
    "dl_model.train(X, y, train)"
   ]
  },
  {
   "cell_type": "code",
   "execution_count": null,
   "metadata": {
    "collapsed": true
   },
   "outputs": [],
   "source": [
    "dl_model"
   ]
  },
  {
   "cell_type": "code",
   "execution_count": null,
   "metadata": {
    "collapsed": true
   },
   "outputs": [],
   "source": [
    "x_test=test[1:]\n",
    "scores_test = dl_model.predict(x_test)\n",
    "scores_test.describe()"
   ]
  },
  {
   "cell_type": "code",
   "execution_count": null,
   "metadata": {
    "collapsed": true
   },
   "outputs": [],
   "source": [
    "test_H2O = h2o.H2OFrame(X_test)"
   ]
  },
  {
   "cell_type": "code",
   "execution_count": null,
   "metadata": {
    "collapsed": true
   },
   "outputs": [],
   "source": [
    "scores_test = dl_model.predict(test_H2O)\n",
    "scores_test.describe()"
   ]
  },
  {
   "cell_type": "code",
   "execution_count": null,
   "metadata": {
    "collapsed": true
   },
   "outputs": [],
   "source": [
    "scores=scores_test.as_data_frame(use_pandas=True)\n",
    "scores=scores.as_matrix(columns=scores.columns[0:])\n",
    "scores=scores[:,0]\n",
    "scores[ scores < 0] = 0\n",
    "submission = pd.DataFrame({'Id': credit_test_df.index.values +1, 'Probability': scores})\n",
    "submission.to_csv('dl.csv', index = False)\n",
    "h2o.cluster().shutdown()"
   ]
  },
  {
   "cell_type": "markdown",
   "metadata": {},
   "source": [
    "# Decission Tree"
   ]
  },
  {
   "cell_type": "code",
   "execution_count": 61,
   "metadata": {
    "collapsed": true
   },
   "outputs": [],
   "source": [
    "from sklearn import tree\n",
    "\n",
    "dtreec = tree.DecisionTreeClassifier()\n",
    "\n",
    "pipe = Pipeline([\n",
    "    ('imp',Imputer()),\n",
    "    ('std',StandardScaler()),\n",
    "    ('select_feat', SelectKBest(f_classif, k=10)),\n",
    "    ('dtreec', dtreec)\n",
    "])\n",
    "\n",
    "pipe.fit(X_train, Y_train)\n",
    "predicted_test = pipe.predict(credit_test_df)\n",
    "scores_test = pipe.predict_proba(credit_test_df)[:,1]\n",
    "\n",
    "submission = pd.DataFrame({'Id': credit_test_df.index.values +1, 'Probability': scores_test})\n",
    "submission.to_csv('filepertree.csv', index = False)"
   ]
  }
 ],
 "metadata": {
  "kernelspec": {
   "display_name": "Python 3",
   "language": "python",
   "name": "python3"
  },
  "language_info": {
   "codemirror_mode": {
    "name": "ipython",
    "version": 3
   },
   "file_extension": ".py",
   "mimetype": "text/x-python",
   "name": "python",
   "nbconvert_exporter": "python",
   "pygments_lexer": "ipython3",
   "version": "3.6.3"
  }
 },
 "nbformat": 4,
 "nbformat_minor": 2
}
