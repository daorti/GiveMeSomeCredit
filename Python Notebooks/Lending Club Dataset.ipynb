{
 "cells": [
  {
   "cell_type": "code",
   "execution_count": 1,
   "metadata": {
    "collapsed": true,
    "scrolled": false
   },
   "outputs": [],
   "source": [
    "%matplotlib inline\n",
    "import pandas as pd\n",
    "import numpy as np\n",
    "import matplotlib as mpl\n",
    "import matplotlib.pyplot as plt\n",
    "import seaborn as sns"
   ]
  },
  {
   "cell_type": "code",
   "execution_count": null,
   "metadata": {
    "collapsed": true
   },
   "outputs": [],
   "source": []
  },
  {
   "cell_type": "markdown",
   "metadata": {},
   "source": [
    "## Carga de los datos"
   ]
  },
  {
   "cell_type": "code",
   "execution_count": 24,
   "metadata": {
    "scrolled": true
   },
   "outputs": [
    {
     "name": "stderr",
     "output_type": "stream",
     "text": [
      "/home/usuario/miniconda3/lib/python3.6/site-packages/IPython/core/interactiveshell.py:2698: DtypeWarning: Columns (19,55) have mixed types. Specify dtype option on import or set low_memory=False.\n",
      "  interactivity=interactivity, compiler=compiler, result=result)\n"
     ]
    }
   ],
   "source": [
    "loan_data = pd.read_csv('loan.csv')"
   ]
  },
  {
   "cell_type": "markdown",
   "metadata": {},
   "source": [
    "## Análisis Exploratorio"
   ]
  },
  {
   "cell_type": "code",
   "execution_count": 25,
   "metadata": {
    "scrolled": true
   },
   "outputs": [
    {
     "data": {
      "text/plain": [
       "(887379, 74)"
      ]
     },
     "execution_count": 25,
     "metadata": {},
     "output_type": "execute_result"
    }
   ],
   "source": [
    "loan_data.shape"
   ]
  },
  {
   "cell_type": "code",
   "execution_count": 6,
   "metadata": {},
   "outputs": [
    {
     "data": {
      "text/plain": [
       "Index(['id', 'member_id', 'loan_amnt', 'funded_amnt', 'funded_amnt_inv',\n",
       "       'term', 'int_rate', 'installment', 'grade', 'sub_grade', 'emp_title',\n",
       "       'emp_length', 'home_ownership', 'annual_inc', 'verification_status',\n",
       "       'issue_d', 'loan_status', 'pymnt_plan', 'url', 'desc', 'purpose',\n",
       "       'title', 'zip_code', 'addr_state', 'dti', 'delinq_2yrs',\n",
       "       'earliest_cr_line', 'inq_last_6mths', 'mths_since_last_delinq',\n",
       "       'mths_since_last_record', 'open_acc', 'pub_rec', 'revol_bal',\n",
       "       'revol_util', 'total_acc', 'initial_list_status', 'out_prncp',\n",
       "       'out_prncp_inv', 'total_pymnt', 'total_pymnt_inv', 'total_rec_prncp',\n",
       "       'total_rec_int', 'total_rec_late_fee', 'recoveries',\n",
       "       'collection_recovery_fee', 'last_pymnt_d', 'last_pymnt_amnt',\n",
       "       'next_pymnt_d', 'last_credit_pull_d', 'collections_12_mths_ex_med',\n",
       "       'mths_since_last_major_derog', 'policy_code', 'application_type',\n",
       "       'annual_inc_joint', 'dti_joint', 'verification_status_joint',\n",
       "       'acc_now_delinq', 'tot_coll_amt', 'tot_cur_bal', 'open_acc_6m',\n",
       "       'open_il_6m', 'open_il_12m', 'open_il_24m', 'mths_since_rcnt_il',\n",
       "       'total_bal_il', 'il_util', 'open_rv_12m', 'open_rv_24m', 'max_bal_bc',\n",
       "       'all_util', 'total_rev_hi_lim', 'inq_fi', 'total_cu_tl',\n",
       "       'inq_last_12m'],\n",
       "      dtype='object')"
      ]
     },
     "execution_count": 6,
     "metadata": {},
     "output_type": "execute_result"
    }
   ],
   "source": [
    "loan_data.columns"
   ]
  },
  {
   "cell_type": "markdown",
   "metadata": {},
   "source": [
    "Por defecto, `IPython` limita el número de filas y columnas que muestra en pantalla, pero esta configuración se puede modificar temporalmente.\n",
    "\n",
    "*para contraer la consola: cell>current output>toggle"
   ]
  },
  {
   "cell_type": "code",
   "execution_count": 26,
   "metadata": {
    "collapsed": true
   },
   "outputs": [
    {
     "data": {
      "text/plain": [
       "id                                                                       1077501\n",
       "member_id                                                                1296599\n",
       "loan_amnt                                                                   5000\n",
       "funded_amnt                                                                 5000\n",
       "funded_amnt_inv                                                             4975\n",
       "term                                                                   36 months\n",
       "int_rate                                                                   10.65\n",
       "installment                                                               162.87\n",
       "grade                                                                          B\n",
       "sub_grade                                                                     B2\n",
       "emp_title                                                                    NaN\n",
       "emp_length                                                             10+ years\n",
       "home_ownership                                                              RENT\n",
       "annual_inc                                                                 24000\n",
       "verification_status                                                     Verified\n",
       "issue_d                                                                 Dec-2011\n",
       "loan_status                                                           Fully Paid\n",
       "pymnt_plan                                                                     n\n",
       "url                            https://www.lendingclub.com/browse/loanDetail....\n",
       "desc                             Borrower added on 12/22/11 > I need to upgra...\n",
       "purpose                                                              credit_card\n",
       "title                                                                   Computer\n",
       "zip_code                                                                   860xx\n",
       "addr_state                                                                    AZ\n",
       "dti                                                                        27.65\n",
       "delinq_2yrs                                                                    0\n",
       "earliest_cr_line                                                        Jan-1985\n",
       "inq_last_6mths                                                                 1\n",
       "mths_since_last_delinq                                                       NaN\n",
       "mths_since_last_record                                                       NaN\n",
       "open_acc                                                                       3\n",
       "pub_rec                                                                        0\n",
       "revol_bal                                                                  13648\n",
       "revol_util                                                                  83.7\n",
       "total_acc                                                                      9\n",
       "initial_list_status                                                            f\n",
       "out_prncp                                                                      0\n",
       "out_prncp_inv                                                                  0\n",
       "total_pymnt                                                              5861.07\n",
       "total_pymnt_inv                                                          5831.78\n",
       "total_rec_prncp                                                             5000\n",
       "total_rec_int                                                             861.07\n",
       "total_rec_late_fee                                                             0\n",
       "recoveries                                                                     0\n",
       "collection_recovery_fee                                                        0\n",
       "last_pymnt_d                                                            Jan-2015\n",
       "last_pymnt_amnt                                                           171.62\n",
       "next_pymnt_d                                                                 NaN\n",
       "last_credit_pull_d                                                      Jan-2016\n",
       "collections_12_mths_ex_med                                                     0\n",
       "mths_since_last_major_derog                                                  NaN\n",
       "policy_code                                                                    1\n",
       "application_type                                                      INDIVIDUAL\n",
       "annual_inc_joint                                                             NaN\n",
       "dti_joint                                                                    NaN\n",
       "verification_status_joint                                                    NaN\n",
       "acc_now_delinq                                                                 0\n",
       "tot_coll_amt                                                                 NaN\n",
       "tot_cur_bal                                                                  NaN\n",
       "open_acc_6m                                                                  NaN\n",
       "open_il_6m                                                                   NaN\n",
       "open_il_12m                                                                  NaN\n",
       "open_il_24m                                                                  NaN\n",
       "mths_since_rcnt_il                                                           NaN\n",
       "total_bal_il                                                                 NaN\n",
       "il_util                                                                      NaN\n",
       "open_rv_12m                                                                  NaN\n",
       "open_rv_24m                                                                  NaN\n",
       "max_bal_bc                                                                   NaN\n",
       "all_util                                                                     NaN\n",
       "total_rev_hi_lim                                                             NaN\n",
       "inq_fi                                                                       NaN\n",
       "total_cu_tl                                                                  NaN\n",
       "inq_last_12m                                                                 NaN\n",
       "Name: 0, dtype: object"
      ]
     },
     "metadata": {},
     "output_type": "display_data"
    }
   ],
   "source": [
    "from IPython.display import display\n",
    "with pd.option_context('display.max_rows', None, 'display.max_columns', None):\n",
    "    display(loan_data.iloc[0])"
   ]
  },
  {
   "cell_type": "markdown",
   "metadata": {},
   "source": [
    "Las columnas que no tienen un tipo numérico, deberán ser preprocesadas o eliminadas antes de pasárselas a un clasificador de `scikit-learn`."
   ]
  },
  {
   "cell_type": "code",
   "execution_count": 8,
   "metadata": {
    "collapsed": true
   },
   "outputs": [
    {
     "data": {
      "text/plain": [
       "id                               int64\n",
       "member_id                        int64\n",
       "loan_amnt                      float64\n",
       "funded_amnt                    float64\n",
       "funded_amnt_inv                float64\n",
       "term                            object\n",
       "int_rate                       float64\n",
       "installment                    float64\n",
       "grade                           object\n",
       "sub_grade                       object\n",
       "emp_title                       object\n",
       "emp_length                      object\n",
       "home_ownership                  object\n",
       "annual_inc                     float64\n",
       "verification_status             object\n",
       "issue_d                         object\n",
       "loan_status                     object\n",
       "pymnt_plan                      object\n",
       "url                             object\n",
       "desc                            object\n",
       "purpose                         object\n",
       "title                           object\n",
       "zip_code                        object\n",
       "addr_state                      object\n",
       "dti                            float64\n",
       "delinq_2yrs                    float64\n",
       "earliest_cr_line                object\n",
       "inq_last_6mths                 float64\n",
       "mths_since_last_delinq         float64\n",
       "mths_since_last_record         float64\n",
       "open_acc                       float64\n",
       "pub_rec                        float64\n",
       "revol_bal                      float64\n",
       "revol_util                     float64\n",
       "total_acc                      float64\n",
       "initial_list_status             object\n",
       "out_prncp                      float64\n",
       "out_prncp_inv                  float64\n",
       "total_pymnt                    float64\n",
       "total_pymnt_inv                float64\n",
       "total_rec_prncp                float64\n",
       "total_rec_int                  float64\n",
       "total_rec_late_fee             float64\n",
       "recoveries                     float64\n",
       "collection_recovery_fee        float64\n",
       "last_pymnt_d                    object\n",
       "last_pymnt_amnt                float64\n",
       "next_pymnt_d                    object\n",
       "last_credit_pull_d              object\n",
       "collections_12_mths_ex_med     float64\n",
       "mths_since_last_major_derog    float64\n",
       "policy_code                    float64\n",
       "application_type                object\n",
       "annual_inc_joint               float64\n",
       "dti_joint                      float64\n",
       "verification_status_joint       object\n",
       "acc_now_delinq                 float64\n",
       "tot_coll_amt                   float64\n",
       "tot_cur_bal                    float64\n",
       "open_acc_6m                    float64\n",
       "open_il_6m                     float64\n",
       "open_il_12m                    float64\n",
       "open_il_24m                    float64\n",
       "mths_since_rcnt_il             float64\n",
       "total_bal_il                   float64\n",
       "il_util                        float64\n",
       "open_rv_12m                    float64\n",
       "open_rv_24m                    float64\n",
       "max_bal_bc                     float64\n",
       "all_util                       float64\n",
       "total_rev_hi_lim               float64\n",
       "inq_fi                         float64\n",
       "total_cu_tl                    float64\n",
       "inq_last_12m                   float64\n",
       "dtype: object"
      ]
     },
     "metadata": {},
     "output_type": "display_data"
    }
   ],
   "source": [
    "with pd.option_context('display.max_rows', None, 'display.max_columns', None):\n",
    "    display(loan_data.dtypes)"
   ]
  },
  {
   "cell_type": "markdown",
   "metadata": {},
   "source": [
    "Vemos que hay algunas columnas para las que la mayoría de valores son NA."
   ]
  },
  {
   "cell_type": "code",
   "execution_count": 9,
   "metadata": {
    "collapsed": true
   },
   "outputs": [
    {
     "data": {
      "text/plain": [
       "dti_joint                      0.999426\n",
       "verification_status_joint      0.999424\n",
       "annual_inc_joint               0.999424\n",
       "il_util                        0.979020\n",
       "mths_since_rcnt_il             0.976549\n",
       "all_util                       0.975916\n",
       "max_bal_bc                     0.975916\n",
       "open_rv_24m                    0.975916\n",
       "open_rv_12m                    0.975916\n",
       "total_cu_tl                    0.975916\n",
       "total_bal_il                   0.975916\n",
       "open_il_24m                    0.975916\n",
       "open_il_12m                    0.975916\n",
       "open_il_6m                     0.975916\n",
       "open_acc_6m                    0.975916\n",
       "inq_fi                         0.975916\n",
       "inq_last_12m                   0.975916\n",
       "desc                           0.857977\n",
       "mths_since_last_record         0.845553\n",
       "mths_since_last_major_derog    0.750160\n",
       "mths_since_last_delinq         0.511971\n",
       "next_pymnt_d                   0.285077\n",
       "total_rev_hi_lim               0.079195\n",
       "tot_cur_bal                    0.079195\n",
       "tot_coll_amt                   0.079195\n",
       "emp_title                      0.057993\n",
       "emp_length                     0.050514\n",
       "last_pymnt_d                   0.019900\n",
       "revol_util                     0.000566\n",
       "title                          0.000171\n",
       "                                 ...   \n",
       "int_rate                       0.000000\n",
       "term                           0.000000\n",
       "funded_amnt_inv                0.000000\n",
       "url                            0.000000\n",
       "loan_amnt                      0.000000\n",
       "verification_status            0.000000\n",
       "issue_d                        0.000000\n",
       "loan_status                    0.000000\n",
       "member_id                      0.000000\n",
       "pymnt_plan                     0.000000\n",
       "funded_amnt                    0.000000\n",
       "out_prncp                      0.000000\n",
       "purpose                        0.000000\n",
       "zip_code                       0.000000\n",
       "application_type               0.000000\n",
       "policy_code                    0.000000\n",
       "last_pymnt_amnt                0.000000\n",
       "collection_recovery_fee        0.000000\n",
       "recoveries                     0.000000\n",
       "total_rec_late_fee             0.000000\n",
       "total_rec_int                  0.000000\n",
       "total_rec_prncp                0.000000\n",
       "total_pymnt_inv                0.000000\n",
       "total_pymnt                    0.000000\n",
       "out_prncp_inv                  0.000000\n",
       "initial_list_status            0.000000\n",
       "revol_bal                      0.000000\n",
       "dti                            0.000000\n",
       "addr_state                     0.000000\n",
       "id                             0.000000\n",
       "Length: 74, dtype: float64"
      ]
     },
     "execution_count": 9,
     "metadata": {},
     "output_type": "execute_result"
    }
   ],
   "source": [
    "loan_data.isnull().mean().sort_values(ascending=False)"
   ]
  },
  {
   "cell_type": "markdown",
   "metadata": {},
   "source": [
    "`Seaborn` es una biblioteca de visualización basada en `Matplotlib` y que añade nuevas funcionalidades a esta.\n",
    "<a href='https://seaborn.pydata.org/generated/seaborn.FacetGrid.html'>FacetGrid</a> es una clase de `Seaborn` para visualizar un `Dataframe` representando la misma variable en función de múltiples facetas/dimensiones.\n",
    "\n",
    "En este caso representamos el número de créditos de cada cuantía en función de la calificación del prestatario."
   ]
  },
  {
   "cell_type": "code",
   "execution_count": 27,
   "metadata": {},
   "outputs": [
    {
     "data": {
      "text/plain": [
       "<seaborn.axisgrid.FacetGrid at 0x7f6c6308f9b0>"
      ]
     },
     "execution_count": 27,
     "metadata": {},
     "output_type": "execute_result"
    },
    {
     "data": {
      "image/png": "[encoded data removed]",
      "text/plain": [
       "<matplotlib.figure.Figure at 0x7f6c6308fb70>"
      ]
     },
     "metadata": {},
     "output_type": "display_data"
    }
   ],
   "source": [
    "sns.set(style=\"darkgrid\")\n",
    "g = sns.FacetGrid(loan_data, row=\"grade\", margin_titles=True, size=2, aspect=4, row_order=np.unique(loan_data.grade))\n",
    "g.map(plt.hist, \"loan_amnt\", color=\"steelblue\", bins=50, lw=0)"
   ]
  },
  {
   "cell_type": "markdown",
   "metadata": {},
   "source": [
    "Y a continuación la frecuencia de distintos tipos de interés en función de la calificación."
   ]
  },
  {
   "cell_type": "code",
   "execution_count": 18,
   "metadata": {},
   "outputs": [
    {
     "data": {
      "text/plain": [
       "<seaborn.axisgrid.FacetGrid at 0x7f6c76ef1ef0>"
      ]
     },
     "execution_count": 18,
     "metadata": {},
     "output_type": "execute_result"
    },
    {
     "data": {
      "image/png": "[encoded data removed]",
      "text/plain": [
       "<matplotlib.figure.Figure at 0x7f6c64cd76a0>"
      ]
     },
     "metadata": {},
     "output_type": "display_data"
    }
   ],
   "source": [
    "sns.set(style=\"darkgrid\")\n",
    "g = sns.FacetGrid(loan_data, hue=\"grade\", margin_titles=True, size=2, aspect=4, row_order=np.unique(loan_data.grade))\n",
    "g.map(plt.hist, \"int_rate\", bins=50, lw=0)"
   ]
  },
  {
   "cell_type": "markdown",
   "metadata": {},
   "source": [
    "La conclusión podría ser que los clientes con una calificación mejor obtienen más créditos (con una distribución de cantidades prestadas similar) y a un tipo más bajo."
   ]
  },
  {
   "cell_type": "markdown",
   "metadata": {},
   "source": [
    "### Ejercicio\n",
    "Añadir alguna dimensión adicional en forma de filas y color en uno de los gráficos anteriores."
   ]
  },
  {
   "cell_type": "code",
   "execution_count": 31,
   "metadata": {},
   "outputs": [
    {
     "ename": "IndexError",
     "evalue": "list assignment index out of range",
     "output_type": "error",
     "traceback": [
      "\u001b[0;31m---------------------------------------------------------------------------\u001b[0m",
      "\u001b[0;31mIndexError\u001b[0m                                Traceback (most recent call last)",
      "\u001b[0;32m<ipython-input-31-2cad7be27d5b>\u001b[0m in \u001b[0;36m<module>\u001b[0;34m()\u001b[0m\n\u001b[1;32m      1\u001b[0m \u001b[0mld2\u001b[0m\u001b[0;34m=\u001b[0m\u001b[0mloan_data\u001b[0m\u001b[0;34m\u001b[0m\u001b[0m\n\u001b[0;32m----> 2\u001b[0;31m \u001b[0mld2\u001b[0m\u001b[0;34m[\u001b[0m\u001b[0;34m'amount_interval'\u001b[0m\u001b[0;34m]\u001b[0m\u001b[0;34m=\u001b[0m\u001b[0mpd\u001b[0m\u001b[0;34m.\u001b[0m\u001b[0mcut\u001b[0m\u001b[0;34m(\u001b[0m\u001b[0mld2\u001b[0m\u001b[0;34m,\u001b[0m\u001b[0;34m'loan_amnt'\u001b[0m\u001b[0;34m,\u001b[0m\u001b[0;36m3\u001b[0m\u001b[0;34m,\u001b[0m\u001b[0mlabels\u001b[0m\u001b[0;34m=\u001b[0m\u001b[0;34m[\u001b[0m\u001b[0;34m'Small'\u001b[0m\u001b[0;34m,\u001b[0m\u001b[0;34m'Medium'\u001b[0m\u001b[0;34m,\u001b[0m\u001b[0;34m'Large'\u001b[0m\u001b[0;34m]\u001b[0m\u001b[0;34m)\u001b[0m\u001b[0;34m\u001b[0m\u001b[0m\n\u001b[0m\u001b[1;32m      3\u001b[0m \u001b[0msns\u001b[0m\u001b[0;34m.\u001b[0m\u001b[0mset\u001b[0m\u001b[0;34m(\u001b[0m\u001b[0mstyle\u001b[0m\u001b[0;34m=\u001b[0m\u001b[0;34m\"darkgrid\"\u001b[0m\u001b[0;34m)\u001b[0m\u001b[0;34m\u001b[0m\u001b[0m\n\u001b[1;32m      4\u001b[0m \u001b[0mg\u001b[0m \u001b[0;34m=\u001b[0m \u001b[0msns\u001b[0m\u001b[0;34m.\u001b[0m\u001b[0mFacetGrid\u001b[0m\u001b[0;34m(\u001b[0m\u001b[0mloan_data\u001b[0m\u001b[0;34m,\u001b[0m \u001b[0mrow\u001b[0m\u001b[0;34m=\u001b[0m\u001b[0;34m\"grade\"\u001b[0m\u001b[0;34m,\u001b[0m\u001b[0mcol\u001b[0m\u001b[0;34m=\u001b[0m\u001b[0;34m\"amount_interval\"\u001b[0m\u001b[0;34m,\u001b[0m \u001b[0mmargin_titles\u001b[0m\u001b[0;34m=\u001b[0m\u001b[0;32mTrue\u001b[0m\u001b[0;34m,\u001b[0m \u001b[0msize\u001b[0m\u001b[0;34m=\u001b[0m\u001b[0;36m2\u001b[0m\u001b[0;34m,\u001b[0m \u001b[0maspect\u001b[0m\u001b[0;34m=\u001b[0m\u001b[0;36m4\u001b[0m\u001b[0;34m,\u001b[0m \u001b[0mrow_order\u001b[0m\u001b[0;34m=\u001b[0m\u001b[0mnp\u001b[0m\u001b[0;34m.\u001b[0m\u001b[0munique\u001b[0m\u001b[0;34m(\u001b[0m\u001b[0mloan_data\u001b[0m\u001b[0;34m.\u001b[0m\u001b[0mgrade\u001b[0m\u001b[0;34m)\u001b[0m\u001b[0;34m)\u001b[0m\u001b[0;34m\u001b[0m\u001b[0m\n\u001b[1;32m      5\u001b[0m \u001b[0mg\u001b[0m\u001b[0;34m.\u001b[0m\u001b[0mmap\u001b[0m\u001b[0;34m(\u001b[0m\u001b[0mplt\u001b[0m\u001b[0;34m.\u001b[0m\u001b[0mhist\u001b[0m\u001b[0;34m,\u001b[0m \u001b[0;34m\"int_rate\"\u001b[0m\u001b[0;34m,\u001b[0m \u001b[0mbins\u001b[0m\u001b[0;34m=\u001b[0m\u001b[0;36m50\u001b[0m\u001b[0;34m,\u001b[0m \u001b[0mlw\u001b[0m\u001b[0;34m=\u001b[0m\u001b[0;36m0\u001b[0m\u001b[0;34m)\u001b[0m\u001b[0;34m\u001b[0m\u001b[0m\n",
      "\u001b[0;32m~/miniconda3/lib/python3.6/site-packages/pandas/core/reshape/tile.py\u001b[0m in \u001b[0;36mcut\u001b[0;34m(x, bins, right, labels, retbins, precision, include_lowest)\u001b[0m\n\u001b[1;32m    128\u001b[0m         \u001b[0mbins\u001b[0m \u001b[0;34m=\u001b[0m \u001b[0mnp\u001b[0m\u001b[0;34m.\u001b[0m\u001b[0masarray\u001b[0m\u001b[0;34m(\u001b[0m\u001b[0mbins\u001b[0m\u001b[0;34m)\u001b[0m\u001b[0;34m\u001b[0m\u001b[0m\n\u001b[1;32m    129\u001b[0m         \u001b[0mbins\u001b[0m \u001b[0;34m=\u001b[0m \u001b[0m_convert_bin_to_numeric_type\u001b[0m\u001b[0;34m(\u001b[0m\u001b[0mbins\u001b[0m\u001b[0;34m,\u001b[0m \u001b[0mdtype\u001b[0m\u001b[0;34m)\u001b[0m\u001b[0;34m\u001b[0m\u001b[0m\n\u001b[0;32m--> 130\u001b[0;31m         \u001b[0;32mif\u001b[0m \u001b[0;34m(\u001b[0m\u001b[0mnp\u001b[0m\u001b[0;34m.\u001b[0m\u001b[0mdiff\u001b[0m\u001b[0;34m(\u001b[0m\u001b[0mbins\u001b[0m\u001b[0;34m)\u001b[0m \u001b[0;34m<\u001b[0m \u001b[0;36m0\u001b[0m\u001b[0;34m)\u001b[0m\u001b[0;34m.\u001b[0m\u001b[0many\u001b[0m\u001b[0;34m(\u001b[0m\u001b[0;34m)\u001b[0m\u001b[0;34m:\u001b[0m\u001b[0;34m\u001b[0m\u001b[0m\n\u001b[0m\u001b[1;32m    131\u001b[0m             \u001b[0;32mraise\u001b[0m \u001b[0mValueError\u001b[0m\u001b[0;34m(\u001b[0m\u001b[0;34m'bins must increase monotonically.'\u001b[0m\u001b[0;34m)\u001b[0m\u001b[0;34m\u001b[0m\u001b[0m\n\u001b[1;32m    132\u001b[0m \u001b[0;34m\u001b[0m\u001b[0m\n",
      "\u001b[0;32m~/miniconda3/lib/python3.6/site-packages/numpy/lib/function_base.py\u001b[0m in \u001b[0;36mdiff\u001b[0;34m(a, n, axis)\u001b[0m\n\u001b[1;32m   1922\u001b[0m     \u001b[0mslice1\u001b[0m \u001b[0;34m=\u001b[0m \u001b[0;34m[\u001b[0m\u001b[0mslice\u001b[0m\u001b[0;34m(\u001b[0m\u001b[0;32mNone\u001b[0m\u001b[0;34m)\u001b[0m\u001b[0;34m]\u001b[0m\u001b[0;34m*\u001b[0m\u001b[0mnd\u001b[0m\u001b[0;34m\u001b[0m\u001b[0m\n\u001b[1;32m   1923\u001b[0m     \u001b[0mslice2\u001b[0m \u001b[0;34m=\u001b[0m \u001b[0;34m[\u001b[0m\u001b[0mslice\u001b[0m\u001b[0;34m(\u001b[0m\u001b[0;32mNone\u001b[0m\u001b[0;34m)\u001b[0m\u001b[0;34m]\u001b[0m\u001b[0;34m*\u001b[0m\u001b[0mnd\u001b[0m\u001b[0;34m\u001b[0m\u001b[0m\n\u001b[0;32m-> 1924\u001b[0;31m     \u001b[0mslice1\u001b[0m\u001b[0;34m[\u001b[0m\u001b[0maxis\u001b[0m\u001b[0;34m]\u001b[0m \u001b[0;34m=\u001b[0m \u001b[0mslice\u001b[0m\u001b[0;34m(\u001b[0m\u001b[0;36m1\u001b[0m\u001b[0;34m,\u001b[0m \u001b[0;32mNone\u001b[0m\u001b[0;34m)\u001b[0m\u001b[0;34m\u001b[0m\u001b[0m\n\u001b[0m\u001b[1;32m   1925\u001b[0m     \u001b[0mslice2\u001b[0m\u001b[0;34m[\u001b[0m\u001b[0maxis\u001b[0m\u001b[0;34m]\u001b[0m \u001b[0;34m=\u001b[0m \u001b[0mslice\u001b[0m\u001b[0;34m(\u001b[0m\u001b[0;32mNone\u001b[0m\u001b[0;34m,\u001b[0m \u001b[0;34m-\u001b[0m\u001b[0;36m1\u001b[0m\u001b[0;34m)\u001b[0m\u001b[0;34m\u001b[0m\u001b[0m\n\u001b[1;32m   1926\u001b[0m     \u001b[0mslice1\u001b[0m \u001b[0;34m=\u001b[0m \u001b[0mtuple\u001b[0m\u001b[0;34m(\u001b[0m\u001b[0mslice1\u001b[0m\u001b[0;34m)\u001b[0m\u001b[0;34m\u001b[0m\u001b[0m\n",
      "\u001b[0;31mIndexError\u001b[0m: list assignment index out of range"
     ]
    }
   ],
   "source": [
    "ld2=loan_data\n",
    "ld2['amount_interval']=pd.cut(ld2,'loan_amnt',3,labels=['Small','Medium','Large'])\n",
    "sns.set(style=\"darkgrid\")\n",
    "g = sns.FacetGrid(loan_data, row=\"grade\",col=\"amount_interval\", margin_titles=True, size=2, aspect=4, row_order=np.unique(loan_data.grade))\n",
    "g.map(plt.hist, \"int_rate\", bins=50, lw=0)"
   ]
  },
  {
   "cell_type": "markdown",
   "metadata": {},
   "source": [
    "A continuación representamos el volumen total de créditos en función del tiempo:"
   ]
  },
  {
   "cell_type": "code",
   "execution_count": 29,
   "metadata": {},
   "outputs": [
    {
     "data": {
      "text/plain": [
       "<matplotlib.axes._subplots.AxesSubplot at 0x7f6c52d01da0>"
      ]
     },
     "execution_count": 29,
     "metadata": {},
     "output_type": "execute_result"
    },
    {
     "data": {
      "image/png": "[encoded data removed]",
      "text/plain": [
       "<matplotlib.figure.Figure at 0x7f6c52d5a1d0>"
      ]
     },
     "metadata": {},
     "output_type": "display_data"
    }
   ],
   "source": [
    "loan_data.loan_amnt.groupby(pd.to_datetime(loan_data.issue_d)).sum().sort_index().plot()"
   ]
  },
  {
   "cell_type": "markdown",
   "metadata": {},
   "source": [
    "### Ejercicio:\n",
    "Representa en un diagrama de baja y bigotes la distribución de cantidades correspondientes a los prestamos"
   ]
  },
  {
   "cell_type": "code",
   "execution_count": 30,
   "metadata": {},
   "outputs": [
    {
     "data": {
      "text/plain": [
       "<matplotlib.axes._subplots.AxesSubplot at 0x7f6c62d89e80>"
      ]
     },
     "execution_count": 30,
     "metadata": {},
     "output_type": "execute_result"
    },
    {
     "data": {
      "image/png": "[encoded data removed]",
      "text/plain": [
       "<matplotlib.figure.Figure at 0x7f6c62efd278>"
      ]
     },
     "metadata": {},
     "output_type": "display_data"
    }
   ],
   "source": [
    "loan_data.loan_amnt.plot(kind='box')"
   ]
  },
  {
   "cell_type": "markdown",
   "metadata": {},
   "source": [
    "# Definición del problema de negocio"
   ]
  },
  {
   "cell_type": "markdown",
   "metadata": {},
   "source": [
    "Si tomamos los datos de Lending Club y se los  pasamos a un clasificador como Random Forests o a una red neuronal, obtendremos unos resultados muy buenos sobre el conjunto de test, pero tenemos que plantearnos cuál sería el sentido del problema que estamos resolviendo en un escenario de negocio real.\n",
    "Los dos escenarios más claros que pueden planterse como clasificación son:\n",
    "* Escenario 1: Un inversor tiene acceso a los datos y quiere predecir el riesgo de impago antes de prestar su dinero. En este caso toda la información que se genera a partir del momento en que se concede el crédito no estaría todavía disponible.\n",
    "* Escenario 2: Se desea predecir el riesgo de impago en créditos ya concedidos y que actualmente están al día, para tratar de tomar medidas que lo eviten o de minimizar daños.\n",
    "\n",
    "Nos decantamos por el Escenario 1, por su simplicidad."
   ]
  },
  {
   "cell_type": "markdown",
   "metadata": {},
   "source": [
    "## Definimos la variable target"
   ]
  },
  {
   "cell_type": "code",
   "execution_count": 32,
   "metadata": {
    "collapsed": true
   },
   "outputs": [],
   "source": [
    "loan_data.loan_status = loan_data.loan_status.isin(\n",
    "            [\"Charged Off\",\n",
    "            \"Default\",\n",
    "            \"Does not meet the credit policy. Status:Charged Off\",\n",
    "            \"In Grace Period\", \n",
    "            \"Default Receiver\", \n",
    "            \"Late (16-30 days)\",\n",
    "            \"Late (31-120 days)\"]).astype(int)"
   ]
  },
  {
   "cell_type": "markdown",
   "metadata": {},
   "source": [
    "## Análisis incluyendo la nueva variable"
   ]
  },
  {
   "cell_type": "code",
   "execution_count": 33,
   "metadata": {},
   "outputs": [
    {
     "data": {
      "text/plain": [
       "0    819950\n",
       "1     67429\n",
       "Name: loan_status, dtype: int64"
      ]
     },
     "execution_count": 33,
     "metadata": {},
     "output_type": "execute_result"
    }
   ],
   "source": [
    "loan_data.loan_status.value_counts()"
   ]
  },
  {
   "cell_type": "code",
   "execution_count": null,
   "metadata": {
    "collapsed": true
   },
   "outputs": [],
   "source": [
    "loan_data.corr()['loan_status'].sort_values(ascending=False)"
   ]
  },
  {
   "cell_type": "markdown",
   "metadata": {},
   "source": [
    "Representamos el porcentaje de créditos problemáticos en función de la calificación"
   ]
  },
  {
   "cell_type": "code",
   "execution_count": 34,
   "metadata": {},
   "outputs": [
    {
     "data": {
      "text/plain": [
       "<matplotlib.axes._subplots.AxesSubplot at 0x7f6c61102780>"
      ]
     },
     "execution_count": 34,
     "metadata": {},
     "output_type": "execute_result"
    },
    {
     "data": {
      "image/png": "[encoded data removed]",
      "text/plain": [
       "<matplotlib.figure.Figure at 0x7f6c61106908>"
      ]
     },
     "metadata": {},
     "output_type": "display_data"
    }
   ],
   "source": [
    "loan_data.groupby('grade').loan_status.mean().plot(kind='bar')"
   ]
  },
  {
   "cell_type": "markdown",
   "metadata": {},
   "source": [
    "# Preparación de datos para la tarea de clasificación"
   ]
  },
  {
   "cell_type": "code",
   "execution_count": 35,
   "metadata": {
    "collapsed": true
   },
   "outputs": [],
   "source": [
    "Y = loan_data.loan_status"
   ]
  },
  {
   "cell_type": "code",
   "execution_count": 36,
   "metadata": {
    "collapsed": true
   },
   "outputs": [],
   "source": [
    "# Quitamos la variable target\n",
    "X = loan_data.drop(['loan_status'], axis=1)\n",
    "\n",
    "\n",
    "#Columnas con informacion de seguimiento de creditos ya concedidos \n",
    "X = X.drop(['recoveries', 'collection_recovery_fee', 'out_prncp','out_prncp_inv',\n",
    "            'total_pymnt','total_pymnt_inv','total_rec_prncp','total_rec_int',\n",
    "            'last_pymnt_d','last_pymnt_amnt','next_pymnt_d','total_rec_late_fee',\n",
    "            'funded_amnt','funded_amnt_inv'], axis=1)\n",
    "\n",
    "#Columnas que no aportan informacion\n",
    "X = X.drop(['id', 'member_id', 'emp_title', 'url', 'title'], axis=1)\n",
    "X = X.drop(['grade'], axis=1)           # grade es redundante con sub_grade\n",
    "X = X.drop(['pymnt_plan'], axis=1)    # tiene solo 10 filas con valor 'y' y 887372 con valor 'n'\n",
    "X = X.drop(['zip_code'], axis=1)\n",
    "# zip_code es redundante con addr_state \n",
    "# y nos llevaría a añadir demasiadas dimensiones al procesarla con OneHotEncoder"
   ]
  },
  {
   "cell_type": "markdown",
   "metadata": {},
   "source": [
    "### Ejercicio\n",
    "Quitar todas las columnas con más de un 60% de NAs (y trabajar con el nuevo DataFrame a partir de ahora)"
   ]
  },
  {
   "cell_type": "code",
   "execution_count": 37,
   "metadata": {
    "collapsed": true
   },
   "outputs": [],
   "source": [
    "X = X.loc[:,X.isnull().sum()/X.isnull().count()< 0.6] #te quedas con todas las filas y se utiliza un filtro para las columnas"
   ]
  },
  {
   "cell_type": "code",
   "execution_count": 38,
   "metadata": {},
   "outputs": [
    {
     "data": {
      "text/plain": [
       "Index(['loan_amnt', 'term', 'int_rate', 'installment', 'sub_grade',\n",
       "       'emp_length', 'home_ownership', 'annual_inc', 'verification_status',\n",
       "       'issue_d', 'purpose', 'addr_state', 'dti', 'delinq_2yrs',\n",
       "       'earliest_cr_line', 'inq_last_6mths', 'mths_since_last_delinq',\n",
       "       'open_acc', 'pub_rec', 'revol_bal', 'revol_util', 'total_acc',\n",
       "       'initial_list_status', 'last_credit_pull_d',\n",
       "       'collections_12_mths_ex_med', 'policy_code', 'application_type',\n",
       "       'acc_now_delinq', 'tot_coll_amt', 'tot_cur_bal', 'total_rev_hi_lim'],\n",
       "      dtype='object')"
      ]
     },
     "execution_count": 38,
     "metadata": {},
     "output_type": "execute_result"
    }
   ],
   "source": [
    "X.columns"
   ]
  },
  {
   "cell_type": "markdown",
   "metadata": {},
   "source": [
    "Las columnas con información temporal, están guardadas como strings. Las convertimos primero a fecha (esto sería suficiente y lo más correcto desde el punto de vista de Pandas) y luego a valores enteros (porque si no scikit-learn nos dará problemas)."
   ]
  },
  {
   "cell_type": "code",
   "execution_count": 39,
   "metadata": {
    "collapsed": true
   },
   "outputs": [],
   "source": [
    "X.issue_d = pd.to_datetime(X.issue_d).values.astype('int')\n",
    "X.earliest_cr_line = pd.to_datetime(X.earliest_cr_line).values.astype('int')\n",
    "X.last_credit_pull_d = pd.to_datetime(X.last_credit_pull_d).values.astype('int')"
   ]
  },
  {
   "cell_type": "markdown",
   "metadata": {},
   "source": [
    "Codificamos las variables categóricas como enteros"
   ]
  },
  {
   "cell_type": "code",
   "execution_count": 40,
   "metadata": {
    "collapsed": true
   },
   "outputs": [],
   "source": [
    "from sklearn.preprocessing import LabelEncoder\n",
    "\n",
    "#Ordinal: orden de valores coincide con el orden alfanumerico; no hay NAs - sustituye valores por enteros(labelencoder)\n",
    "sub_grade = LabelEncoder()\n",
    "sub_grade.fit(np.unique(X.sub_grade))\n",
    "X.sub_grade = sub_grade.transform(X.sub_grade)\n",
    "\n",
    "#Ordinal: orden de valores no coincide con el orden alfanumerico; hay NAs - sustitución a mano\n",
    "emp_length_mapping = {\n",
    "\"< 1 year\": 0.0,\n",
    "\"1 year\": 1.0,\n",
    "\"2 years\": 2.0,\n",
    "\"3 years\": 3.0,\n",
    "\"4 years\": 4.0,\n",
    "\"5 years\": 5.0,\n",
    "\"6 years\": 6.0,\n",
    "\"7 years\": 7.0,\n",
    "\"8 years\": 8.0,\n",
    "\"9 year\": 9.0,\n",
    "\"10+ years\": 10.0,\n",
    "\"n/a\": np.nan\n",
    "}\n",
    "X.emp_length = X.emp_length.map(emp_length_mapping)\n",
    "\n",
    "#Categorica, no hay NAs\n",
    "home_ownership = LabelEncoder()\n",
    "home_ownership.fit(np.unique(X.home_ownership))\n",
    "X.home_ownership = home_ownership.transform(X.home_ownership)\n",
    "\n",
    "#Categorica, no hay NAs\n",
    "verification_status = LabelEncoder()\n",
    "verification_status.fit(np.unique(X.verification_status))\n",
    "X.verification_status = verification_status.transform(X.verification_status)\n",
    "\n",
    "#Categorica, no hay NAs\n",
    "purpose = LabelEncoder()\n",
    "purpose.fit(np.unique(X.purpose))\n",
    "X.purpose = purpose.transform(X.purpose)\n",
    "\n",
    "#Categorica, no hay NAs\n",
    "addr_state = LabelEncoder()\n",
    "addr_state.fit(np.unique(X.addr_state))\n",
    "X.addr_state = addr_state.transform(X.addr_state)\n",
    "\n",
    "#Ordinal: orden de valores coincide con el orden alfanumerico; no hay NAs\n",
    "term = LabelEncoder()\n",
    "term.fit(np.unique(X.term))\n",
    "X.term = term.transform(X.term)\n",
    "\n",
    "#Binaria, no hay NAs - se le asigna aleatoriamente 0-1 \n",
    "initial_list_status = LabelEncoder()\n",
    "initial_list_status.fit(np.unique(X.initial_list_status))\n",
    "X.initial_list_status = initial_list_status.transform(X.initial_list_status)\n",
    "\n",
    "#Binaria, no hay NAs - se le asigna aleatoriamente 0-1 \n",
    "application_type = LabelEncoder()\n",
    "application_type.fit(np.unique(X.application_type))\n",
    "X.application_type = application_type.transform(X.application_type)"
   ]
  },
  {
   "cell_type": "markdown",
   "metadata": {},
   "source": [
    "## Dividimos en conjuntos de Entrenamiento, validación y test"
   ]
  },
  {
   "cell_type": "code",
   "execution_count": 41,
   "metadata": {
    "collapsed": true
   },
   "outputs": [],
   "source": [
    "from sklearn.model_selection import train_test_split\n",
    "# X_train_dev & Y_train_dev en estas variables están los de entrenamiento y validación\n",
    "X_train_dev,X_test,Y_train_dev,Y_test = train_test_split(X, Y, test_size=0.15) #aquí sacamos el 15% de test\n",
    "X_train,X_dev,Y_train,Y_dev = train_test_split(X_train_dev, Y_train_dev, test_size=0.15) #del 85% sacamos el 15% para validación (_dev)"
   ]
  },
  {
   "cell_type": "markdown",
   "metadata": {},
   "source": [
    "## Fuciones auxiliares que nos facilitarán la vida"
   ]
  },
  {
   "cell_type": "code",
   "execution_count": 43,
   "metadata": {
    "collapsed": true
   },
   "outputs": [],
   "source": [
    "from sklearn.metrics import classification_report, roc_auc_score, roc_curve\n",
    "\n",
    "def plot_roc(Y, Y_scores):\n",
    "    fpr, tpr, thresholds = roc_curve(Y, Y_scores, pos_label = 1)\n",
    "    plt.figure(1, figsize=(6,6))\n",
    "    plt.xlabel('Tasa falsos positivos')\n",
    "    plt.ylabel('Tasa verdaderos positivos')\n",
    "    plt.title('Curva ROC')\n",
    "    plt.plot(fpr, tpr)\n",
    "    plt.legend(loc=2, prop={'size':11})\n",
    "    plt.plot([0,1],[0,1], color = 'black')\n",
    "    \n",
    "    \n",
    "def eval_model(pipe, X_train, Y_train, X_test, Y_test):\n",
    "    pipe.fit(X_train, Y_train)\n",
    "    predicted_test = pipe.predict(X_test)\n",
    "    scores_test = pipe.predict_proba(X_test)[:,1] #necesitamos la probabilidad para dibujar el area bajo la curva\n",
    "    predicted_train = pipe.predict(X_train)\n",
    "    scores_train = pipe.predict_proba(X_train)[:,1]\n",
    "    print()\n",
    "    print(\"Evaluación en el conjunto de entrenamiento:\")\n",
    "    print(classification_report(Y_train, predicted_train))\n",
    "    print('Roc_auc_score:', roc_auc_score(Y_train, scores_train))\n",
    "    print()\n",
    "    print(\"Evaluación en el conjunto de validación:\")\n",
    "    print(classification_report(Y_test, predicted_test))\n",
    "    print('Roc_auc_score:', roc_auc_score(Y_test, scores_test))\n",
    "    plot_roc(Y_test, scores_test)"
   ]
  },
  {
   "cell_type": "markdown",
   "metadata": {},
   "source": [
    "## Naive Bayes\n",
    "\n",
    "*Evaluación del conjunto\n",
    "\n",
    "precision= tp/ (tp+fp)\n",
    "recall= tp/ (tp+tn)\n",
    "media armónica:\n",
    "f1= media armónica entre precisión y recall\n",
    "\n",
    "*Area bajo la curva = Roc_auc_score\n",
    "(tener en cuenta que para un clasificador tonto =0.5 por lo tanto hay que mejorar este valor)"
   ]
  },
  {
   "cell_type": "code",
   "execution_count": 44,
   "metadata": {},
   "outputs": [
    {
     "name": "stdout",
     "output_type": "stream",
     "text": [
      "\n",
      "Evaluación en el conjunto de entrenamiento:\n",
      "             precision    recall  f1-score   support\n",
      "\n",
      "          0       0.96      0.07      0.12    592453\n",
      "          1       0.08      0.96      0.14     48678\n",
      "\n",
      "avg / total       0.89      0.13      0.13    641131\n",
      "\n",
      "Roc_auc_score: 0.663476435717\n",
      "\n",
      "Evaluación en el conjunto de validación:\n",
      "             precision    recall  f1-score   support\n",
      "\n",
      "          0       0.95      0.07      0.12    104602\n",
      "          1       0.08      0.96      0.14      8539\n",
      "\n",
      "avg / total       0.89      0.13      0.13    113141\n",
      "\n",
      "Roc_auc_score: 0.663098524891\n"
     ]
    },
    {
     "data": {
      "image/png": "[encoded data removed]",
      "text/plain": [
       "<matplotlib.figure.Figure at 0x7f6bfb1bfdd8>"
      ]
     },
     "metadata": {},
     "output_type": "display_data"
    }
   ],
   "source": [
    "from sklearn.preprocessing import StandardScaler\n",
    "from sklearn.naive_bayes import GaussianNB\n",
    "from sklearn.preprocessing import Imputer\n",
    "from sklearn.preprocessing import OneHotEncoder\n",
    "from sklearn.pipeline import Pipeline\n",
    "\n",
    "categorical_features = ['home_ownership', 'verification_status', 'purpose', 'addr_state']\n",
    "\n",
    "pipe = Pipeline([\n",
    "    ('imp',Imputer()),   #sustituir variables por la media\n",
    "    ('ohe',OneHotEncoder(sparse=False, categorical_features=np.in1d(X.columns.get_values(),categorical_features))),\n",
    "    ('std',StandardScaler()),   #media 0 y desviación estándar 1\n",
    "    ('clf',GaussianNB())\n",
    "])\n",
    "eval_model(pipe, X_train, Y_train, X_dev, Y_dev)"
   ]
  },
  {
   "cell_type": "markdown",
   "metadata": {},
   "source": [
    "## Random Forest"
   ]
  },
  {
   "cell_type": "code",
   "execution_count": 45,
   "metadata": {},
   "outputs": [
    {
     "name": "stdout",
     "output_type": "stream",
     "text": [
      "\n",
      "Evaluación en el conjunto de entrenamiento:\n",
      "             precision    recall  f1-score   support\n",
      "\n",
      "          0       1.00      1.00      1.00    592453\n",
      "          1       1.00      0.99      1.00     48678\n",
      "\n",
      "avg / total       1.00      1.00      1.00    641131\n",
      "\n",
      "Roc_auc_score: 0.999999999584\n",
      "\n",
      "Evaluación en el conjunto de validación:\n",
      "             precision    recall  f1-score   support\n",
      "\n",
      "          0       0.93      1.00      0.96    104602\n",
      "          1       0.58      0.02      0.05      8539\n",
      "\n",
      "avg / total       0.90      0.93      0.89    113141\n",
      "\n",
      "Roc_auc_score: 0.770980131988\n"
     ]
    },
    {
     "data": {
      "image/png": "[encoded data removed]",
      "text/plain": [
       "<matplotlib.figure.Figure at 0x7f6bfc2b0e10>"
      ]
     },
     "metadata": {},
     "output_type": "display_data"
    }
   ],
   "source": [
    "from sklearn.ensemble import RandomForestClassifier\n",
    "\n",
    "pipe = Pipeline([\n",
    "    ('imp',Imputer()),\n",
    "    ('ohe',OneHotEncoder(sparse=False, categorical_features=np.in1d(X.columns.get_values(),categorical_features))),\n",
    "    ('std',StandardScaler()),\n",
    "    ('for',RandomForestClassifier(n_estimators=50))\n",
    "])\n",
    "eval_model(pipe, X_train, Y_train, X_dev, Y_dev)"
   ]
  },
  {
   "cell_type": "markdown",
   "metadata": {},
   "source": [
    "### Ejercicio\n",
    "Utiliza `GridSearchCV` para seleccionar el mejor valor para el hiperparámetro \"max_depth\" de `RandomForest`"
   ]
  },
  {
   "cell_type": "code",
   "execution_count": null,
   "metadata": {
    "collapsed": true
   },
   "outputs": [],
   "source": [
    "from sklearn.metrics import fl_score\n",
    "from sklearn.model_selection import GridSearchCV\n",
    "\n",
    "pipe = Pipeline([\n",
    "    ('imp',Imputer()),\n",
    "    ('ohe',OneHotEncoder(sparse=False, categorical_features=np.in1d(X.columns.get_values(),categorical_features))),\n",
    "    ('std',StandardScaler()),\n",
    "    ('for',RandomForestClassifier(n_estimators=50))\n",
    "])\n",
    "eval_model(pipe, X_train, Y_train, X_dev, Y_dev)\n",
    "\n"
   ]
  },
  {
   "cell_type": "markdown",
   "metadata": {},
   "source": [
    "# Problema de clasificación desequilibrada (Imbalanced Classification)\n",
    "\n",
    "* Métricas de evaluación: el porcentaje de aciertos (\"accuracy\") no tendrá sentido. Es preferible utilizar la métrica f1 de la clase minoritaria o el área bajo la curva ROC.\n",
    "* Técnicas de sobremuestreo del la clase minoritaria o submuestreo de la mayoritaria. Es muy importante tener en cuenta que en los conjuntos de validación y test debe mantenerse la distribución inicial.\n",
    "* SMOTE: sobremuestreo de la clase minoritaria mediante la creación de instancias sintéticas similares a las ya disponibles.\n",
    "* Los algoritmos de tipo ensemble (combinan varios clasificadores menos potentes para mejorar sus resultados) suelen funcionar bien con problemas desequilibrados, Random Forest y Boosting pertenecen a esta familia."
   ]
  },
  {
   "cell_type": "code",
   "execution_count": 18,
   "metadata": {},
   "outputs": [
    {
     "name": "stdout",
     "output_type": "stream",
     "text": [
      "Evaluation on trainig set\n",
      "             precision    recall  f1-score   support\n",
      "\n",
      "          0       1.00      1.00      1.00    592379\n",
      "          1       1.00      1.00      1.00    592379\n",
      "\n",
      "avg / total       1.00      1.00      1.00   1184758\n",
      "\n",
      "roc_auc_score 0.999999999667\n",
      "Evaluation on validation set\n",
      "             precision    recall  f1-score   support\n",
      "\n",
      "          0       0.93      0.97      0.95    123046\n",
      "          1       0.33      0.17      0.22     10061\n",
      "\n",
      "avg / total       0.89      0.91      0.90    133107\n",
      "\n",
      "roc_auc_score 0.769657179449\n"
     ]
    },
    {
     "data": {
      "text/plain": [
       "[<matplotlib.lines.Line2D at 0x7f828ec0d780>]"
      ]
     },
     "execution_count": 18,
     "metadata": {},
     "output_type": "execute_result"
    },
    {
     "data": {
      "image/png": "[encoded data removed]",
      "text/plain": [
       "<matplotlib.figure.Figure at 0x7f828ec40e48>"
      ]
     },
     "metadata": {},
     "output_type": "display_data"
    }
   ],
   "source": [
    "from imblearn.over_sampling import SMOTE\n",
    "\n",
    "imputer = Imputer()\n",
    "onehot_encoder = OneHotEncoder(sparse=False, categorical_features=np.in1d(X.columns.get_values(),categorical_features))\n",
    "std_scaler = StandardScaler()\n",
    "\n",
    "clf = RandomForestClassifier(n_estimators=50)\n",
    "\n",
    "X_train2 = imputer.fit_transform(X_train)\n",
    "X_train2 = onehot_encoder.fit_transform(X_train2)\n",
    "X_train2 = std_scaler.fit_transform(X_train2)\n",
    "X_train2, Y_train2 = SMOTE().fit_sample(X_train2, Y_train)\n",
    "clf.fit(X_train2, Y_train2)\n",
    "\n",
    "Y_train_predicted = clf.predict(X_train2)\n",
    "Y_train_scores = clf.predict_proba(X_train2)[:,1]\n",
    "print(\"Evaluation on trainig set\")\n",
    "print(classification_report(Y_train2, Y_train_predicted))\n",
    "print('roc_auc_score', roc_auc_score(Y_train2, Y_train_scores))\n",
    "\n",
    "X_test2 = imputer.transform(X_test)\n",
    "X_test2 = onehot_encoder.transform(X_test2)\n",
    "X_test2 = std_scaler.transform(X_test2)\n",
    "Y_test_predicted = clf.predict(X_test2)\n",
    "Y_test_scores = clf.predict_proba(X_test2)[:,1]\n",
    "print(\"Evaluation on validation set\")\n",
    "print(classification_report(Y_test, Y_test_predicted))\n",
    "print('roc_auc_score', roc_auc_score(Y_test, Y_test_scores))\n",
    "\n",
    "fpr, tpr, thresholds = roc_curve(Y_test, Y_test_scores, drop_intermediate = False, pos_label = 1)\n",
    "plt.figure(1, figsize=(6,6))\n",
    "plt.xlabel('false positive rate')\n",
    "plt.ylabel('true positive rate')\n",
    "plt.title('ROC curve')\n",
    "plt.plot(fpr, tpr)\n",
    "plt.legend(loc=2, prop={'size':11})\n",
    "plt.plot([0,1],[0,1], color = 'black')"
   ]
  },
  {
   "cell_type": "markdown",
   "metadata": {},
   "source": [
    "\n",
    "## Selección de rasgos\n",
    "\n",
    "NOS QUEDAMOS CON LAS MEJORES COLUMNAS\n"
   ]
  },
  {
   "cell_type": "code",
   "execution_count": 46,
   "metadata": {},
   "outputs": [
    {
     "name": "stderr",
     "output_type": "stream",
     "text": [
      "/home/usuario/miniconda3/lib/python3.6/site-packages/sklearn/feature_selection/univariate_selection.py:113: UserWarning: Features [25] are constant.\n",
      "  UserWarning)\n",
      "/home/usuario/miniconda3/lib/python3.6/site-packages/sklearn/feature_selection/univariate_selection.py:114: RuntimeWarning: invalid value encountered in true_divide\n",
      "  f = msb / msw\n"
     ]
    },
    {
     "name": "stdout",
     "output_type": "stream",
     "text": [
      "\n",
      "Evaluación en el conjunto de entrenamiento:\n",
      "             precision    recall  f1-score   support\n",
      "\n",
      "          0       1.00      1.00      1.00    592453\n",
      "          1       1.00      0.98      0.99     48678\n",
      "\n",
      "avg / total       1.00      1.00      1.00    641131\n",
      "\n",
      "Roc_auc_score: 0.999993377053\n",
      "\n",
      "Evaluación en el conjunto de validación:\n",
      "             precision    recall  f1-score   support\n",
      "\n",
      "          0       0.93      0.99      0.96    104602\n",
      "          1       0.16      0.03      0.05      8539\n",
      "\n",
      "avg / total       0.87      0.92      0.89    113141\n",
      "\n",
      "Roc_auc_score: 0.703545954869\n"
     ]
    },
    {
     "data": {
      "image/png": "[encoded data removed]",
      "text/plain": [
       "<matplotlib.figure.Figure at 0x7f6bfc242fd0>"
      ]
     },
     "metadata": {},
     "output_type": "display_data"
    }
   ],
   "source": [
    "from sklearn.feature_selection import SelectKBest, f_classif\n",
    "\n",
    "pipe = Pipeline([\n",
    "    ('imp', Imputer()),\n",
    "    ('std', StandardScaler()),\n",
    "    ('select_feat', SelectKBest(f_classif, k=10)),\n",
    "    ('class', RandomForestClassifier(n_estimators=50))\n",
    "])\n",
    "eval_model(pipe, X_train, Y_train, X_dev, Y_dev)"
   ]
  },
  {
   "cell_type": "code",
   "execution_count": null,
   "metadata": {
    "collapsed": true
   },
   "outputs": [],
   "source": []
  }
 ],
 "metadata": {
  "kernelspec": {
   "display_name": "Python 3",
   "language": "python",
   "name": "python3"
  },
  "language_info": {
   "codemirror_mode": {
    "name": "ipython",
    "version": 3
   },
   "file_extension": ".py",
   "mimetype": "text/x-python",
   "name": "python",
   "nbconvert_exporter": "python",
   "pygments_lexer": "ipython3",
   "version": "3.6.3"
  }
 },
 "nbformat": 4,
 "nbformat_minor": 2
}
